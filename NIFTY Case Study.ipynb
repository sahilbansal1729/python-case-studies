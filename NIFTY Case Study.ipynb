{
 "metadata": {
  "language_info": {
   "codemirror_mode": {
    "name": "ipython",
    "version": 3
   },
   "file_extension": ".py",
   "mimetype": "text/x-python",
   "name": "python",
   "nbconvert_exporter": "python",
   "pygments_lexer": "ipython3",
   "version": "3.8.5-final"
  },
  "orig_nbformat": 2,
  "kernelspec": {
   "name": "python3",
   "display_name": "Python 3.8.5 64-bit",
   "metadata": {
    "interpreter": {
     "hash": "bd9b9fa2e01573c04c615c80eb9deceb460a08e7f2fed43cdd24f3a908b6f3b1"
    }
   }
  }
 },
 "nbformat": 4,
 "nbformat_minor": 2,
 "cells": [
  {
   "source": [
    "# What is NIFTY\n",
    "NIFTY is a market index introduced by National Stock Exchange. NIFTY 50 is a benchmark based index and also the flagship of NSE, which showcases the top 50 equity stocks traded in the stock exchange out of a total of 1600 stocks. It basicaly gives the idea of status of stock market."
   ],
   "cell_type": "markdown",
   "metadata": {}
  },
  {
   "source": [
    "## Problem Data\n",
    "We have NIFTY data for year 2019. Its basically a csv file having two columns vise Date and Closing stock price on that particular date. Let's first see how this data looks like than we will have multiple problems based on this data with subsequent solutions."
   ],
   "cell_type": "markdown",
   "metadata": {}
  },
  {
   "source": [
    "## Libraries Used\n",
    "1. Numpy\n",
    "2. Pandas"
   ],
   "cell_type": "markdown",
   "metadata": {}
  },
  {
   "cell_type": "code",
   "execution_count": 13,
   "metadata": {},
   "outputs": [],
   "source": [
    "import numpy as np\n",
    "import pandas as pd"
   ]
  },
  {
   "cell_type": "code",
   "execution_count": 23,
   "metadata": {},
   "outputs": [],
   "source": [
    "nifty = pd.read_csv('nifty.csv', index_col = 0).iloc[:, 0]\n",
    "#now we have used pandas inbuilt function to read csv file\n",
    "#basically we are taking 0 column as index column which is date and than to make series of this dataframe we are reading first column only using <iloc[:, 0]>"
   ]
  },
  {
   "cell_type": "code",
   "execution_count": 26,
   "metadata": {},
   "outputs": [
    {
     "output_type": "execute_result",
     "data": {
      "text/plain": [
       "Date\n",
       "01-Jan-2019    10910.10\n",
       "02-Jan-2019    10792.50\n",
       "03-Jan-2019    10672.25\n",
       "04-Jan-2019    10727.35\n",
       "07-Jan-2019    10771.80\n",
       "                 ...   \n",
       "24-Dec-2019    12214.55\n",
       "26-Dec-2019    12126.55\n",
       "27-Dec-2019    12245.80\n",
       "30-Dec-2019    12255.85\n",
       "31-Dec-2019    12168.45\n",
       "Name: Close, Length: 245, dtype: float64"
      ]
     },
     "metadata": {},
     "execution_count": 26
    }
   ],
   "source": [
    "nifty\n",
    "#this is how our data looks like"
   ]
  },
  {
   "cell_type": "code",
   "execution_count": 28,
   "metadata": {},
   "outputs": [
    {
     "output_type": "execute_result",
     "data": {
      "text/plain": [
       "Date\n",
       "01-Jan-2019    10910.10\n",
       "02-Jan-2019    10792.50\n",
       "03-Jan-2019    10672.25\n",
       "04-Jan-2019    10727.35\n",
       "07-Jan-2019    10771.80\n",
       "08-Jan-2019    10802.15\n",
       "09-Jan-2019    10855.15\n",
       "10-Jan-2019    10821.60\n",
       "11-Jan-2019    10794.95\n",
       "14-Jan-2019    10737.60\n",
       "15-Jan-2019    10886.80\n",
       "16-Jan-2019    10890.30\n",
       "17-Jan-2019    10905.20\n",
       "18-Jan-2019    10906.95\n",
       "21-Jan-2019    10961.85\n",
       "Name: Close, dtype: float64"
      ]
     },
     "metadata": {},
     "execution_count": 28
    }
   ],
   "source": [
    "nifty.head(15)\n",
    "#reading first 15 values"
   ]
  },
  {
   "cell_type": "code",
   "execution_count": 30,
   "metadata": {},
   "outputs": [
    {
     "output_type": "execute_result",
     "data": {
      "text/plain": [
       "Date\n",
       "10-Dec-2019    11856.80\n",
       "11-Dec-2019    11910.15\n",
       "12-Dec-2019    11971.80\n",
       "13-Dec-2019    12086.70\n",
       "16-Dec-2019    12053.95\n",
       "17-Dec-2019    12165.00\n",
       "18-Dec-2019    12221.65\n",
       "19-Dec-2019    12259.70\n",
       "20-Dec-2019    12271.80\n",
       "23-Dec-2019    12262.75\n",
       "24-Dec-2019    12214.55\n",
       "26-Dec-2019    12126.55\n",
       "27-Dec-2019    12245.80\n",
       "30-Dec-2019    12255.85\n",
       "31-Dec-2019    12168.45\n",
       "Name: Close, dtype: float64"
      ]
     },
     "metadata": {},
     "execution_count": 30
    }
   ],
   "source": [
    "nifty.tail(15)\n",
    "#reading last 15 values"
   ]
  },
  {
   "source": [
    "Now we know how our data looks like. Let's move to our tasks now.\n",
    "### Task 1\n",
    "What fraction of days did the markets close higher than the previous day's close"
   ],
   "cell_type": "markdown",
   "metadata": {}
  },
  {
   "cell_type": "code",
   "execution_count": 33,
   "metadata": {},
   "outputs": [
    {
     "output_type": "execute_result",
     "data": {
      "text/plain": [
       "Date\n",
       "01-Apr-2019    0.0\n",
       "01-Aug-2019    0.0\n",
       "01-Feb-2019    0.0\n",
       "01-Jan-2019    NaN\n",
       "01-Jul-2019    0.0\n",
       "              ... \n",
       "31-Dec-2019    NaN\n",
       "31-Jan-2019    0.0\n",
       "31-Jul-2019    0.0\n",
       "31-May-2019    0.0\n",
       "31-Oct-2019    0.0\n",
       "Name: Close, Length: 245, dtype: float64"
      ]
     },
     "metadata": {},
     "execution_count": 33
    }
   ],
   "source": [
    "nifty[1:] - nifty[:-1]\n",
    "#this approach will not give us right results as we need to substract closing day values from their previous day values but using above snippet we are subtracting same days hence getting zero and null values. "
   ]
  },
  {
   "cell_type": "code",
   "execution_count": 35,
   "metadata": {},
   "outputs": [
    {
     "output_type": "execute_result",
     "data": {
      "text/plain": [
       "0.526530612244898"
      ]
     },
     "metadata": {},
     "execution_count": 35
    }
   ],
   "source": [
    "np.sum((nifty.values[1:]-nifty.values[0:-1]>0)/len(nifty))\n",
    "#Here we are subtracting values taking average our total no. days i.e. length of nifty"
   ]
  },
  {
   "source": [
    "### Task 2\n",
    "Compute moving average of the last 5 days.\n",
    "Means calculate the changing average stock price for consecutive 5 days."
   ],
   "cell_type": "markdown",
   "metadata": {}
  },
  {
   "cell_type": "code",
   "execution_count": 36,
   "metadata": {},
   "outputs": [
    {
     "output_type": "execute_result",
     "data": {
      "text/plain": [
       "Date\n",
       "01-Jan-2019    10910.10\n",
       "02-Jan-2019    10792.50\n",
       "03-Jan-2019    10672.25\n",
       "04-Jan-2019    10727.35\n",
       "07-Jan-2019    10771.80\n",
       "                 ...   \n",
       "24-Dec-2019    12214.55\n",
       "26-Dec-2019    12126.55\n",
       "27-Dec-2019    12245.80\n",
       "30-Dec-2019    12255.85\n",
       "31-Dec-2019    12168.45\n",
       "Name: Close, Length: 245, dtype: float64"
      ]
     },
     "metadata": {},
     "execution_count": 36
    }
   ],
   "source": [
    "#refer to this link https://forum.onefourthlabs.com/t/nifty-case-study/7176/4 if you have done the PadhAI FDS course else ignore it and see the solution below\n",
    "nifty"
   ]
  },
  {
   "cell_type": "code",
   "execution_count": 40,
   "metadata": {},
   "outputs": [
    {
     "output_type": "execute_result",
     "data": {
      "text/plain": [
       "'01-Jan-2019'"
      ]
     },
     "metadata": {},
     "execution_count": 40
    }
   ],
   "source": [
    "nifty.index[0]"
   ]
  },
  {
   "cell_type": "code",
   "execution_count": 44,
   "metadata": {},
   "outputs": [],
   "source": [
    "d = pd.Timestamp(nifty.index[0])\n",
    "#this is pandas inbuilt function in replacement of Pandas datetime function basically to use datetime based index values"
   ]
  },
  {
   "cell_type": "code",
   "execution_count": 45,
   "metadata": {},
   "outputs": [
    {
     "output_type": "execute_result",
     "data": {
      "text/plain": [
       "Timestamp('2019-01-01 00:00:00')"
      ]
     },
     "metadata": {},
     "execution_count": 45
    }
   ],
   "source": [
    "d"
   ]
  },
  {
   "cell_type": "code",
   "execution_count": 47,
   "metadata": {},
   "outputs": [
    {
     "output_type": "execute_result",
     "data": {
      "text/plain": [
       "1"
      ]
     },
     "metadata": {},
     "execution_count": 47
    }
   ],
   "source": [
    "d.dayofweek\n",
    "#returns day of week"
   ]
  },
  {
   "cell_type": "code",
   "execution_count": 49,
   "metadata": {},
   "outputs": [],
   "source": [
    "new_index = map(pd.Timestamp , nifty.index)"
   ]
  },
  {
   "cell_type": "code",
   "execution_count": 52,
   "metadata": {},
   "outputs": [],
   "source": [
    "new_nifty = pd.Series(nifty , index = new_index)"
   ]
  },
  {
   "cell_type": "code",
   "execution_count": 53,
   "metadata": {},
   "outputs": [
    {
     "output_type": "execute_result",
     "data": {
      "text/plain": [
       "2019-01-01    10910.10\n",
       "2019-01-02    10792.50\n",
       "2019-01-03    10672.25\n",
       "2019-01-04    10727.35\n",
       "2019-01-07    10771.80\n",
       "                ...   \n",
       "2019-12-24    12214.55\n",
       "2019-12-26    12126.55\n",
       "2019-12-27    12245.80\n",
       "2019-12-30    12255.85\n",
       "2019-12-31    12168.45\n",
       "Name: Close, Length: 245, dtype: float64"
      ]
     },
     "metadata": {},
     "execution_count": 53
    }
   ],
   "source": [
    "new_nifty"
   ]
  },
  {
   "cell_type": "code",
   "execution_count": 56,
   "metadata": {},
   "outputs": [
    {
     "output_type": "execute_result",
     "data": {
      "text/plain": [
       "2019-01-01         NaN\n",
       "2019-01-02         NaN\n",
       "2019-01-03         NaN\n",
       "2019-01-04         NaN\n",
       "2019-01-07    10774.80\n",
       "                ...   \n",
       "2019-12-24    12246.09\n",
       "2019-12-26    12227.07\n",
       "2019-12-27    12224.29\n",
       "2019-12-30    12221.10\n",
       "2019-12-31    12202.24\n",
       "Name: Close, Length: 245, dtype: float64"
      ]
     },
     "metadata": {},
     "execution_count": 56
    }
   ],
   "source": [
    "new_nifty.rolling(5).mean()\n",
    "#rolling function is taking 5 values at a time. First four values are NaN as there are not enough values."
   ]
  },
  {
   "source": [
    "### Task 3\n",
    "Subset the data to include only data for Fridays"
   ],
   "cell_type": "markdown",
   "metadata": {}
  },
  {
   "cell_type": "code",
   "execution_count": 59,
   "metadata": {},
   "outputs": [
    {
     "output_type": "execute_result",
     "data": {
      "text/plain": [
       "Date\n",
       "04-Jan-2019    10727.35\n",
       "11-Jan-2019    10794.95\n",
       "18-Jan-2019    10906.95\n",
       "25-Jan-2019    10780.55\n",
       "01-Feb-2019    10893.65\n",
       "08-Feb-2019    10943.60\n",
       "15-Feb-2019    10724.40\n",
       "22-Feb-2019    10791.65\n",
       "01-Mar-2019    10863.50\n",
       "08-Mar-2019    11035.40\n",
       "15-Mar-2019    11426.85\n",
       "22-Mar-2019    11456.90\n",
       "29-Mar-2019    11623.90\n",
       "05-Apr-2019    11665.95\n",
       "12-Apr-2019    11643.45\n",
       "26-Apr-2019    11754.65\n",
       "03-May-2019    11712.25\n",
       "10-May-2019    11278.90\n",
       "17-May-2019    11407.15\n",
       "24-May-2019    11844.10\n",
       "31-May-2019    11922.80\n",
       "07-Jun-2019    11870.65\n",
       "14-Jun-2019    11823.30\n",
       "21-Jun-2019    11724.10\n",
       "28-Jun-2019    11788.85\n",
       "05-Jul-2019    11811.15\n",
       "12-Jul-2019    11552.50\n",
       "19-Jul-2019    11419.25\n",
       "26-Jul-2019    11284.30\n",
       "02-Aug-2019    10997.35\n",
       "09-Aug-2019    11109.65\n",
       "16-Aug-2019    11047.80\n",
       "23-Aug-2019    10829.35\n",
       "30-Aug-2019    11023.25\n",
       "06-Sep-2019    10946.20\n",
       "13-Sep-2019    11075.90\n",
       "20-Sep-2019    11274.20\n",
       "27-Sep-2019    11512.40\n",
       "04-Oct-2019    11174.75\n",
       "11-Oct-2019    11305.05\n",
       "18-Oct-2019    11661.85\n",
       "25-Oct-2019    11583.90\n",
       "01-Nov-2019    11890.60\n",
       "08-Nov-2019    11908.15\n",
       "15-Nov-2019    11895.45\n",
       "22-Nov-2019    11914.40\n",
       "29-Nov-2019    12056.05\n",
       "06-Dec-2019    11921.50\n",
       "13-Dec-2019    12086.70\n",
       "20-Dec-2019    12271.80\n",
       "27-Dec-2019    12245.80\n",
       "Name: Close, dtype: float64"
      ]
     },
     "metadata": {},
     "execution_count": 59
    }
   ],
   "source": [
    "nifty[new_nifty.index.dayofweek ==4]\n",
    "#dayofweek: 0 = Monday ; 1 = Tuesday and so on"
   ]
  },
  {
   "cell_type": "code",
   "execution_count": null,
   "metadata": {},
   "outputs": [],
   "source": []
  }
 ]
}