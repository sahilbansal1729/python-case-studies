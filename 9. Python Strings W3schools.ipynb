{
 "metadata": {
  "language_info": {
   "codemirror_mode": {
    "name": "ipython",
    "version": 3
   },
   "file_extension": ".py",
   "mimetype": "text/x-python",
   "name": "python",
   "nbconvert_exporter": "python",
   "pygments_lexer": "ipython3",
   "version": "3.8.3-final"
  },
  "orig_nbformat": 2,
  "kernelspec": {
   "name": "python383jvsc74a57bd0a1b4f4b5b59d091f24ed8aad52614a3516ad0de64d607555a43675d2b4fd5eeb",
   "display_name": "Python 3.8.3 64-bit (conda)"
  }
 },
 "nbformat": 4,
 "nbformat_minor": 2,
 "cells": [
  {
   "source": [
    "Write a Python program to count the number of characters (character frequency) in a string."
   ],
   "cell_type": "markdown",
   "metadata": {}
  },
  {
   "cell_type": "code",
   "execution_count": 1,
   "metadata": {},
   "outputs": [
    {
     "output_type": "stream",
     "name": "stdout",
     "text": [
      "Counter({'a': 4, 'l': 4, 'n': 3, 'd': 3, 'k': 2, 'f': 2, 'h': 2, 'j': 1, 'i': 1, 'g': 1, 'b': 1, 'e': 1})\n"
     ]
    }
   ],
   "source": [
    "from collections import Counter\n",
    "sample_str = \"nkjalnaldfihadglnadklfbeh\"\n",
    "print(Counter(sample_str))"
   ]
  },
  {
   "cell_type": "code",
   "execution_count": 7,
   "metadata": {},
   "outputs": [
    {
     "output_type": "stream",
     "name": "stdout",
     "text": [
      "{'n': 3, 'k': 2, 'j': 1, 'a': 4, 'l': 4, 'd': 3, 'f': 2, 'i': 1, 'h': 2, 'g': 1, 'b': 1, 'e': 1}\n"
     ]
    }
   ],
   "source": [
    "count = {}\n",
    "for alphabet in sample_str:\n",
    "        count.setdefault(alphabet , 0)\n",
    "        count[alphabet] += 1\n",
    "print(count)"
   ]
  }
 ]
}