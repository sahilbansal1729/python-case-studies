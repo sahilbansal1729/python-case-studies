{
 "cells": [
  {
   "cell_type": "markdown",
   "metadata": {},
   "source": [
    "Write a Python program to count the number of characters (character frequency) in a string."
   ]
  },
  {
   "cell_type": "code",
   "execution_count": 17,
   "metadata": {},
   "outputs": [],
   "source": [
    "from collections import Counter\n",
    "sample_str = \"nkjalnaldfihadglnadklfbeh\""
   ]
  },
  {
   "cell_type": "code",
   "execution_count": 18,
   "metadata": {},
   "outputs": [
    {
     "name": "stdout",
     "output_type": "stream",
     "text": [
      "Counter({'a': 4, 'l': 4, 'n': 3, 'd': 3, 'k': 2, 'f': 2, 'h': 2, 'j': 1, 'i': 1, 'g': 1, 'b': 1, 'e': 1})\n"
     ]
    }
   ],
   "source": [
    "#1\n",
    "print(Counter(sample_str))"
   ]
  },
  {
   "cell_type": "code",
   "execution_count": 19,
   "metadata": {},
   "outputs": [
    {
     "name": "stdout",
     "output_type": "stream",
     "text": [
      "{'n': 3, 'k': 2, 'j': 1, 'a': 4, 'l': 4, 'd': 3, 'f': 2, 'i': 1, 'h': 2, 'g': 1, 'b': 1, 'e': 1}\n"
     ]
    }
   ],
   "source": [
    "#2\n",
    "count = {}\n",
    "for alphabet in sample_str:\n",
    "        count.setdefault(alphabet , 0)\n",
    "        count[alphabet] += 1\n",
    "print(count)"
   ]
  },
  {
   "cell_type": "code",
   "execution_count": 20,
   "metadata": {},
   "outputs": [
    {
     "name": "stdout",
     "output_type": "stream",
     "text": [
      "{'l': 4, 'b': 1, 'k': 2, 'h': 2, 'i': 1, 'g': 1, 'e': 1, 'n': 3, 'f': 2, 'd': 3, 'a': 4, 'j': 1}\n"
     ]
    }
   ],
   "source": [
    "#3\n",
    "count = {}\n",
    "for element in set(sample_str):\n",
    "    count[element] = sample_str.count(element)\n",
    "print(count)"
   ]
  },
  {
   "cell_type": "markdown",
   "metadata": {},
   "source": [
    "Get a string made of the first 2 and the last 2 chars from a given a string"
   ]
  },
  {
   "cell_type": "code",
   "execution_count": 27,
   "metadata": {},
   "outputs": [
    {
     "name": "stdout",
     "output_type": "stream",
     "text": [
      "faso\n"
     ]
    }
   ],
   "source": [
    "given_string = \"fasfkjasos\"\n",
    "print(given_string[0:2] + given_string[-3:-1])"
   ]
  },
  {
   "cell_type": "markdown",
   "metadata": {},
   "source": [
    "Get a string from a given string where all occurrences of its first char have been changed to '$', except the first char itself"
   ]
  },
  {
   "cell_type": "markdown",
   "metadata": {},
   "source": [
    "I am taking break from this notebook. I think these problems are too basic. Look at my python challenges repositry."
   ]
  }
 ],
 "metadata": {
  "kernelspec": {
   "display_name": "Python 3",
   "language": "python",
   "name": "python3"
  },
  "language_info": {
   "codemirror_mode": {
    "name": "ipython",
    "version": 3
   },
   "file_extension": ".py",
   "mimetype": "text/x-python",
   "name": "python",
   "nbconvert_exporter": "python",
   "pygments_lexer": "ipython3",
   "version": "3.8.3"
  }
 },
 "nbformat": 4,
 "nbformat_minor": 2
}
