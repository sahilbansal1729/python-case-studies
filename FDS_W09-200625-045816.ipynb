{
 "cells": [
  {
   "cell_type": "code",
   "execution_count": 1,
   "metadata": {
    "colab": {},
    "colab_type": "code",
    "executionInfo": {
     "elapsed": 1210,
     "status": "ok",
     "timestamp": 1592821486618,
     "user": {
      "displayName": "PadhAI FDS",
      "photoUrl": "https://lh3.googleusercontent.com/a-/AOh14Gh8aWLOeF6MNJzb9_wadSluUosxW_XG64hmyjrP=s64",
      "userId": "06149814316635818851"
     },
     "user_tz": -330
    },
    "id": "5dYnP3k0a62u"
   },
   "outputs": [],
   "source": [
    "import numpy as np\n",
    "import pandas as pd"
   ]
  },
  {
   "cell_type": "markdown",
   "metadata": {
    "colab_type": "text",
    "id": "PlX-3-tEbt1H"
   },
   "source": [
    "# Creating Series Objects"
   ]
  },
  {
   "cell_type": "code",
   "execution_count": 2,
   "metadata": {
    "colab": {},
    "colab_type": "code",
    "executionInfo": {
     "elapsed": 1202,
     "status": "ok",
     "timestamp": 1592821486619,
     "user": {
      "displayName": "PadhAI FDS",
      "photoUrl": "https://lh3.googleusercontent.com/a-/AOh14Gh8aWLOeF6MNJzb9_wadSluUosxW_XG64hmyjrP=s64",
      "userId": "06149814316635818851"
     },
     "user_tz": -330
    },
    "id": "bdlgqbE-bswa"
   },
   "outputs": [],
   "source": [
    "s = pd.Series([0, 1, 1, 2, 3, 5, 8])"
   ]
  },
  {
   "cell_type": "code",
   "execution_count": 3,
   "metadata": {
    "colab": {
     "base_uri": "https://localhost:8080/",
     "height": 171
    },
    "colab_type": "code",
    "executionInfo": {
     "elapsed": 1184,
     "status": "ok",
     "timestamp": 1592821486620,
     "user": {
      "displayName": "PadhAI FDS",
      "photoUrl": "https://lh3.googleusercontent.com/a-/AOh14Gh8aWLOeF6MNJzb9_wadSluUosxW_XG64hmyjrP=s64",
      "userId": "06149814316635818851"
     },
     "user_tz": -330
    },
    "id": "uxmrKB1kb_CG",
    "outputId": "cb228fd8-de84-4dbf-f889-c65536b78670"
   },
   "outputs": [
    {
     "name": "stdout",
     "output_type": "stream",
     "text": [
      "0    0\n",
      "1    1\n",
      "2    1\n",
      "3    2\n",
      "4    3\n",
      "5    5\n",
      "6    8\n",
      "dtype: int64\n"
     ]
    }
   ],
   "source": [
    "print(s)"
   ]
  },
  {
   "cell_type": "code",
   "execution_count": 4,
   "metadata": {
    "colab": {},
    "colab_type": "code",
    "executionInfo": {
     "elapsed": 1181,
     "status": "ok",
     "timestamp": 1592821486622,
     "user": {
      "displayName": "PadhAI FDS",
      "photoUrl": "https://lh3.googleusercontent.com/a-/AOh14Gh8aWLOeF6MNJzb9_wadSluUosxW_XG64hmyjrP=s64",
      "userId": "06149814316635818851"
     },
     "user_tz": -330
    },
    "id": "44n0O269cAOZ"
   },
   "outputs": [],
   "source": [
    "s = pd.Series([0.0, 1, 1, 2, 3, 5, 8])"
   ]
  },
  {
   "cell_type": "code",
   "execution_count": 5,
   "metadata": {
    "colab": {
     "base_uri": "https://localhost:8080/",
     "height": 171
    },
    "colab_type": "code",
    "executionInfo": {
     "elapsed": 1163,
     "status": "ok",
     "timestamp": 1592821486622,
     "user": {
      "displayName": "PadhAI FDS",
      "photoUrl": "https://lh3.googleusercontent.com/a-/AOh14Gh8aWLOeF6MNJzb9_wadSluUosxW_XG64hmyjrP=s64",
      "userId": "06149814316635818851"
     },
     "user_tz": -330
    },
    "id": "4sFPnWf8cKy_",
    "outputId": "cc9eab68-aa0b-4efd-ec44-c8642d1c087a"
   },
   "outputs": [
    {
     "name": "stdout",
     "output_type": "stream",
     "text": [
      "0    0.0\n",
      "1    1.0\n",
      "2    1.0\n",
      "3    2.0\n",
      "4    3.0\n",
      "5    5.0\n",
      "6    8.0\n",
      "dtype: float64\n"
     ]
    }
   ],
   "source": [
    "print(s)"
   ]
  },
  {
   "cell_type": "code",
   "execution_count": 6,
   "metadata": {
    "colab": {
     "base_uri": "https://localhost:8080/",
     "height": 36
    },
    "colab_type": "code",
    "executionInfo": {
     "elapsed": 1145,
     "status": "ok",
     "timestamp": 1592821486622,
     "user": {
      "displayName": "PadhAI FDS",
      "photoUrl": "https://lh3.googleusercontent.com/a-/AOh14Gh8aWLOeF6MNJzb9_wadSluUosxW_XG64hmyjrP=s64",
      "userId": "06149814316635818851"
     },
     "user_tz": -330
    },
    "id": "0fnbry9pcLrx",
    "outputId": "1671e982-bb57-4856-83a2-d99430e30931"
   },
   "outputs": [
    {
     "data": {
      "text/plain": [
       "array([0., 1., 1., 2., 3., 5., 8.])"
      ]
     },
     "execution_count": 6,
     "metadata": {},
     "output_type": "execute_result"
    }
   ],
   "source": [
    "s.values"
   ]
  },
  {
   "cell_type": "code",
   "execution_count": 7,
   "metadata": {
    "colab": {
     "base_uri": "https://localhost:8080/",
     "height": 36
    },
    "colab_type": "code",
    "executionInfo": {
     "elapsed": 1129,
     "status": "ok",
     "timestamp": 1592821486624,
     "user": {
      "displayName": "PadhAI FDS",
      "photoUrl": "https://lh3.googleusercontent.com/a-/AOh14Gh8aWLOeF6MNJzb9_wadSluUosxW_XG64hmyjrP=s64",
      "userId": "06149814316635818851"
     },
     "user_tz": -330
    },
    "id": "_HInh9J1cUHc",
    "outputId": "2703c03c-b767-4de7-ad89-ea56a9d041e2"
   },
   "outputs": [
    {
     "data": {
      "text/plain": [
       "RangeIndex(start=0, stop=7, step=1)"
      ]
     },
     "execution_count": 7,
     "metadata": {},
     "output_type": "execute_result"
    }
   ],
   "source": [
    "s.index"
   ]
  },
  {
   "cell_type": "code",
   "execution_count": 8,
   "metadata": {
    "colab": {
     "base_uri": "https://localhost:8080/",
     "height": 152
    },
    "colab_type": "code",
    "executionInfo": {
     "elapsed": 1117,
     "status": "ok",
     "timestamp": 1592821486624,
     "user": {
      "displayName": "PadhAI FDS",
      "photoUrl": "https://lh3.googleusercontent.com/a-/AOh14Gh8aWLOeF6MNJzb9_wadSluUosxW_XG64hmyjrP=s64",
      "userId": "06149814316635818851"
     },
     "user_tz": -330
    },
    "id": "hgT3xuGPcXXF",
    "outputId": "ca3be19b-53f9-4a4b-dd33-a992d873e23e"
   },
   "outputs": [
    {
     "name": "stdout",
     "output_type": "stream",
     "text": [
      "0.0\n",
      "1.0\n",
      "1.0\n",
      "2.0\n",
      "3.0\n",
      "5.0\n",
      "8.0\n"
     ]
    }
   ],
   "source": [
    "for v in s.values:\n",
    "    print(v)"
   ]
  },
  {
   "cell_type": "code",
   "execution_count": 9,
   "metadata": {
    "colab": {
     "base_uri": "https://localhost:8080/",
     "height": 152
    },
    "colab_type": "code",
    "executionInfo": {
     "elapsed": 1105,
     "status": "ok",
     "timestamp": 1592821486625,
     "user": {
      "displayName": "PadhAI FDS",
      "photoUrl": "https://lh3.googleusercontent.com/a-/AOh14Gh8aWLOeF6MNJzb9_wadSluUosxW_XG64hmyjrP=s64",
      "userId": "06149814316635818851"
     },
     "user_tz": -330
    },
    "id": "rCwm52v0cc3K",
    "outputId": "1c161ae4-cd34-417a-c17a-b47173b2dc5b"
   },
   "outputs": [
    {
     "name": "stdout",
     "output_type": "stream",
     "text": [
      "0\n",
      "1\n",
      "2\n",
      "3\n",
      "4\n",
      "5\n",
      "6\n"
     ]
    }
   ],
   "source": [
    "for i in s.index:\n",
    "    print(i)"
   ]
  },
  {
   "cell_type": "code",
   "execution_count": 10,
   "metadata": {
    "colab": {
     "base_uri": "https://localhost:8080/",
     "height": 152
    },
    "colab_type": "code",
    "executionInfo": {
     "elapsed": 1088,
     "status": "ok",
     "timestamp": 1592821486626,
     "user": {
      "displayName": "PadhAI FDS",
      "photoUrl": "https://lh3.googleusercontent.com/a-/AOh14Gh8aWLOeF6MNJzb9_wadSluUosxW_XG64hmyjrP=s64",
      "userId": "06149814316635818851"
     },
     "user_tz": -330
    },
    "id": "FE1yBnb7cemn",
    "outputId": "549ef73b-fbb2-4df7-9a26-1a1e6a9a5968"
   },
   "outputs": [
    {
     "name": "stdout",
     "output_type": "stream",
     "text": [
      "(0, 0.0)\n",
      "(1, 1.0)\n",
      "(2, 1.0)\n",
      "(3, 2.0)\n",
      "(4, 3.0)\n",
      "(5, 5.0)\n",
      "(6, 8.0)\n"
     ]
    }
   ],
   "source": [
    "for item in zip(s.index, s.values):\n",
    "    print(item)"
   ]
  },
  {
   "cell_type": "code",
   "execution_count": 11,
   "metadata": {
    "colab": {
     "base_uri": "https://localhost:8080/",
     "height": 36
    },
    "colab_type": "code",
    "executionInfo": {
     "elapsed": 1071,
     "status": "ok",
     "timestamp": 1592821486626,
     "user": {
      "displayName": "PadhAI FDS",
      "photoUrl": "https://lh3.googleusercontent.com/a-/AOh14Gh8aWLOeF6MNJzb9_wadSluUosxW_XG64hmyjrP=s64",
      "userId": "06149814316635818851"
     },
     "user_tz": -330
    },
    "id": "ilFKh7z3ckOz",
    "outputId": "9945453a-c746-4d76-a17b-f73c8aac07af"
   },
   "outputs": [
    {
     "data": {
      "text/plain": [
       "0.0"
      ]
     },
     "execution_count": 11,
     "metadata": {},
     "output_type": "execute_result"
    }
   ],
   "source": [
    "s[0]"
   ]
  },
  {
   "cell_type": "code",
   "execution_count": 12,
   "metadata": {
    "colab": {
     "base_uri": "https://localhost:8080/",
     "height": 36
    },
    "colab_type": "code",
    "executionInfo": {
     "elapsed": 1055,
     "status": "ok",
     "timestamp": 1592821486627,
     "user": {
      "displayName": "PadhAI FDS",
      "photoUrl": "https://lh3.googleusercontent.com/a-/AOh14Gh8aWLOeF6MNJzb9_wadSluUosxW_XG64hmyjrP=s64",
      "userId": "06149814316635818851"
     },
     "user_tz": -330
    },
    "id": "msv1iMxKctNR",
    "outputId": "4bedb26e-9b05-4655-bc34-e1fccd1ddf35"
   },
   "outputs": [
    {
     "data": {
      "text/plain": [
       "1.0"
      ]
     },
     "execution_count": 12,
     "metadata": {},
     "output_type": "execute_result"
    }
   ],
   "source": [
    "s[1]"
   ]
  },
  {
   "cell_type": "code",
   "execution_count": 13,
   "metadata": {
    "colab": {
     "base_uri": "https://localhost:8080/",
     "height": 36
    },
    "colab_type": "code",
    "executionInfo": {
     "elapsed": 1822,
     "status": "ok",
     "timestamp": 1592821487408,
     "user": {
      "displayName": "PadhAI FDS",
      "photoUrl": "https://lh3.googleusercontent.com/a-/AOh14Gh8aWLOeF6MNJzb9_wadSluUosxW_XG64hmyjrP=s64",
      "userId": "06149814316635818851"
     },
     "user_tz": -330
    },
    "id": "jxxNj1dact8X",
    "outputId": "0d15fa80-b4fa-4897-ddb1-9069a2dd3cb0"
   },
   "outputs": [
    {
     "data": {
      "text/plain": [
       "5.0"
      ]
     },
     "execution_count": 13,
     "metadata": {},
     "output_type": "execute_result"
    }
   ],
   "source": [
    "s[5]"
   ]
  },
  {
   "cell_type": "code",
   "execution_count": 14,
   "metadata": {
    "colab": {},
    "colab_type": "code",
    "executionInfo": {
     "elapsed": 1816,
     "status": "ok",
     "timestamp": 1592821487409,
     "user": {
      "displayName": "PadhAI FDS",
      "photoUrl": "https://lh3.googleusercontent.com/a-/AOh14Gh8aWLOeF6MNJzb9_wadSluUosxW_XG64hmyjrP=s64",
      "userId": "06149814316635818851"
     },
     "user_tz": -330
    },
    "id": "qRnPiIfGcu97"
   },
   "outputs": [],
   "source": [
    "mercury = pd.Series([0.33, 57.9, 4222.6], index=['mass', 'diameter', 'dayLength'])"
   ]
  },
  {
   "cell_type": "code",
   "execution_count": 15,
   "metadata": {
    "colab": {
     "base_uri": "https://localhost:8080/",
     "height": 94
    },
    "colab_type": "code",
    "executionInfo": {
     "elapsed": 1799,
     "status": "ok",
     "timestamp": 1592821487409,
     "user": {
      "displayName": "PadhAI FDS",
      "photoUrl": "https://lh3.googleusercontent.com/a-/AOh14Gh8aWLOeF6MNJzb9_wadSluUosxW_XG64hmyjrP=s64",
      "userId": "06149814316635818851"
     },
     "user_tz": -330
    },
    "id": "SYFslY9LdGiD",
    "outputId": "2d575956-d954-4bf0-e10c-6adb203e9af4"
   },
   "outputs": [
    {
     "name": "stdout",
     "output_type": "stream",
     "text": [
      "mass            0.33\n",
      "diameter       57.90\n",
      "dayLength    4222.60\n",
      "dtype: float64\n"
     ]
    }
   ],
   "source": [
    "print(mercury)"
   ]
  },
  {
   "cell_type": "code",
   "execution_count": 16,
   "metadata": {
    "colab": {
     "base_uri": "https://localhost:8080/",
     "height": 36
    },
    "colab_type": "code",
    "executionInfo": {
     "elapsed": 1784,
     "status": "ok",
     "timestamp": 1592821487410,
     "user": {
      "displayName": "PadhAI FDS",
      "photoUrl": "https://lh3.googleusercontent.com/a-/AOh14Gh8aWLOeF6MNJzb9_wadSluUosxW_XG64hmyjrP=s64",
      "userId": "06149814316635818851"
     },
     "user_tz": -330
    },
    "id": "enWdVy88dH2n",
    "outputId": "a3512c97-a54c-460e-f3bf-0e8beb3863d6"
   },
   "outputs": [
    {
     "data": {
      "text/plain": [
       "0.33"
      ]
     },
     "execution_count": 16,
     "metadata": {},
     "output_type": "execute_result"
    }
   ],
   "source": [
    "mercury['mass']"
   ]
  },
  {
   "cell_type": "code",
   "execution_count": 17,
   "metadata": {
    "colab": {
     "base_uri": "https://localhost:8080/",
     "height": 36
    },
    "colab_type": "code",
    "executionInfo": {
     "elapsed": 1770,
     "status": "ok",
     "timestamp": 1592821487411,
     "user": {
      "displayName": "PadhAI FDS",
      "photoUrl": "https://lh3.googleusercontent.com/a-/AOh14Gh8aWLOeF6MNJzb9_wadSluUosxW_XG64hmyjrP=s64",
      "userId": "06149814316635818851"
     },
     "user_tz": -330
    },
    "id": "QXctnuoudSA1",
    "outputId": "affc90f4-70bb-44b8-e95d-7ac9923c157b"
   },
   "outputs": [
    {
     "data": {
      "text/plain": [
       "4222.6"
      ]
     },
     "execution_count": 17,
     "metadata": {},
     "output_type": "execute_result"
    }
   ],
   "source": [
    "mercury['dayLength']"
   ]
  },
  {
   "cell_type": "code",
   "execution_count": 18,
   "metadata": {
    "colab": {
     "base_uri": "https://localhost:8080/",
     "height": 36
    },
    "colab_type": "code",
    "executionInfo": {
     "elapsed": 1753,
     "status": "ok",
     "timestamp": 1592821487412,
     "user": {
      "displayName": "PadhAI FDS",
      "photoUrl": "https://lh3.googleusercontent.com/a-/AOh14Gh8aWLOeF6MNJzb9_wadSluUosxW_XG64hmyjrP=s64",
      "userId": "06149814316635818851"
     },
     "user_tz": -330
    },
    "id": "iUEvC-NqdT3I",
    "outputId": "bb38e392-434d-4577-e3d3-d0ebebba1d7b"
   },
   "outputs": [
    {
     "data": {
      "text/plain": [
       "0.33"
      ]
     },
     "execution_count": 18,
     "metadata": {},
     "output_type": "execute_result"
    }
   ],
   "source": [
    "mercury.mass"
   ]
  },
  {
   "cell_type": "code",
   "execution_count": 19,
   "metadata": {
    "colab": {},
    "colab_type": "code",
    "executionInfo": {
     "elapsed": 1748,
     "status": "ok",
     "timestamp": 1592821487413,
     "user": {
      "displayName": "PadhAI FDS",
      "photoUrl": "https://lh3.googleusercontent.com/a-/AOh14Gh8aWLOeF6MNJzb9_wadSluUosxW_XG64hmyjrP=s64",
      "userId": "06149814316635818851"
     },
     "user_tz": -330
    },
    "id": "ILnSv2L1dVXS"
   },
   "outputs": [],
   "source": [
    "arr = np.random.randint(0, 10, 10)"
   ]
  },
  {
   "cell_type": "code",
   "execution_count": 20,
   "metadata": {
    "colab": {
     "base_uri": "https://localhost:8080/",
     "height": 36
    },
    "colab_type": "code",
    "executionInfo": {
     "elapsed": 1733,
     "status": "ok",
     "timestamp": 1592821487413,
     "user": {
      "displayName": "PadhAI FDS",
      "photoUrl": "https://lh3.googleusercontent.com/a-/AOh14Gh8aWLOeF6MNJzb9_wadSluUosxW_XG64hmyjrP=s64",
      "userId": "06149814316635818851"
     },
     "user_tz": -330
    },
    "id": "XoljeLZ7disC",
    "outputId": "a288d8d8-4f3b-4975-cdaf-dfe50fe78335"
   },
   "outputs": [
    {
     "data": {
      "text/plain": [
       "array([8, 7, 8, 8, 5, 9, 8, 3, 7, 3])"
      ]
     },
     "execution_count": 20,
     "metadata": {},
     "output_type": "execute_result"
    }
   ],
   "source": [
    "arr"
   ]
  },
  {
   "cell_type": "code",
   "execution_count": 21,
   "metadata": {
    "colab": {},
    "colab_type": "code",
    "executionInfo": {
     "elapsed": 1728,
     "status": "ok",
     "timestamp": 1592821487415,
     "user": {
      "displayName": "PadhAI FDS",
      "photoUrl": "https://lh3.googleusercontent.com/a-/AOh14Gh8aWLOeF6MNJzb9_wadSluUosxW_XG64hmyjrP=s64",
      "userId": "06149814316635818851"
     },
     "user_tz": -330
    },
    "id": "-FEGVBGEdqXm"
   },
   "outputs": [],
   "source": [
    "ind = np.arange(10, 20)"
   ]
  },
  {
   "cell_type": "code",
   "execution_count": 22,
   "metadata": {
    "colab": {},
    "colab_type": "code",
    "executionInfo": {
     "elapsed": 1725,
     "status": "ok",
     "timestamp": 1592821487416,
     "user": {
      "displayName": "PadhAI FDS",
      "photoUrl": "https://lh3.googleusercontent.com/a-/AOh14Gh8aWLOeF6MNJzb9_wadSluUosxW_XG64hmyjrP=s64",
      "userId": "06149814316635818851"
     },
     "user_tz": -330
    },
    "id": "5PzM9aVddjbq"
   },
   "outputs": [],
   "source": [
    "rand_series = pd.Series(arr, index=ind)"
   ]
  },
  {
   "cell_type": "code",
   "execution_count": 23,
   "metadata": {
    "colab": {
     "base_uri": "https://localhost:8080/",
     "height": 229
    },
    "colab_type": "code",
    "executionInfo": {
     "elapsed": 1711,
     "status": "ok",
     "timestamp": 1592821487417,
     "user": {
      "displayName": "PadhAI FDS",
      "photoUrl": "https://lh3.googleusercontent.com/a-/AOh14Gh8aWLOeF6MNJzb9_wadSluUosxW_XG64hmyjrP=s64",
      "userId": "06149814316635818851"
     },
     "user_tz": -330
    },
    "id": "2Di_jaBJdm10",
    "outputId": "4b64db32-f452-4ec6-86af-251ad81201ac"
   },
   "outputs": [
    {
     "name": "stdout",
     "output_type": "stream",
     "text": [
      "10    8\n",
      "11    7\n",
      "12    8\n",
      "13    8\n",
      "14    5\n",
      "15    9\n",
      "16    8\n",
      "17    3\n",
      "18    7\n",
      "19    3\n",
      "dtype: int32\n"
     ]
    }
   ],
   "source": [
    "print(rand_series)"
   ]
  },
  {
   "cell_type": "code",
   "execution_count": 24,
   "metadata": {
    "colab": {},
    "colab_type": "code",
    "executionInfo": {
     "elapsed": 1707,
     "status": "ok",
     "timestamp": 1592821487419,
     "user": {
      "displayName": "PadhAI FDS",
      "photoUrl": "https://lh3.googleusercontent.com/a-/AOh14Gh8aWLOeF6MNJzb9_wadSluUosxW_XG64hmyjrP=s64",
      "userId": "06149814316635818851"
     },
     "user_tz": -330
    },
    "id": "jUFXxV9qdoSd"
   },
   "outputs": [],
   "source": [
    "# mercury = pd.Series([0.33, 57.9, 4222.6], index=['mass', 'diameter', 'dayLength'])\n",
    "\n",
    "d = {}\n",
    "d['mass'] = 0.33\n",
    "d['diameter'] = 57.9\n",
    "d['dayLength'] = 4222.6\n"
   ]
  },
  {
   "cell_type": "code",
   "execution_count": 25,
   "metadata": {
    "colab": {
     "base_uri": "https://localhost:8080/",
     "height": 36
    },
    "colab_type": "code",
    "executionInfo": {
     "elapsed": 1695,
     "status": "ok",
     "timestamp": 1592821487419,
     "user": {
      "displayName": "PadhAI FDS",
      "photoUrl": "https://lh3.googleusercontent.com/a-/AOh14Gh8aWLOeF6MNJzb9_wadSluUosxW_XG64hmyjrP=s64",
      "userId": "06149814316635818851"
     },
     "user_tz": -330
    },
    "id": "-l2eMYm0eCbF",
    "outputId": "ca5e5470-bbd1-4fb1-b680-f6318dccfcf2"
   },
   "outputs": [
    {
     "name": "stdout",
     "output_type": "stream",
     "text": [
      "{'mass': 0.33, 'diameter': 57.9, 'dayLength': 4222.6}\n"
     ]
    }
   ],
   "source": [
    "print(d)"
   ]
  },
  {
   "cell_type": "code",
   "execution_count": 26,
   "metadata": {
    "colab": {},
    "colab_type": "code",
    "executionInfo": {
     "elapsed": 1690,
     "status": "ok",
     "timestamp": 1592821487420,
     "user": {
      "displayName": "PadhAI FDS",
      "photoUrl": "https://lh3.googleusercontent.com/a-/AOh14Gh8aWLOeF6MNJzb9_wadSluUosxW_XG64hmyjrP=s64",
      "userId": "06149814316635818851"
     },
     "user_tz": -330
    },
    "id": "-2fJormxeDP_"
   },
   "outputs": [],
   "source": [
    "mercury = pd.Series(d)"
   ]
  },
  {
   "cell_type": "code",
   "execution_count": 27,
   "metadata": {
    "colab": {
     "base_uri": "https://localhost:8080/",
     "height": 94
    },
    "colab_type": "code",
    "executionInfo": {
     "elapsed": 1676,
     "status": "ok",
     "timestamp": 1592821487420,
     "user": {
      "displayName": "PadhAI FDS",
      "photoUrl": "https://lh3.googleusercontent.com/a-/AOh14Gh8aWLOeF6MNJzb9_wadSluUosxW_XG64hmyjrP=s64",
      "userId": "06149814316635818851"
     },
     "user_tz": -330
    },
    "id": "dEphtxJ0eGtf",
    "outputId": "fe76c081-32fa-4924-ee2f-28f496c29c7e"
   },
   "outputs": [
    {
     "name": "stdout",
     "output_type": "stream",
     "text": [
      "mass            0.33\n",
      "diameter       57.90\n",
      "dayLength    4222.60\n",
      "dtype: float64\n"
     ]
    }
   ],
   "source": [
    "print(mercury)"
   ]
  },
  {
   "cell_type": "code",
   "execution_count": 28,
   "metadata": {
    "colab": {},
    "colab_type": "code",
    "executionInfo": {
     "elapsed": 1671,
     "status": "ok",
     "timestamp": 1592821487421,
     "user": {
      "displayName": "PadhAI FDS",
      "photoUrl": "https://lh3.googleusercontent.com/a-/AOh14Gh8aWLOeF6MNJzb9_wadSluUosxW_XG64hmyjrP=s64",
      "userId": "06149814316635818851"
     },
     "user_tz": -330
    },
    "id": "wg2vvavreHiZ"
   },
   "outputs": [],
   "source": [
    "mercury = pd.Series(d, index=['mass', 'diameter', 'dayLength'])"
   ]
  },
  {
   "cell_type": "code",
   "execution_count": 29,
   "metadata": {
    "colab": {
     "base_uri": "https://localhost:8080/",
     "height": 94
    },
    "colab_type": "code",
    "executionInfo": {
     "elapsed": 1657,
     "status": "ok",
     "timestamp": 1592821487421,
     "user": {
      "displayName": "PadhAI FDS",
      "photoUrl": "https://lh3.googleusercontent.com/a-/AOh14Gh8aWLOeF6MNJzb9_wadSluUosxW_XG64hmyjrP=s64",
      "userId": "06149814316635818851"
     },
     "user_tz": -330
    },
    "id": "XvnHpwDZeRuv",
    "outputId": "53a0392c-59c5-46f8-f307-0623bd730326"
   },
   "outputs": [
    {
     "name": "stdout",
     "output_type": "stream",
     "text": [
      "mass            0.33\n",
      "diameter       57.90\n",
      "dayLength    4222.60\n",
      "dtype: float64\n"
     ]
    }
   ],
   "source": [
    "print(mercury)"
   ]
  },
  {
   "cell_type": "code",
   "execution_count": 30,
   "metadata": {
    "colab": {},
    "colab_type": "code",
    "executionInfo": {
     "elapsed": 1654,
     "status": "ok",
     "timestamp": 1592821487422,
     "user": {
      "displayName": "PadhAI FDS",
      "photoUrl": "https://lh3.googleusercontent.com/a-/AOh14Gh8aWLOeF6MNJzb9_wadSluUosxW_XG64hmyjrP=s64",
      "userId": "06149814316635818851"
     },
     "user_tz": -330
    },
    "id": "hcm1izh5eSsG"
   },
   "outputs": [],
   "source": [
    "mercury = pd.Series(d, index=['mass', 'diameter'])"
   ]
  },
  {
   "cell_type": "code",
   "execution_count": 31,
   "metadata": {
    "colab": {
     "base_uri": "https://localhost:8080/",
     "height": 75
    },
    "colab_type": "code",
    "executionInfo": {
     "elapsed": 1640,
     "status": "ok",
     "timestamp": 1592821487422,
     "user": {
      "displayName": "PadhAI FDS",
      "photoUrl": "https://lh3.googleusercontent.com/a-/AOh14Gh8aWLOeF6MNJzb9_wadSluUosxW_XG64hmyjrP=s64",
      "userId": "06149814316635818851"
     },
     "user_tz": -330
    },
    "id": "9R1c4FgpeVgq",
    "outputId": "e6d926a5-01fb-4624-e4c1-ec1fc3c32978"
   },
   "outputs": [
    {
     "name": "stdout",
     "output_type": "stream",
     "text": [
      "mass         0.33\n",
      "diameter    57.90\n",
      "dtype: float64\n"
     ]
    }
   ],
   "source": [
    "print(mercury)"
   ]
  },
  {
   "cell_type": "markdown",
   "metadata": {
    "colab_type": "text",
    "id": "UmE4IfVej8Ry"
   },
   "source": [
    "# iloc and loc"
   ]
  },
  {
   "cell_type": "code",
   "execution_count": 32,
   "metadata": {
    "colab": {},
    "colab_type": "code",
    "executionInfo": {
     "elapsed": 975,
     "status": "ok",
     "timestamp": 1592821666345,
     "user": {
      "displayName": "PadhAI FDS",
      "photoUrl": "https://lh3.googleusercontent.com/a-/AOh14Gh8aWLOeF6MNJzb9_wadSluUosxW_XG64hmyjrP=s64",
      "userId": "06149814316635818851"
     },
     "user_tz": -330
    },
    "id": "aIhWgLh3kVS8"
   },
   "outputs": [],
   "source": [
    "s = pd.Series([0.0, 1, 1, 2, 3, 5, 8], index=[1, 2, 3, 4, 5, 6, 7])"
   ]
  },
  {
   "cell_type": "code",
   "execution_count": 33,
   "metadata": {
    "colab": {
     "base_uri": "https://localhost:8080/",
     "height": 171
    },
    "colab_type": "code",
    "executionInfo": {
     "elapsed": 939,
     "status": "ok",
     "timestamp": 1592821677378,
     "user": {
      "displayName": "PadhAI FDS",
      "photoUrl": "https://lh3.googleusercontent.com/a-/AOh14Gh8aWLOeF6MNJzb9_wadSluUosxW_XG64hmyjrP=s64",
      "userId": "06149814316635818851"
     },
     "user_tz": -330
    },
    "id": "Il0N6-6Xkc4S",
    "outputId": "01d1e2e7-0ed2-4d2f-c8d7-14d370d9de7f"
   },
   "outputs": [
    {
     "name": "stdout",
     "output_type": "stream",
     "text": [
      "1    0.0\n",
      "2    1.0\n",
      "3    1.0\n",
      "4    2.0\n",
      "5    3.0\n",
      "6    5.0\n",
      "7    8.0\n",
      "dtype: float64\n"
     ]
    }
   ],
   "source": [
    "print(s)"
   ]
  },
  {
   "cell_type": "code",
   "execution_count": 34,
   "metadata": {
    "colab": {
     "base_uri": "https://localhost:8080/",
     "height": 36
    },
    "colab_type": "code",
    "executionInfo": {
     "elapsed": 966,
     "status": "ok",
     "timestamp": 1592821723590,
     "user": {
      "displayName": "PadhAI FDS",
      "photoUrl": "https://lh3.googleusercontent.com/a-/AOh14Gh8aWLOeF6MNJzb9_wadSluUosxW_XG64hmyjrP=s64",
      "userId": "06149814316635818851"
     },
     "user_tz": -330
    },
    "id": "qw1tkjg7kfir",
    "outputId": "371f8fe1-66c4-48f4-cf82-ab23a8b22d45"
   },
   "outputs": [
    {
     "data": {
      "text/plain": [
       "2.0"
      ]
     },
     "execution_count": 34,
     "metadata": {},
     "output_type": "execute_result"
    }
   ],
   "source": [
    "s.loc[4]"
   ]
  },
  {
   "cell_type": "code",
   "execution_count": 35,
   "metadata": {
    "colab": {
     "base_uri": "https://localhost:8080/",
     "height": 36
    },
    "colab_type": "code",
    "executionInfo": {
     "elapsed": 1000,
     "status": "ok",
     "timestamp": 1592821742637,
     "user": {
      "displayName": "PadhAI FDS",
      "photoUrl": "https://lh3.googleusercontent.com/a-/AOh14Gh8aWLOeF6MNJzb9_wadSluUosxW_XG64hmyjrP=s64",
      "userId": "06149814316635818851"
     },
     "user_tz": -330
    },
    "id": "WIDQWHlgkq2t",
    "outputId": "57cbf33a-a5f5-4304-833e-25490249aeea"
   },
   "outputs": [
    {
     "data": {
      "text/plain": [
       "3.0"
      ]
     },
     "execution_count": 35,
     "metadata": {},
     "output_type": "execute_result"
    }
   ],
   "source": [
    "s.iloc[4]"
   ]
  },
  {
   "cell_type": "code",
   "execution_count": 36,
   "metadata": {
    "colab": {
     "base_uri": "https://localhost:8080/",
     "height": 36
    },
    "colab_type": "code",
    "executionInfo": {
     "elapsed": 1019,
     "status": "ok",
     "timestamp": 1592821749912,
     "user": {
      "displayName": "PadhAI FDS",
      "photoUrl": "https://lh3.googleusercontent.com/a-/AOh14Gh8aWLOeF6MNJzb9_wadSluUosxW_XG64hmyjrP=s64",
      "userId": "06149814316635818851"
     },
     "user_tz": -330
    },
    "id": "Ikowu_Yhkvfd",
    "outputId": "3ff45eca-145b-49fa-fdd4-d03a69aa87f6"
   },
   "outputs": [
    {
     "data": {
      "text/plain": [
       "0.0"
      ]
     },
     "execution_count": 36,
     "metadata": {},
     "output_type": "execute_result"
    }
   ],
   "source": [
    "s.iloc[0]"
   ]
  },
  {
   "cell_type": "code",
   "execution_count": 37,
   "metadata": {
    "colab": {},
    "colab_type": "code",
    "id": "5rgkNvjXkxQS"
   },
   "outputs": [
    {
     "ename": "KeyError",
     "evalue": "0",
     "output_type": "error",
     "traceback": [
      "\u001b[1;31m---------------------------------------------------------------------------\u001b[0m",
      "\u001b[1;31mKeyError\u001b[0m                                  Traceback (most recent call last)",
      "\u001b[1;32m~\\Anaconda3\\lib\\site-packages\\pandas\\core\\indexes\\base.py\u001b[0m in \u001b[0;36mget_loc\u001b[1;34m(self, key, method, tolerance)\u001b[0m\n\u001b[0;32m   2645\u001b[0m             \u001b[1;32mtry\u001b[0m\u001b[1;33m:\u001b[0m\u001b[1;33m\u001b[0m\u001b[1;33m\u001b[0m\u001b[0m\n\u001b[1;32m-> 2646\u001b[1;33m                 \u001b[1;32mreturn\u001b[0m \u001b[0mself\u001b[0m\u001b[1;33m.\u001b[0m\u001b[0m_engine\u001b[0m\u001b[1;33m.\u001b[0m\u001b[0mget_loc\u001b[0m\u001b[1;33m(\u001b[0m\u001b[0mkey\u001b[0m\u001b[1;33m)\u001b[0m\u001b[1;33m\u001b[0m\u001b[1;33m\u001b[0m\u001b[0m\n\u001b[0m\u001b[0;32m   2647\u001b[0m             \u001b[1;32mexcept\u001b[0m \u001b[0mKeyError\u001b[0m\u001b[1;33m:\u001b[0m\u001b[1;33m\u001b[0m\u001b[1;33m\u001b[0m\u001b[0m\n",
      "\u001b[1;32mpandas\\_libs\\index.pyx\u001b[0m in \u001b[0;36mpandas._libs.index.IndexEngine.get_loc\u001b[1;34m()\u001b[0m\n",
      "\u001b[1;32mpandas\\_libs\\index.pyx\u001b[0m in \u001b[0;36mpandas._libs.index.IndexEngine.get_loc\u001b[1;34m()\u001b[0m\n",
      "\u001b[1;32mpandas\\_libs\\hashtable_class_helper.pxi\u001b[0m in \u001b[0;36mpandas._libs.hashtable.Int64HashTable.get_item\u001b[1;34m()\u001b[0m\n",
      "\u001b[1;32mpandas\\_libs\\hashtable_class_helper.pxi\u001b[0m in \u001b[0;36mpandas._libs.hashtable.Int64HashTable.get_item\u001b[1;34m()\u001b[0m\n",
      "\u001b[1;31mKeyError\u001b[0m: 0",
      "\nDuring handling of the above exception, another exception occurred:\n",
      "\u001b[1;31mKeyError\u001b[0m                                  Traceback (most recent call last)",
      "\u001b[1;32m<ipython-input-37-a1d5330d14f8>\u001b[0m in \u001b[0;36m<module>\u001b[1;34m\u001b[0m\n\u001b[1;32m----> 1\u001b[1;33m \u001b[0ms\u001b[0m\u001b[1;33m.\u001b[0m\u001b[0mloc\u001b[0m\u001b[1;33m[\u001b[0m\u001b[1;36m0\u001b[0m\u001b[1;33m]\u001b[0m\u001b[1;33m\u001b[0m\u001b[1;33m\u001b[0m\u001b[0m\n\u001b[0m",
      "\u001b[1;32m~\\Anaconda3\\lib\\site-packages\\pandas\\core\\indexing.py\u001b[0m in \u001b[0;36m__getitem__\u001b[1;34m(self, key)\u001b[0m\n\u001b[0;32m   1766\u001b[0m \u001b[1;33m\u001b[0m\u001b[0m\n\u001b[0;32m   1767\u001b[0m             \u001b[0mmaybe_callable\u001b[0m \u001b[1;33m=\u001b[0m \u001b[0mcom\u001b[0m\u001b[1;33m.\u001b[0m\u001b[0mapply_if_callable\u001b[0m\u001b[1;33m(\u001b[0m\u001b[0mkey\u001b[0m\u001b[1;33m,\u001b[0m \u001b[0mself\u001b[0m\u001b[1;33m.\u001b[0m\u001b[0mobj\u001b[0m\u001b[1;33m)\u001b[0m\u001b[1;33m\u001b[0m\u001b[1;33m\u001b[0m\u001b[0m\n\u001b[1;32m-> 1768\u001b[1;33m             \u001b[1;32mreturn\u001b[0m \u001b[0mself\u001b[0m\u001b[1;33m.\u001b[0m\u001b[0m_getitem_axis\u001b[0m\u001b[1;33m(\u001b[0m\u001b[0mmaybe_callable\u001b[0m\u001b[1;33m,\u001b[0m \u001b[0maxis\u001b[0m\u001b[1;33m=\u001b[0m\u001b[0maxis\u001b[0m\u001b[1;33m)\u001b[0m\u001b[1;33m\u001b[0m\u001b[1;33m\u001b[0m\u001b[0m\n\u001b[0m\u001b[0;32m   1769\u001b[0m \u001b[1;33m\u001b[0m\u001b[0m\n\u001b[0;32m   1770\u001b[0m     \u001b[1;32mdef\u001b[0m \u001b[0m_is_scalar_access\u001b[0m\u001b[1;33m(\u001b[0m\u001b[0mself\u001b[0m\u001b[1;33m,\u001b[0m \u001b[0mkey\u001b[0m\u001b[1;33m:\u001b[0m \u001b[0mTuple\u001b[0m\u001b[1;33m)\u001b[0m\u001b[1;33m:\u001b[0m\u001b[1;33m\u001b[0m\u001b[1;33m\u001b[0m\u001b[0m\n",
      "\u001b[1;32m~\\Anaconda3\\lib\\site-packages\\pandas\\core\\indexing.py\u001b[0m in \u001b[0;36m_getitem_axis\u001b[1;34m(self, key, axis)\u001b[0m\n\u001b[0;32m   1963\u001b[0m         \u001b[1;31m# fall thru to straight lookup\u001b[0m\u001b[1;33m\u001b[0m\u001b[1;33m\u001b[0m\u001b[1;33m\u001b[0m\u001b[0m\n\u001b[0;32m   1964\u001b[0m         \u001b[0mself\u001b[0m\u001b[1;33m.\u001b[0m\u001b[0m_validate_key\u001b[0m\u001b[1;33m(\u001b[0m\u001b[0mkey\u001b[0m\u001b[1;33m,\u001b[0m \u001b[0maxis\u001b[0m\u001b[1;33m)\u001b[0m\u001b[1;33m\u001b[0m\u001b[1;33m\u001b[0m\u001b[0m\n\u001b[1;32m-> 1965\u001b[1;33m         \u001b[1;32mreturn\u001b[0m \u001b[0mself\u001b[0m\u001b[1;33m.\u001b[0m\u001b[0m_get_label\u001b[0m\u001b[1;33m(\u001b[0m\u001b[0mkey\u001b[0m\u001b[1;33m,\u001b[0m \u001b[0maxis\u001b[0m\u001b[1;33m=\u001b[0m\u001b[0maxis\u001b[0m\u001b[1;33m)\u001b[0m\u001b[1;33m\u001b[0m\u001b[1;33m\u001b[0m\u001b[0m\n\u001b[0m\u001b[0;32m   1966\u001b[0m \u001b[1;33m\u001b[0m\u001b[0m\n\u001b[0;32m   1967\u001b[0m \u001b[1;33m\u001b[0m\u001b[0m\n",
      "\u001b[1;32m~\\Anaconda3\\lib\\site-packages\\pandas\\core\\indexing.py\u001b[0m in \u001b[0;36m_get_label\u001b[1;34m(self, label, axis)\u001b[0m\n\u001b[0;32m    619\u001b[0m             \u001b[1;31m# but will fail when the index is not present\u001b[0m\u001b[1;33m\u001b[0m\u001b[1;33m\u001b[0m\u001b[1;33m\u001b[0m\u001b[0m\n\u001b[0;32m    620\u001b[0m             \u001b[1;31m# see GH5667\u001b[0m\u001b[1;33m\u001b[0m\u001b[1;33m\u001b[0m\u001b[1;33m\u001b[0m\u001b[0m\n\u001b[1;32m--> 621\u001b[1;33m             \u001b[1;32mreturn\u001b[0m \u001b[0mself\u001b[0m\u001b[1;33m.\u001b[0m\u001b[0mobj\u001b[0m\u001b[1;33m.\u001b[0m\u001b[0m_xs\u001b[0m\u001b[1;33m(\u001b[0m\u001b[0mlabel\u001b[0m\u001b[1;33m,\u001b[0m \u001b[0maxis\u001b[0m\u001b[1;33m=\u001b[0m\u001b[0maxis\u001b[0m\u001b[1;33m)\u001b[0m\u001b[1;33m\u001b[0m\u001b[1;33m\u001b[0m\u001b[0m\n\u001b[0m\u001b[0;32m    622\u001b[0m         \u001b[1;32melif\u001b[0m \u001b[0misinstance\u001b[0m\u001b[1;33m(\u001b[0m\u001b[0mlabel\u001b[0m\u001b[1;33m,\u001b[0m \u001b[0mtuple\u001b[0m\u001b[1;33m)\u001b[0m \u001b[1;32mand\u001b[0m \u001b[0misinstance\u001b[0m\u001b[1;33m(\u001b[0m\u001b[0mlabel\u001b[0m\u001b[1;33m[\u001b[0m\u001b[0maxis\u001b[0m\u001b[1;33m]\u001b[0m\u001b[1;33m,\u001b[0m \u001b[0mslice\u001b[0m\u001b[1;33m)\u001b[0m\u001b[1;33m:\u001b[0m\u001b[1;33m\u001b[0m\u001b[1;33m\u001b[0m\u001b[0m\n\u001b[0;32m    623\u001b[0m             \u001b[1;32mraise\u001b[0m \u001b[0mIndexingError\u001b[0m\u001b[1;33m(\u001b[0m\u001b[1;34m\"no slices here, handle elsewhere\"\u001b[0m\u001b[1;33m)\u001b[0m\u001b[1;33m\u001b[0m\u001b[1;33m\u001b[0m\u001b[0m\n",
      "\u001b[1;32m~\\Anaconda3\\lib\\site-packages\\pandas\\core\\generic.py\u001b[0m in \u001b[0;36mxs\u001b[1;34m(self, key, axis, level, drop_level)\u001b[0m\n\u001b[0;32m   3535\u001b[0m             \u001b[0mloc\u001b[0m\u001b[1;33m,\u001b[0m \u001b[0mnew_index\u001b[0m \u001b[1;33m=\u001b[0m \u001b[0mself\u001b[0m\u001b[1;33m.\u001b[0m\u001b[0mindex\u001b[0m\u001b[1;33m.\u001b[0m\u001b[0mget_loc_level\u001b[0m\u001b[1;33m(\u001b[0m\u001b[0mkey\u001b[0m\u001b[1;33m,\u001b[0m \u001b[0mdrop_level\u001b[0m\u001b[1;33m=\u001b[0m\u001b[0mdrop_level\u001b[0m\u001b[1;33m)\u001b[0m\u001b[1;33m\u001b[0m\u001b[1;33m\u001b[0m\u001b[0m\n\u001b[0;32m   3536\u001b[0m         \u001b[1;32melse\u001b[0m\u001b[1;33m:\u001b[0m\u001b[1;33m\u001b[0m\u001b[1;33m\u001b[0m\u001b[0m\n\u001b[1;32m-> 3537\u001b[1;33m             \u001b[0mloc\u001b[0m \u001b[1;33m=\u001b[0m \u001b[0mself\u001b[0m\u001b[1;33m.\u001b[0m\u001b[0mindex\u001b[0m\u001b[1;33m.\u001b[0m\u001b[0mget_loc\u001b[0m\u001b[1;33m(\u001b[0m\u001b[0mkey\u001b[0m\u001b[1;33m)\u001b[0m\u001b[1;33m\u001b[0m\u001b[1;33m\u001b[0m\u001b[0m\n\u001b[0m\u001b[0;32m   3538\u001b[0m \u001b[1;33m\u001b[0m\u001b[0m\n\u001b[0;32m   3539\u001b[0m             \u001b[1;32mif\u001b[0m \u001b[0misinstance\u001b[0m\u001b[1;33m(\u001b[0m\u001b[0mloc\u001b[0m\u001b[1;33m,\u001b[0m \u001b[0mnp\u001b[0m\u001b[1;33m.\u001b[0m\u001b[0mndarray\u001b[0m\u001b[1;33m)\u001b[0m\u001b[1;33m:\u001b[0m\u001b[1;33m\u001b[0m\u001b[1;33m\u001b[0m\u001b[0m\n",
      "\u001b[1;32m~\\Anaconda3\\lib\\site-packages\\pandas\\core\\indexes\\base.py\u001b[0m in \u001b[0;36mget_loc\u001b[1;34m(self, key, method, tolerance)\u001b[0m\n\u001b[0;32m   2646\u001b[0m                 \u001b[1;32mreturn\u001b[0m \u001b[0mself\u001b[0m\u001b[1;33m.\u001b[0m\u001b[0m_engine\u001b[0m\u001b[1;33m.\u001b[0m\u001b[0mget_loc\u001b[0m\u001b[1;33m(\u001b[0m\u001b[0mkey\u001b[0m\u001b[1;33m)\u001b[0m\u001b[1;33m\u001b[0m\u001b[1;33m\u001b[0m\u001b[0m\n\u001b[0;32m   2647\u001b[0m             \u001b[1;32mexcept\u001b[0m \u001b[0mKeyError\u001b[0m\u001b[1;33m:\u001b[0m\u001b[1;33m\u001b[0m\u001b[1;33m\u001b[0m\u001b[0m\n\u001b[1;32m-> 2648\u001b[1;33m                 \u001b[1;32mreturn\u001b[0m \u001b[0mself\u001b[0m\u001b[1;33m.\u001b[0m\u001b[0m_engine\u001b[0m\u001b[1;33m.\u001b[0m\u001b[0mget_loc\u001b[0m\u001b[1;33m(\u001b[0m\u001b[0mself\u001b[0m\u001b[1;33m.\u001b[0m\u001b[0m_maybe_cast_indexer\u001b[0m\u001b[1;33m(\u001b[0m\u001b[0mkey\u001b[0m\u001b[1;33m)\u001b[0m\u001b[1;33m)\u001b[0m\u001b[1;33m\u001b[0m\u001b[1;33m\u001b[0m\u001b[0m\n\u001b[0m\u001b[0;32m   2649\u001b[0m         \u001b[0mindexer\u001b[0m \u001b[1;33m=\u001b[0m \u001b[0mself\u001b[0m\u001b[1;33m.\u001b[0m\u001b[0mget_indexer\u001b[0m\u001b[1;33m(\u001b[0m\u001b[1;33m[\u001b[0m\u001b[0mkey\u001b[0m\u001b[1;33m]\u001b[0m\u001b[1;33m,\u001b[0m \u001b[0mmethod\u001b[0m\u001b[1;33m=\u001b[0m\u001b[0mmethod\u001b[0m\u001b[1;33m,\u001b[0m \u001b[0mtolerance\u001b[0m\u001b[1;33m=\u001b[0m\u001b[0mtolerance\u001b[0m\u001b[1;33m)\u001b[0m\u001b[1;33m\u001b[0m\u001b[1;33m\u001b[0m\u001b[0m\n\u001b[0;32m   2650\u001b[0m         \u001b[1;32mif\u001b[0m \u001b[0mindexer\u001b[0m\u001b[1;33m.\u001b[0m\u001b[0mndim\u001b[0m \u001b[1;33m>\u001b[0m \u001b[1;36m1\u001b[0m \u001b[1;32mor\u001b[0m \u001b[0mindexer\u001b[0m\u001b[1;33m.\u001b[0m\u001b[0msize\u001b[0m \u001b[1;33m>\u001b[0m \u001b[1;36m1\u001b[0m\u001b[1;33m:\u001b[0m\u001b[1;33m\u001b[0m\u001b[1;33m\u001b[0m\u001b[0m\n",
      "\u001b[1;32mpandas\\_libs\\index.pyx\u001b[0m in \u001b[0;36mpandas._libs.index.IndexEngine.get_loc\u001b[1;34m()\u001b[0m\n",
      "\u001b[1;32mpandas\\_libs\\index.pyx\u001b[0m in \u001b[0;36mpandas._libs.index.IndexEngine.get_loc\u001b[1;34m()\u001b[0m\n",
      "\u001b[1;32mpandas\\_libs\\hashtable_class_helper.pxi\u001b[0m in \u001b[0;36mpandas._libs.hashtable.Int64HashTable.get_item\u001b[1;34m()\u001b[0m\n",
      "\u001b[1;32mpandas\\_libs\\hashtable_class_helper.pxi\u001b[0m in \u001b[0;36mpandas._libs.hashtable.Int64HashTable.get_item\u001b[1;34m()\u001b[0m\n",
      "\u001b[1;31mKeyError\u001b[0m: 0"
     ]
    }
   ],
   "source": [
    "s.loc[0]"
   ]
  },
  {
   "cell_type": "code",
   "execution_count": 38,
   "metadata": {
    "colab": {},
    "colab_type": "code",
    "executionInfo": {
     "elapsed": 909,
     "status": "ok",
     "timestamp": 1592821808685,
     "user": {
      "displayName": "PadhAI FDS",
      "photoUrl": "https://lh3.googleusercontent.com/a-/AOh14Gh8aWLOeF6MNJzb9_wadSluUosxW_XG64hmyjrP=s64",
      "userId": "06149814316635818851"
     },
     "user_tz": -330
    },
    "id": "gTcK5Vo3kyzc"
   },
   "outputs": [],
   "source": [
    "mercury = pd.Series(d, index=['mass', 'diameter', 'dayLength'])"
   ]
  },
  {
   "cell_type": "code",
   "execution_count": 39,
   "metadata": {
    "colab": {
     "base_uri": "https://localhost:8080/",
     "height": 36
    },
    "colab_type": "code",
    "executionInfo": {
     "elapsed": 1031,
     "status": "ok",
     "timestamp": 1592821814832,
     "user": {
      "displayName": "PadhAI FDS",
      "photoUrl": "https://lh3.googleusercontent.com/a-/AOh14Gh8aWLOeF6MNJzb9_wadSluUosxW_XG64hmyjrP=s64",
      "userId": "06149814316635818851"
     },
     "user_tz": -330
    },
    "id": "UDG0nb6Ak_pG",
    "outputId": "b3e048b7-9dfb-4cec-b1ab-c880830f3908"
   },
   "outputs": [
    {
     "data": {
      "text/plain": [
       "0.33"
      ]
     },
     "execution_count": 39,
     "metadata": {},
     "output_type": "execute_result"
    }
   ],
   "source": [
    "mercury.loc['mass']"
   ]
  },
  {
   "cell_type": "code",
   "execution_count": 40,
   "metadata": {
    "colab": {
     "base_uri": "https://localhost:8080/",
     "height": 36
    },
    "colab_type": "code",
    "executionInfo": {
     "elapsed": 940,
     "status": "ok",
     "timestamp": 1592821829540,
     "user": {
      "displayName": "PadhAI FDS",
      "photoUrl": "https://lh3.googleusercontent.com/a-/AOh14Gh8aWLOeF6MNJzb9_wadSluUosxW_XG64hmyjrP=s64",
      "userId": "06149814316635818851"
     },
     "user_tz": -330
    },
    "id": "fkRcafZ7lBHd",
    "outputId": "8af83bcd-2907-4a44-adf2-85ddae17986f"
   },
   "outputs": [
    {
     "data": {
      "text/plain": [
       "0.33"
      ]
     },
     "execution_count": 40,
     "metadata": {},
     "output_type": "execute_result"
    }
   ],
   "source": [
    "mercury.iloc[0]"
   ]
  },
  {
   "cell_type": "code",
   "execution_count": 41,
   "metadata": {
    "colab": {
     "base_uri": "https://localhost:8080/",
     "height": 36
    },
    "colab_type": "code",
    "executionInfo": {
     "elapsed": 1259,
     "status": "ok",
     "timestamp": 1592821836103,
     "user": {
      "displayName": "PadhAI FDS",
      "photoUrl": "https://lh3.googleusercontent.com/a-/AOh14Gh8aWLOeF6MNJzb9_wadSluUosxW_XG64hmyjrP=s64",
      "userId": "06149814316635818851"
     },
     "user_tz": -330
    },
    "id": "jsqFNHuelEkm",
    "outputId": "0362dba6-ff9b-424b-c1f2-ea8e338d20bf"
   },
   "outputs": [
    {
     "data": {
      "text/plain": [
       "4222.6"
      ]
     },
     "execution_count": 41,
     "metadata": {},
     "output_type": "execute_result"
    }
   ],
   "source": [
    "mercury.iloc[-1]"
   ]
  },
  {
   "cell_type": "code",
   "execution_count": 42,
   "metadata": {
    "colab": {
     "base_uri": "https://localhost:8080/",
     "height": 56
    },
    "colab_type": "code",
    "executionInfo": {
     "elapsed": 936,
     "status": "ok",
     "timestamp": 1592821911393,
     "user": {
      "displayName": "PadhAI FDS",
      "photoUrl": "https://lh3.googleusercontent.com/a-/AOh14Gh8aWLOeF6MNJzb9_wadSluUosxW_XG64hmyjrP=s64",
      "userId": "06149814316635818851"
     },
     "user_tz": -330
    },
    "id": "a-koiZz9lGPU",
    "outputId": "4a1210ff-a177-4402-c865-0b72e70aecf0"
   },
   "outputs": [
    {
     "data": {
      "text/plain": [
       "mass    0.33\n",
       "dtype: float64"
      ]
     },
     "execution_count": 42,
     "metadata": {},
     "output_type": "execute_result"
    }
   ],
   "source": [
    "mercury.iloc[0:1]"
   ]
  },
  {
   "cell_type": "code",
   "execution_count": 43,
   "metadata": {
    "colab": {
     "base_uri": "https://localhost:8080/",
     "height": 94
    },
    "colab_type": "code",
    "executionInfo": {
     "elapsed": 866,
     "status": "ok",
     "timestamp": 1592821957617,
     "user": {
      "displayName": "PadhAI FDS",
      "photoUrl": "https://lh3.googleusercontent.com/a-/AOh14Gh8aWLOeF6MNJzb9_wadSluUosxW_XG64hmyjrP=s64",
      "userId": "06149814316635818851"
     },
     "user_tz": -330
    },
    "id": "geVy3vZvlJ7N",
    "outputId": "d0fbcaf4-2c86-4305-ec0e-ec2a22ba0c13"
   },
   "outputs": [
    {
     "data": {
      "text/plain": [
       "mass            0.33\n",
       "diameter       57.90\n",
       "dayLength    4222.60\n",
       "dtype: float64"
      ]
     },
     "execution_count": 43,
     "metadata": {},
     "output_type": "execute_result"
    }
   ],
   "source": [
    "mercury.loc[:'dayLength']"
   ]
  },
  {
   "cell_type": "markdown",
   "metadata": {
    "colab_type": "text",
    "id": "ySNPFUO3nQmF"
   },
   "source": [
    "# Simple operations"
   ]
  },
  {
   "cell_type": "code",
   "execution_count": 44,
   "metadata": {
    "colab": {},
    "colab_type": "code",
    "executionInfo": {
     "elapsed": 2068,
     "status": "ok",
     "timestamp": 1592822536144,
     "user": {
      "displayName": "PadhAI FDS",
      "photoUrl": "https://lh3.googleusercontent.com/a-/AOh14Gh8aWLOeF6MNJzb9_wadSluUosxW_XG64hmyjrP=s64",
      "userId": "06149814316635818851"
     },
     "user_tz": -330
    },
    "id": "Joh-qM6HldAm"
   },
   "outputs": [],
   "source": [
    "mass = pd.Series([0.33, 4.87, 5.97, 0.642, 1898, 568, 86.8, 102, 0.0146], \n",
    "                 index=['Mercury', 'Venus', 'Earth', 'Mars', 'Jupiter', 'Saturn', 'Uranus', 'Neptune', 'Pluto'])"
   ]
  },
  {
   "cell_type": "code",
   "execution_count": 45,
   "metadata": {
    "colab": {
     "base_uri": "https://localhost:8080/",
     "height": 210
    },
    "colab_type": "code",
    "executionInfo": {
     "elapsed": 524,
     "status": "ok",
     "timestamp": 1592822538264,
     "user": {
      "displayName": "PadhAI FDS",
      "photoUrl": "https://lh3.googleusercontent.com/a-/AOh14Gh8aWLOeF6MNJzb9_wadSluUosxW_XG64hmyjrP=s64",
      "userId": "06149814316635818851"
     },
     "user_tz": -330
    },
    "id": "9O-rPg9Inwss",
    "outputId": "b094f42c-1469-42c1-8b83-8bac58c574cf"
   },
   "outputs": [
    {
     "name": "stdout",
     "output_type": "stream",
     "text": [
      "Mercury       0.3300\n",
      "Venus         4.8700\n",
      "Earth         5.9700\n",
      "Mars          0.6420\n",
      "Jupiter    1898.0000\n",
      "Saturn      568.0000\n",
      "Uranus       86.8000\n",
      "Neptune     102.0000\n",
      "Pluto         0.0146\n",
      "dtype: float64\n"
     ]
    }
   ],
   "source": [
    "print(mass)"
   ]
  },
  {
   "cell_type": "code",
   "execution_count": 46,
   "metadata": {
    "colab": {
     "base_uri": "https://localhost:8080/",
     "height": 36
    },
    "colab_type": "code",
    "executionInfo": {
     "elapsed": 612,
     "status": "ok",
     "timestamp": 1592822569664,
     "user": {
      "displayName": "PadhAI FDS",
      "photoUrl": "https://lh3.googleusercontent.com/a-/AOh14Gh8aWLOeF6MNJzb9_wadSluUosxW_XG64hmyjrP=s64",
      "userId": "06149814316635818851"
     },
     "user_tz": -330
    },
    "id": "uOz5uX1nnxk8",
    "outputId": "71d6b297-ce7c-4efb-d86d-3a40ff4623a6"
   },
   "outputs": [
    {
     "data": {
      "text/plain": [
       "4.87"
      ]
     },
     "execution_count": 46,
     "metadata": {},
     "output_type": "execute_result"
    }
   ],
   "source": [
    "mass[1]"
   ]
  },
  {
   "cell_type": "code",
   "execution_count": 47,
   "metadata": {
    "colab": {
     "base_uri": "https://localhost:8080/",
     "height": 36
    },
    "colab_type": "code",
    "executionInfo": {
     "elapsed": 652,
     "status": "ok",
     "timestamp": 1592822576680,
     "user": {
      "displayName": "PadhAI FDS",
      "photoUrl": "https://lh3.googleusercontent.com/a-/AOh14Gh8aWLOeF6MNJzb9_wadSluUosxW_XG64hmyjrP=s64",
      "userId": "06149814316635818851"
     },
     "user_tz": -330
    },
    "id": "a5zs5G_Sn5Zx",
    "outputId": "ce18571e-d065-4af4-c857-e26c122d04ba"
   },
   "outputs": [
    {
     "data": {
      "text/plain": [
       "4.87"
      ]
     },
     "execution_count": 47,
     "metadata": {},
     "output_type": "execute_result"
    }
   ],
   "source": [
    "mass.iloc[1]"
   ]
  },
  {
   "cell_type": "code",
   "execution_count": 48,
   "metadata": {
    "colab": {
     "base_uri": "https://localhost:8080/",
     "height": 36
    },
    "colab_type": "code",
    "executionInfo": {
     "elapsed": 1047,
     "status": "ok",
     "timestamp": 1592822585141,
     "user": {
      "displayName": "PadhAI FDS",
      "photoUrl": "https://lh3.googleusercontent.com/a-/AOh14Gh8aWLOeF6MNJzb9_wadSluUosxW_XG64hmyjrP=s64",
      "userId": "06149814316635818851"
     },
     "user_tz": -330
    },
    "id": "kOlTQ3uMn7Mw",
    "outputId": "3d019911-c989-47d6-e1b7-fcb1d5f06b72"
   },
   "outputs": [
    {
     "data": {
      "text/plain": [
       "5.97"
      ]
     },
     "execution_count": 48,
     "metadata": {},
     "output_type": "execute_result"
    }
   ],
   "source": [
    "mass.loc['Earth']"
   ]
  },
  {
   "cell_type": "code",
   "execution_count": 49,
   "metadata": {
    "colab": {
     "base_uri": "https://localhost:8080/",
     "height": 36
    },
    "colab_type": "code",
    "executionInfo": {
     "elapsed": 603,
     "status": "ok",
     "timestamp": 1592822598914,
     "user": {
      "displayName": "PadhAI FDS",
      "photoUrl": "https://lh3.googleusercontent.com/a-/AOh14Gh8aWLOeF6MNJzb9_wadSluUosxW_XG64hmyjrP=s64",
      "userId": "06149814316635818851"
     },
     "user_tz": -330
    },
    "id": "iFy74T8En9JX",
    "outputId": "2da9ea6c-3ac9-48a5-dad8-09d1d1ae463f"
   },
   "outputs": [
    {
     "data": {
      "text/plain": [
       "5.97"
      ]
     },
     "execution_count": 49,
     "metadata": {},
     "output_type": "execute_result"
    }
   ],
   "source": [
    "mass['Earth']"
   ]
  },
  {
   "cell_type": "code",
   "execution_count": 50,
   "metadata": {
    "colab": {
     "base_uri": "https://localhost:8080/",
     "height": 94
    },
    "colab_type": "code",
    "executionInfo": {
     "elapsed": 1054,
     "status": "ok",
     "timestamp": 1592822612417,
     "user": {
      "displayName": "PadhAI FDS",
      "photoUrl": "https://lh3.googleusercontent.com/a-/AOh14Gh8aWLOeF6MNJzb9_wadSluUosxW_XG64hmyjrP=s64",
      "userId": "06149814316635818851"
     },
     "user_tz": -330
    },
    "id": "gvPTPQeMoAdB",
    "outputId": "7d8f9dce-34b5-48e7-da39-820382aff031"
   },
   "outputs": [
    {
     "data": {
      "text/plain": [
       "Earth         5.970\n",
       "Mars          0.642\n",
       "Jupiter    1898.000\n",
       "dtype: float64"
      ]
     },
     "execution_count": 50,
     "metadata": {},
     "output_type": "execute_result"
    }
   ],
   "source": [
    "mass['Earth': 'Jupiter']"
   ]
  },
  {
   "cell_type": "code",
   "execution_count": 51,
   "metadata": {
    "colab": {
     "base_uri": "https://localhost:8080/",
     "height": 94
    },
    "colab_type": "code",
    "executionInfo": {
     "elapsed": 897,
     "status": "ok",
     "timestamp": 1592822627301,
     "user": {
      "displayName": "PadhAI FDS",
      "photoUrl": "https://lh3.googleusercontent.com/a-/AOh14Gh8aWLOeF6MNJzb9_wadSluUosxW_XG64hmyjrP=s64",
      "userId": "06149814316635818851"
     },
     "user_tz": -330
    },
    "id": "zQ1QaHPeoD1D",
    "outputId": "fcbf350d-c2ed-4c64-d375-13dbb053706b"
   },
   "outputs": [
    {
     "data": {
      "text/plain": [
       "Earth         5.970\n",
       "Mars          0.642\n",
       "Jupiter    1898.000\n",
       "dtype: float64"
      ]
     },
     "execution_count": 51,
     "metadata": {},
     "output_type": "execute_result"
    }
   ],
   "source": [
    "mass[2:5]"
   ]
  },
  {
   "cell_type": "code",
   "execution_count": 52,
   "metadata": {
    "colab": {
     "base_uri": "https://localhost:8080/",
     "height": 94
    },
    "colab_type": "code",
    "executionInfo": {
     "elapsed": 925,
     "status": "ok",
     "timestamp": 1592822634426,
     "user": {
      "displayName": "PadhAI FDS",
      "photoUrl": "https://lh3.googleusercontent.com/a-/AOh14Gh8aWLOeF6MNJzb9_wadSluUosxW_XG64hmyjrP=s64",
      "userId": "06149814316635818851"
     },
     "user_tz": -330
    },
    "id": "hiK0i7LpoHf6",
    "outputId": "e38a99b6-3825-40a1-e445-e413c4829dc6"
   },
   "outputs": [
    {
     "data": {
      "text/plain": [
       "Earth         5.970\n",
       "Mars          0.642\n",
       "Jupiter    1898.000\n",
       "dtype: float64"
      ]
     },
     "execution_count": 52,
     "metadata": {},
     "output_type": "execute_result"
    }
   ],
   "source": [
    "mass.iloc[2:5]"
   ]
  },
  {
   "cell_type": "code",
   "execution_count": 53,
   "metadata": {
    "colab": {
     "base_uri": "https://localhost:8080/",
     "height": 210
    },
    "colab_type": "code",
    "executionInfo": {
     "elapsed": 1066,
     "status": "ok",
     "timestamp": 1592822664352,
     "user": {
      "displayName": "PadhAI FDS",
      "photoUrl": "https://lh3.googleusercontent.com/a-/AOh14Gh8aWLOeF6MNJzb9_wadSluUosxW_XG64hmyjrP=s64",
      "userId": "06149814316635818851"
     },
     "user_tz": -330
    },
    "id": "t0ff2m6foJPM",
    "outputId": "2c699773-5867-4c4b-8ef7-ca86687212b3"
   },
   "outputs": [
    {
     "data": {
      "text/plain": [
       "Mercury    False\n",
       "Venus      False\n",
       "Earth      False\n",
       "Mars       False\n",
       "Jupiter     True\n",
       "Saturn      True\n",
       "Uranus     False\n",
       "Neptune     True\n",
       "Pluto      False\n",
       "dtype: bool"
      ]
     },
     "execution_count": 53,
     "metadata": {},
     "output_type": "execute_result"
    }
   ],
   "source": [
    "mass > 100"
   ]
  },
  {
   "cell_type": "code",
   "execution_count": 54,
   "metadata": {
    "colab": {
     "base_uri": "https://localhost:8080/",
     "height": 94
    },
    "colab_type": "code",
    "executionInfo": {
     "elapsed": 840,
     "status": "ok",
     "timestamp": 1592822682822,
     "user": {
      "displayName": "PadhAI FDS",
      "photoUrl": "https://lh3.googleusercontent.com/a-/AOh14Gh8aWLOeF6MNJzb9_wadSluUosxW_XG64hmyjrP=s64",
      "userId": "06149814316635818851"
     },
     "user_tz": -330
    },
    "id": "TCnIdkGPoQgK",
    "outputId": "10637602-858d-47f1-d7b4-605ec0f9ee4e"
   },
   "outputs": [
    {
     "data": {
      "text/plain": [
       "Jupiter    1898.0\n",
       "Saturn      568.0\n",
       "Neptune     102.0\n",
       "dtype: float64"
      ]
     },
     "execution_count": 54,
     "metadata": {},
     "output_type": "execute_result"
    }
   ],
   "source": [
    "mass[mass > 100]"
   ]
  },
  {
   "cell_type": "code",
   "execution_count": 55,
   "metadata": {
    "colab": {
     "base_uri": "https://localhost:8080/",
     "height": 75
    },
    "colab_type": "code",
    "executionInfo": {
     "elapsed": 886,
     "status": "ok",
     "timestamp": 1592822750778,
     "user": {
      "displayName": "PadhAI FDS",
      "photoUrl": "https://lh3.googleusercontent.com/a-/AOh14Gh8aWLOeF6MNJzb9_wadSluUosxW_XG64hmyjrP=s64",
      "userId": "06149814316635818851"
     },
     "user_tz": -330
    },
    "id": "CWSNRyFgoVEU",
    "outputId": "24e368b1-75e1-415a-8597-215534aedd9c"
   },
   "outputs": [
    {
     "data": {
      "text/plain": [
       "Saturn     568.0\n",
       "Neptune    102.0\n",
       "dtype: float64"
      ]
     },
     "execution_count": 55,
     "metadata": {},
     "output_type": "execute_result"
    }
   ],
   "source": [
    "mass[(mass > 100) & (mass < 600)]"
   ]
  },
  {
   "cell_type": "code",
   "execution_count": 56,
   "metadata": {
    "colab": {
     "base_uri": "https://localhost:8080/",
     "height": 210
    },
    "colab_type": "code",
    "executionInfo": {
     "elapsed": 938,
     "status": "ok",
     "timestamp": 1592822768869,
     "user": {
      "displayName": "PadhAI FDS",
      "photoUrl": "https://lh3.googleusercontent.com/a-/AOh14Gh8aWLOeF6MNJzb9_wadSluUosxW_XG64hmyjrP=s64",
      "userId": "06149814316635818851"
     },
     "user_tz": -330
    },
    "id": "wuBBpqUkofO6",
    "outputId": "21a5161a-9065-4c6c-8ddb-e7d1e15b9e41"
   },
   "outputs": [
    {
     "data": {
      "text/plain": [
       "Mercury       0.3300\n",
       "Venus         4.8700\n",
       "Earth         5.9700\n",
       "Mars          0.6420\n",
       "Jupiter    1898.0000\n",
       "Saturn      568.0000\n",
       "Uranus       86.8000\n",
       "Neptune     102.0000\n",
       "Pluto         0.0146\n",
       "dtype: float64"
      ]
     },
     "execution_count": 56,
     "metadata": {},
     "output_type": "execute_result"
    }
   ],
   "source": [
    "mass"
   ]
  },
  {
   "cell_type": "code",
   "execution_count": 57,
   "metadata": {
    "colab": {
     "base_uri": "https://localhost:8080/",
     "height": 210
    },
    "colab_type": "code",
    "executionInfo": {
     "elapsed": 1060,
     "status": "ok",
     "timestamp": 1592822786723,
     "user": {
      "displayName": "PadhAI FDS",
      "photoUrl": "https://lh3.googleusercontent.com/a-/AOh14Gh8aWLOeF6MNJzb9_wadSluUosxW_XG64hmyjrP=s64",
      "userId": "06149814316635818851"
     },
     "user_tz": -330
    },
    "id": "69RhuicToqBb",
    "outputId": "b3047ab3-5ada-4352-b704-47cf47fe8235"
   },
   "outputs": [
    {
     "data": {
      "text/plain": [
       "Mercury       0.6600\n",
       "Venus         9.7400\n",
       "Earth        11.9400\n",
       "Mars          1.2840\n",
       "Jupiter    3796.0000\n",
       "Saturn     1136.0000\n",
       "Uranus      173.6000\n",
       "Neptune     204.0000\n",
       "Pluto         0.0292\n",
       "dtype: float64"
      ]
     },
     "execution_count": 57,
     "metadata": {},
     "output_type": "execute_result"
    }
   ],
   "source": [
    "mass * 2"
   ]
  },
  {
   "cell_type": "code",
   "execution_count": 58,
   "metadata": {
    "colab": {
     "base_uri": "https://localhost:8080/",
     "height": 210
    },
    "colab_type": "code",
    "executionInfo": {
     "elapsed": 989,
     "status": "ok",
     "timestamp": 1592822794370,
     "user": {
      "displayName": "PadhAI FDS",
      "photoUrl": "https://lh3.googleusercontent.com/a-/AOh14Gh8aWLOeF6MNJzb9_wadSluUosxW_XG64hmyjrP=s64",
      "userId": "06149814316635818851"
     },
     "user_tz": -330
    },
    "id": "aU_1mPtNouYY",
    "outputId": "cd28aa6a-b516-4e8f-d4f5-5e46f4442bd1"
   },
   "outputs": [
    {
     "data": {
      "text/plain": [
       "Mercury      0.03300\n",
       "Venus        0.48700\n",
       "Earth        0.59700\n",
       "Mars         0.06420\n",
       "Jupiter    189.80000\n",
       "Saturn      56.80000\n",
       "Uranus       8.68000\n",
       "Neptune     10.20000\n",
       "Pluto        0.00146\n",
       "dtype: float64"
      ]
     },
     "execution_count": 58,
     "metadata": {},
     "output_type": "execute_result"
    }
   ],
   "source": [
    "mass / 10"
   ]
  },
  {
   "cell_type": "code",
   "execution_count": 59,
   "metadata": {
    "colab": {
     "base_uri": "https://localhost:8080/",
     "height": 36
    },
    "colab_type": "code",
    "executionInfo": {
     "elapsed": 536,
     "status": "ok",
     "timestamp": 1592822818125,
     "user": {
      "displayName": "PadhAI FDS",
      "photoUrl": "https://lh3.googleusercontent.com/a-/AOh14Gh8aWLOeF6MNJzb9_wadSluUosxW_XG64hmyjrP=s64",
      "userId": "06149814316635818851"
     },
     "user_tz": -330
    },
    "id": "eHaiVmfjowLg",
    "outputId": "fa165d6f-3b15-4e8a-e06f-d97315916fea"
   },
   "outputs": [
    {
     "data": {
      "text/plain": [
       "296.29184444444445"
      ]
     },
     "execution_count": 59,
     "metadata": {},
     "output_type": "execute_result"
    }
   ],
   "source": [
    "np.mean(mass)"
   ]
  },
  {
   "cell_type": "code",
   "execution_count": 60,
   "metadata": {
    "colab": {
     "base_uri": "https://localhost:8080/",
     "height": 36
    },
    "colab_type": "code",
    "executionInfo": {
     "elapsed": 623,
     "status": "ok",
     "timestamp": 1592822862752,
     "user": {
      "displayName": "PadhAI FDS",
      "photoUrl": "https://lh3.googleusercontent.com/a-/AOh14Gh8aWLOeF6MNJzb9_wadSluUosxW_XG64hmyjrP=s64",
      "userId": "06149814316635818851"
     },
     "user_tz": -330
    },
    "id": "43oX9VHOo2GA",
    "outputId": "bbfadd49-0914-4baa-ca9a-7c73314a76fe"
   },
   "outputs": [
    {
     "data": {
      "text/plain": [
       "0.0146"
      ]
     },
     "execution_count": 60,
     "metadata": {},
     "output_type": "execute_result"
    }
   ],
   "source": [
    "np.amin(mass)"
   ]
  },
  {
   "cell_type": "code",
   "execution_count": 61,
   "metadata": {
    "colab": {
     "base_uri": "https://localhost:8080/",
     "height": 36
    },
    "colab_type": "code",
    "executionInfo": {
     "elapsed": 582,
     "status": "ok",
     "timestamp": 1592822877156,
     "user": {
      "displayName": "PadhAI FDS",
      "photoUrl": "https://lh3.googleusercontent.com/a-/AOh14Gh8aWLOeF6MNJzb9_wadSluUosxW_XG64hmyjrP=s64",
      "userId": "06149814316635818851"
     },
     "user_tz": -330
    },
    "id": "iOEFumKLpBCV",
    "outputId": "3cad5c0a-c843-4445-c68e-f28bbbbbf747"
   },
   "outputs": [
    {
     "data": {
      "text/plain": [
       "1898.0"
      ]
     },
     "execution_count": 61,
     "metadata": {},
     "output_type": "execute_result"
    }
   ],
   "source": [
    "np.amax(mass)"
   ]
  },
  {
   "cell_type": "code",
   "execution_count": 62,
   "metadata": {
    "colab": {
     "base_uri": "https://localhost:8080/",
     "height": 36
    },
    "colab_type": "code",
    "executionInfo": {
     "elapsed": 597,
     "status": "ok",
     "timestamp": 1592822882671,
     "user": {
      "displayName": "PadhAI FDS",
      "photoUrl": "https://lh3.googleusercontent.com/a-/AOh14Gh8aWLOeF6MNJzb9_wadSluUosxW_XG64hmyjrP=s64",
      "userId": "06149814316635818851"
     },
     "user_tz": -330
    },
    "id": "L-Igtm_kpEkO",
    "outputId": "85856c34-dca5-4c30-fbc3-2d3bec6005ec"
   },
   "outputs": [
    {
     "data": {
      "text/plain": [
       "5.97"
      ]
     },
     "execution_count": 62,
     "metadata": {},
     "output_type": "execute_result"
    }
   ],
   "source": [
    "np.median(mass)"
   ]
  },
  {
   "cell_type": "code",
   "execution_count": 63,
   "metadata": {
    "colab": {
     "base_uri": "https://localhost:8080/",
     "height": 210
    },
    "colab_type": "code",
    "executionInfo": {
     "elapsed": 1097,
     "status": "ok",
     "timestamp": 1592822944601,
     "user": {
      "displayName": "PadhAI FDS",
      "photoUrl": "https://lh3.googleusercontent.com/a-/AOh14Gh8aWLOeF6MNJzb9_wadSluUosxW_XG64hmyjrP=s64",
      "userId": "06149814316635818851"
     },
     "user_tz": -330
    },
    "id": "jtJSGKAepFz2",
    "outputId": "8a09c61c-2d37-40b8-816f-473b6ed9108b"
   },
   "outputs": [
    {
     "data": {
      "text/plain": [
       "Mercury       0.6600\n",
       "Venus         9.7400\n",
       "Earth        11.9400\n",
       "Mars          1.2840\n",
       "Jupiter    3796.0000\n",
       "Saturn     1136.0000\n",
       "Uranus      173.6000\n",
       "Neptune     204.0000\n",
       "Pluto         0.0292\n",
       "dtype: float64"
      ]
     },
     "execution_count": 63,
     "metadata": {},
     "output_type": "execute_result"
    }
   ],
   "source": [
    "mass + mass"
   ]
  },
  {
   "cell_type": "code",
   "execution_count": 64,
   "metadata": {
    "colab": {
     "base_uri": "https://localhost:8080/",
     "height": 210
    },
    "colab_type": "code",
    "executionInfo": {
     "elapsed": 941,
     "status": "ok",
     "timestamp": 1592822967733,
     "user": {
      "displayName": "PadhAI FDS",
      "photoUrl": "https://lh3.googleusercontent.com/a-/AOh14Gh8aWLOeF6MNJzb9_wadSluUosxW_XG64hmyjrP=s64",
      "userId": "06149814316635818851"
     },
     "user_tz": -330
    },
    "id": "m-9GeAM4pU6r",
    "outputId": "5b07d416-ae05-4fb5-ce99-c8298115d91f"
   },
   "outputs": [
    {
     "data": {
      "text/plain": [
       "Mercury    0.0\n",
       "Venus      0.0\n",
       "Earth      0.0\n",
       "Mars       0.0\n",
       "Jupiter    0.0\n",
       "Saturn     0.0\n",
       "Uranus     0.0\n",
       "Neptune    0.0\n",
       "Pluto      0.0\n",
       "dtype: float64"
      ]
     },
     "execution_count": 64,
     "metadata": {},
     "output_type": "execute_result"
    }
   ],
   "source": [
    "mass - mass"
   ]
  },
  {
   "cell_type": "code",
   "execution_count": 65,
   "metadata": {
    "colab": {},
    "colab_type": "code",
    "executionInfo": {
     "elapsed": 578,
     "status": "ok",
     "timestamp": 1592822994421,
     "user": {
      "displayName": "PadhAI FDS",
      "photoUrl": "https://lh3.googleusercontent.com/a-/AOh14Gh8aWLOeF6MNJzb9_wadSluUosxW_XG64hmyjrP=s64",
      "userId": "06149814316635818851"
     },
     "user_tz": -330
    },
    "id": "fZ3C1K7CpaZ6"
   },
   "outputs": [],
   "source": [
    "big_mass = mass[mass > 100]"
   ]
  },
  {
   "cell_type": "code",
   "execution_count": 66,
   "metadata": {
    "colab": {
     "base_uri": "https://localhost:8080/",
     "height": 94
    },
    "colab_type": "code",
    "executionInfo": {
     "elapsed": 531,
     "status": "ok",
     "timestamp": 1592822998435,
     "user": {
      "displayName": "PadhAI FDS",
      "photoUrl": "https://lh3.googleusercontent.com/a-/AOh14Gh8aWLOeF6MNJzb9_wadSluUosxW_XG64hmyjrP=s64",
      "userId": "06149814316635818851"
     },
     "user_tz": -330
    },
    "id": "ZSximmiRphMS",
    "outputId": "0c753bc0-01ba-487c-f952-ebd65450aac0"
   },
   "outputs": [
    {
     "data": {
      "text/plain": [
       "Jupiter    1898.0\n",
       "Saturn      568.0\n",
       "Neptune     102.0\n",
       "dtype: float64"
      ]
     },
     "execution_count": 66,
     "metadata": {},
     "output_type": "execute_result"
    }
   ],
   "source": [
    "big_mass"
   ]
  },
  {
   "cell_type": "code",
   "execution_count": 67,
   "metadata": {
    "colab": {
     "base_uri": "https://localhost:8080/",
     "height": 210
    },
    "colab_type": "code",
    "executionInfo": {
     "elapsed": 625,
     "status": "ok",
     "timestamp": 1592823002864,
     "user": {
      "displayName": "PadhAI FDS",
      "photoUrl": "https://lh3.googleusercontent.com/a-/AOh14Gh8aWLOeF6MNJzb9_wadSluUosxW_XG64hmyjrP=s64",
      "userId": "06149814316635818851"
     },
     "user_tz": -330
    },
    "id": "tGK19aFhphpF",
    "outputId": "ef052bda-4323-4e75-d9b3-feddcca098ef"
   },
   "outputs": [
    {
     "data": {
      "text/plain": [
       "Mercury       0.3300\n",
       "Venus         4.8700\n",
       "Earth         5.9700\n",
       "Mars          0.6420\n",
       "Jupiter    1898.0000\n",
       "Saturn      568.0000\n",
       "Uranus       86.8000\n",
       "Neptune     102.0000\n",
       "Pluto         0.0146\n",
       "dtype: float64"
      ]
     },
     "execution_count": 67,
     "metadata": {},
     "output_type": "execute_result"
    }
   ],
   "source": [
    "mass"
   ]
  },
  {
   "cell_type": "code",
   "execution_count": 68,
   "metadata": {
    "colab": {},
    "colab_type": "code",
    "executionInfo": {
     "elapsed": 2892,
     "status": "ok",
     "timestamp": 1592823034564,
     "user": {
      "displayName": "PadhAI FDS",
      "photoUrl": "https://lh3.googleusercontent.com/a-/AOh14Gh8aWLOeF6MNJzb9_wadSluUosxW_XG64hmyjrP=s64",
      "userId": "06149814316635818851"
     },
     "user_tz": -330
    },
    "id": "-PfAgCdvpjP8"
   },
   "outputs": [],
   "source": [
    "new_mass = mass + big_mass"
   ]
  },
  {
   "cell_type": "code",
   "execution_count": 69,
   "metadata": {
    "colab": {
     "base_uri": "https://localhost:8080/",
     "height": 210
    },
    "colab_type": "code",
    "executionInfo": {
     "elapsed": 2966,
     "status": "ok",
     "timestamp": 1592823043247,
     "user": {
      "displayName": "PadhAI FDS",
      "photoUrl": "https://lh3.googleusercontent.com/a-/AOh14Gh8aWLOeF6MNJzb9_wadSluUosxW_XG64hmyjrP=s64",
      "userId": "06149814316635818851"
     },
     "user_tz": -330
    },
    "id": "OfgnILxdplsA",
    "outputId": "bba0d398-8190-4496-9071-99e377e0539d"
   },
   "outputs": [
    {
     "name": "stdout",
     "output_type": "stream",
     "text": [
      "Earth         NaN\n",
      "Jupiter    3796.0\n",
      "Mars          NaN\n",
      "Mercury       NaN\n",
      "Neptune     204.0\n",
      "Pluto         NaN\n",
      "Saturn     1136.0\n",
      "Uranus        NaN\n",
      "Venus         NaN\n",
      "dtype: float64\n"
     ]
    }
   ],
   "source": [
    "print(new_mass)"
   ]
  },
  {
   "cell_type": "code",
   "execution_count": 70,
   "metadata": {
    "colab": {
     "base_uri": "https://localhost:8080/",
     "height": 210
    },
    "colab_type": "code",
    "executionInfo": {
     "elapsed": 2700,
     "status": "ok",
     "timestamp": 1592823138475,
     "user": {
      "displayName": "PadhAI FDS",
      "photoUrl": "https://lh3.googleusercontent.com/a-/AOh14Gh8aWLOeF6MNJzb9_wadSluUosxW_XG64hmyjrP=s64",
      "userId": "06149814316635818851"
     },
     "user_tz": -330
    },
    "id": "KBcuCgMgpscH",
    "outputId": "70f3c0ec-46b2-4d14-a772-fff7b22bc5f0"
   },
   "outputs": [
    {
     "data": {
      "text/plain": [
       "Earth       True\n",
       "Jupiter    False\n",
       "Mars        True\n",
       "Mercury     True\n",
       "Neptune    False\n",
       "Pluto       True\n",
       "Saturn     False\n",
       "Uranus      True\n",
       "Venus       True\n",
       "dtype: bool"
      ]
     },
     "execution_count": 70,
     "metadata": {},
     "output_type": "execute_result"
    }
   ],
   "source": [
    "pd.isnull(new_mass)"
   ]
  },
  {
   "cell_type": "code",
   "execution_count": 71,
   "metadata": {
    "colab": {
     "base_uri": "https://localhost:8080/",
     "height": 94
    },
    "colab_type": "code",
    "executionInfo": {
     "elapsed": 993,
     "status": "ok",
     "timestamp": 1592823183429,
     "user": {
      "displayName": "PadhAI FDS",
      "photoUrl": "https://lh3.googleusercontent.com/a-/AOh14Gh8aWLOeF6MNJzb9_wadSluUosxW_XG64hmyjrP=s64",
      "userId": "06149814316635818851"
     },
     "user_tz": -330
    },
    "id": "K5EZe5v0qDd8",
    "outputId": "d9229447-9f4e-41a3-a101-306360101648"
   },
   "outputs": [
    {
     "data": {
      "text/plain": [
       "Jupiter    3796.0\n",
       "Neptune     204.0\n",
       "Saturn     1136.0\n",
       "dtype: float64"
      ]
     },
     "execution_count": 71,
     "metadata": {},
     "output_type": "execute_result"
    }
   ],
   "source": [
    "new_mass[~pd.isnull(new_mass)]"
   ]
  },
  {
   "cell_type": "code",
   "execution_count": 72,
   "metadata": {
    "colab": {
     "base_uri": "https://localhost:8080/",
     "height": 210
    },
    "colab_type": "code",
    "executionInfo": {
     "elapsed": 1056,
     "status": "ok",
     "timestamp": 1592823218070,
     "user": {
      "displayName": "PadhAI FDS",
      "photoUrl": "https://lh3.googleusercontent.com/a-/AOh14Gh8aWLOeF6MNJzb9_wadSluUosxW_XG64hmyjrP=s64",
      "userId": "06149814316635818851"
     },
     "user_tz": -330
    },
    "id": "A61K3xlpqKu4",
    "outputId": "addb1842-bf30-4d19-b450-bc5ba6608dba"
   },
   "outputs": [
    {
     "data": {
      "text/plain": [
       "Mercury       0.3300\n",
       "Venus         4.8700\n",
       "Earth         5.9700\n",
       "Mars          0.6420\n",
       "Jupiter    1898.0000\n",
       "Saturn      568.0000\n",
       "Uranus       86.8000\n",
       "Neptune     102.0000\n",
       "Pluto         0.0146\n",
       "dtype: float64"
      ]
     },
     "execution_count": 72,
     "metadata": {},
     "output_type": "execute_result"
    }
   ],
   "source": [
    "mass"
   ]
  },
  {
   "cell_type": "code",
   "execution_count": 73,
   "metadata": {
    "colab": {},
    "colab_type": "code",
    "executionInfo": {
     "elapsed": 975,
     "status": "ok",
     "timestamp": 1592823236160,
     "user": {
      "displayName": "PadhAI FDS",
      "photoUrl": "https://lh3.googleusercontent.com/a-/AOh14Gh8aWLOeF6MNJzb9_wadSluUosxW_XG64hmyjrP=s64",
      "userId": "06149814316635818851"
     },
     "user_tz": -330
    },
    "id": "wk51LZY5qXht"
   },
   "outputs": [],
   "source": [
    "mass['Moon'] = 0.7346"
   ]
  },
  {
   "cell_type": "code",
   "execution_count": 74,
   "metadata": {
    "colab": {
     "base_uri": "https://localhost:8080/",
     "height": 229
    },
    "colab_type": "code",
    "executionInfo": {
     "elapsed": 892,
     "status": "ok",
     "timestamp": 1592823240883,
     "user": {
      "displayName": "PadhAI FDS",
      "photoUrl": "https://lh3.googleusercontent.com/a-/AOh14Gh8aWLOeF6MNJzb9_wadSluUosxW_XG64hmyjrP=s64",
      "userId": "06149814316635818851"
     },
     "user_tz": -330
    },
    "id": "1dH5lQKIqbBS",
    "outputId": "ee4df34f-431c-4704-bb27-dab605c6644f"
   },
   "outputs": [
    {
     "data": {
      "text/plain": [
       "Mercury       0.3300\n",
       "Venus         4.8700\n",
       "Earth         5.9700\n",
       "Mars          0.6420\n",
       "Jupiter    1898.0000\n",
       "Saturn      568.0000\n",
       "Uranus       86.8000\n",
       "Neptune     102.0000\n",
       "Pluto         0.0146\n",
       "Moon          0.7346\n",
       "dtype: float64"
      ]
     },
     "execution_count": 74,
     "metadata": {},
     "output_type": "execute_result"
    }
   ],
   "source": [
    "mass"
   ]
  },
  {
   "cell_type": "code",
   "execution_count": 75,
   "metadata": {
    "colab": {
     "base_uri": "https://localhost:8080/",
     "height": 210
    },
    "colab_type": "code",
    "executionInfo": {
     "elapsed": 931,
     "status": "ok",
     "timestamp": 1592823255003,
     "user": {
      "displayName": "PadhAI FDS",
      "photoUrl": "https://lh3.googleusercontent.com/a-/AOh14Gh8aWLOeF6MNJzb9_wadSluUosxW_XG64hmyjrP=s64",
      "userId": "06149814316635818851"
     },
     "user_tz": -330
    },
    "id": "MSKDyL6SqdKh",
    "outputId": "a7db81d6-ac71-479d-d38b-b0928811d9c4"
   },
   "outputs": [
    {
     "data": {
      "text/plain": [
       "Mercury       0.3300\n",
       "Venus         4.8700\n",
       "Earth         5.9700\n",
       "Mars          0.6420\n",
       "Jupiter    1898.0000\n",
       "Saturn      568.0000\n",
       "Uranus       86.8000\n",
       "Neptune     102.0000\n",
       "Moon          0.7346\n",
       "dtype: float64"
      ]
     },
     "execution_count": 75,
     "metadata": {},
     "output_type": "execute_result"
    }
   ],
   "source": [
    "mass.drop(['Pluto'])"
   ]
  },
  {
   "cell_type": "markdown",
   "metadata": {
    "colab_type": "text",
    "id": "c0lHUQ5SqlvE"
   },
   "source": [
    "**Task 1**\n",
    "\n",
    "Collect numbers for the diameters of these planets (heavenly bodies) and store it as a Series object. Then given these two Series objects mass and diameter, compute the density of each planet."
   ]
  },
  {
   "cell_type": "code",
   "execution_count": 76,
   "metadata": {
    "colab": {},
    "colab_type": "code",
    "executionInfo": {
     "elapsed": 1886,
     "status": "ok",
     "timestamp": 1592823729023,
     "user": {
      "displayName": "PadhAI FDS",
      "photoUrl": "https://lh3.googleusercontent.com/a-/AOh14Gh8aWLOeF6MNJzb9_wadSluUosxW_XG64hmyjrP=s64",
      "userId": "06149814316635818851"
     },
     "user_tz": -330
    },
    "id": "kyTNw18FqgvP"
   },
   "outputs": [],
   "source": [
    "diameter = pd.Series([4879, 12104, 12756, 3475, 6792, 142984, 120536, 51118, 49528, 2370], \n",
    "                     index=['Mercury', 'Venus', 'Earth', 'Moon', 'Mars', 'Jupiter', 'Saturn', 'Uranus', 'Neptune', 'Pluto'])"
   ]
  },
  {
   "cell_type": "code",
   "execution_count": 77,
   "metadata": {
    "colab": {},
    "colab_type": "code",
    "id": "ad69JB1PsUOf"
   },
   "outputs": [
    {
     "name": "stderr",
     "output_type": "stream",
     "text": [
      "<ipython-input-77-35c7573069d7>:1: DeprecationWarning: The default dtype for empty Series will be 'object' instead of 'float64' in a future version. Specify a dtype explicitly to silence this warning.\n",
      "  density = pd.Series([])\n"
     ]
    }
   ],
   "source": [
    "density = pd.Series([])"
   ]
  },
  {
   "cell_type": "code",
   "execution_count": 78,
   "metadata": {
    "colab": {
     "base_uri": "https://localhost:8080/",
     "height": 36
    },
    "colab_type": "code",
    "executionInfo": {
     "elapsed": 719,
     "status": "ok",
     "timestamp": 1592823895038,
     "user": {
      "displayName": "PadhAI FDS",
      "photoUrl": "https://lh3.googleusercontent.com/a-/AOh14Gh8aWLOeF6MNJzb9_wadSluUosxW_XG64hmyjrP=s64",
      "userId": "06149814316635818851"
     },
     "user_tz": -330
    },
    "id": "9tsy0qcos657",
    "outputId": "2c81ac20-fc11-45b5-9aec-2241fc67fdec"
   },
   "outputs": [
    {
     "name": "stdout",
     "output_type": "stream",
     "text": [
      "Series([], dtype: float64)\n"
     ]
    }
   ],
   "source": [
    "print(density)"
   ]
  },
  {
   "cell_type": "code",
   "execution_count": 79,
   "metadata": {
    "colab": {
     "base_uri": "https://localhost:8080/",
     "height": 229
    },
    "colab_type": "code",
    "executionInfo": {
     "elapsed": 632,
     "status": "ok",
     "timestamp": 1592823904036,
     "user": {
      "displayName": "PadhAI FDS",
      "photoUrl": "https://lh3.googleusercontent.com/a-/AOh14Gh8aWLOeF6MNJzb9_wadSluUosxW_XG64hmyjrP=s64",
      "userId": "06149814316635818851"
     },
     "user_tz": -330
    },
    "id": "tD3_4otUs80H",
    "outputId": "9f95635f-544c-497d-ad4e-9d0d11984166"
   },
   "outputs": [
    {
     "data": {
      "text/plain": [
       "Mercury       0.3300\n",
       "Venus         4.8700\n",
       "Earth         5.9700\n",
       "Mars          0.6420\n",
       "Jupiter    1898.0000\n",
       "Saturn      568.0000\n",
       "Uranus       86.8000\n",
       "Neptune     102.0000\n",
       "Pluto         0.0146\n",
       "Moon          0.7346\n",
       "dtype: float64"
      ]
     },
     "execution_count": 79,
     "metadata": {},
     "output_type": "execute_result"
    }
   ],
   "source": [
    "mass"
   ]
  },
  {
   "cell_type": "code",
   "execution_count": 80,
   "metadata": {
    "colab": {
     "base_uri": "https://localhost:8080/",
     "height": 229
    },
    "colab_type": "code",
    "executionInfo": {
     "elapsed": 1346,
     "status": "ok",
     "timestamp": 1592823908309,
     "user": {
      "displayName": "PadhAI FDS",
      "photoUrl": "https://lh3.googleusercontent.com/a-/AOh14Gh8aWLOeF6MNJzb9_wadSluUosxW_XG64hmyjrP=s64",
      "userId": "06149814316635818851"
     },
     "user_tz": -330
    },
    "id": "LSOy_sB8s_Pq",
    "outputId": "69f3f634-a71c-49ef-acf1-cd93c5bc863e"
   },
   "outputs": [
    {
     "data": {
      "text/plain": [
       "Mercury      4879\n",
       "Venus       12104\n",
       "Earth       12756\n",
       "Moon         3475\n",
       "Mars         6792\n",
       "Jupiter    142984\n",
       "Saturn     120536\n",
       "Uranus      51118\n",
       "Neptune     49528\n",
       "Pluto        2370\n",
       "dtype: int64"
      ]
     },
     "execution_count": 80,
     "metadata": {},
     "output_type": "execute_result"
    }
   ],
   "source": [
    "diameter"
   ]
  },
  {
   "cell_type": "code",
   "execution_count": 81,
   "metadata": {
    "colab": {},
    "colab_type": "code",
    "executionInfo": {
     "elapsed": 991,
     "status": "ok",
     "timestamp": 1592824003021,
     "user": {
      "displayName": "PadhAI FDS",
      "photoUrl": "https://lh3.googleusercontent.com/a-/AOh14Gh8aWLOeF6MNJzb9_wadSluUosxW_XG64hmyjrP=s64",
      "userId": "06149814316635818851"
     },
     "user_tz": -330
    },
    "id": "pVlijBKStAEN"
   },
   "outputs": [],
   "source": [
    "for planet in mass.index:\n",
    "    density[planet] = mass[planet] / (np.pi * diameter[planet] * diameter[planet] * diameter[planet] / 6)"
   ]
  },
  {
   "cell_type": "code",
   "execution_count": 82,
   "metadata": {
    "colab": {
     "base_uri": "https://localhost:8080/",
     "height": 229
    },
    "colab_type": "code",
    "executionInfo": {
     "elapsed": 1100,
     "status": "ok",
     "timestamp": 1592824010360,
     "user": {
      "displayName": "PadhAI FDS",
      "photoUrl": "https://lh3.googleusercontent.com/a-/AOh14Gh8aWLOeF6MNJzb9_wadSluUosxW_XG64hmyjrP=s64",
      "userId": "06149814316635818851"
     },
     "user_tz": -330
    },
    "id": "DttM-o2ztV4K",
    "outputId": "cc66ff9c-7df1-4326-badb-901ca45975fb"
   },
   "outputs": [
    {
     "name": "stdout",
     "output_type": "stream",
     "text": [
      "Mercury    5.426538e-12\n",
      "Venus      5.244977e-12\n",
      "Earth      5.493286e-12\n",
      "Mars       3.913302e-12\n",
      "Jupiter    1.240039e-12\n",
      "Saturn     6.194402e-13\n",
      "Uranus     1.241079e-12\n",
      "Neptune    1.603427e-12\n",
      "Pluto      2.094639e-12\n",
      "Moon       3.343396e-11\n",
      "dtype: float64\n"
     ]
    }
   ],
   "source": [
    "print(density)"
   ]
  },
  {
   "cell_type": "code",
   "execution_count": 83,
   "metadata": {
    "colab": {},
    "colab_type": "code",
    "executionInfo": {
     "elapsed": 976,
     "status": "ok",
     "timestamp": 1592824106492,
     "user": {
      "displayName": "PadhAI FDS",
      "photoUrl": "https://lh3.googleusercontent.com/a-/AOh14Gh8aWLOeF6MNJzb9_wadSluUosxW_XG64hmyjrP=s64",
      "userId": "06149814316635818851"
     },
     "user_tz": -330
    },
    "id": "5hiRYrrKtYxE"
   },
   "outputs": [],
   "source": [
    "density = mass / (np.pi * np.power(diameter, 3) / 6)"
   ]
  },
  {
   "cell_type": "code",
   "execution_count": 84,
   "metadata": {
    "colab": {
     "base_uri": "https://localhost:8080/",
     "height": 229
    },
    "colab_type": "code",
    "executionInfo": {
     "elapsed": 987,
     "status": "ok",
     "timestamp": 1592824110594,
     "user": {
      "displayName": "PadhAI FDS",
      "photoUrl": "https://lh3.googleusercontent.com/a-/AOh14Gh8aWLOeF6MNJzb9_wadSluUosxW_XG64hmyjrP=s64",
      "userId": "06149814316635818851"
     },
     "user_tz": -330
    },
    "id": "hQVa4IChtwnH",
    "outputId": "3f5ef626-32c6-453a-ac2c-2d82fa3ae8ea"
   },
   "outputs": [
    {
     "data": {
      "text/plain": [
       "Earth      5.493286e-12\n",
       "Jupiter    1.240039e-12\n",
       "Mars       3.913302e-12\n",
       "Mercury    5.426538e-12\n",
       "Moon       3.343396e-11\n",
       "Neptune    1.603427e-12\n",
       "Pluto      2.094639e-12\n",
       "Saturn     6.194402e-13\n",
       "Uranus     1.241079e-12\n",
       "Venus      5.244977e-12\n",
       "dtype: float64"
      ]
     },
     "execution_count": 84,
     "metadata": {},
     "output_type": "execute_result"
    }
   ],
   "source": [
    "density"
   ]
  },
  {
   "cell_type": "code",
   "execution_count": 85,
   "metadata": {
    "colab": {},
    "colab_type": "code",
    "executionInfo": {
     "elapsed": 1039,
     "status": "ok",
     "timestamp": 1592825570384,
     "user": {
      "displayName": "PadhAI FDS",
      "photoUrl": "https://lh3.googleusercontent.com/a-/AOh14Gh8aWLOeF6MNJzb9_wadSluUosxW_XG64hmyjrP=s64",
      "userId": "06149814316635818851"
     },
     "user_tz": -330
    },
    "id": "nHuI514ltxnE"
   },
   "outputs": [],
   "source": [
    "mass['PlanetX'] = 6"
   ]
  },
  {
   "cell_type": "code",
   "execution_count": 86,
   "metadata": {
    "colab": {},
    "colab_type": "code",
    "executionInfo": {
     "elapsed": 926,
     "status": "ok",
     "timestamp": 1592825570739,
     "user": {
      "displayName": "PadhAI FDS",
      "photoUrl": "https://lh3.googleusercontent.com/a-/AOh14Gh8aWLOeF6MNJzb9_wadSluUosxW_XG64hmyjrP=s64",
      "userId": "06149814316635818851"
     },
     "user_tz": -330
    },
    "id": "nMBsyd0MuBop"
   },
   "outputs": [],
   "source": [
    "density = mass / (np.pi * np.power(diameter, 3) / 6)"
   ]
  },
  {
   "cell_type": "code",
   "execution_count": 87,
   "metadata": {
    "colab": {
     "base_uri": "https://localhost:8080/",
     "height": 248
    },
    "colab_type": "code",
    "executionInfo": {
     "elapsed": 799,
     "status": "ok",
     "timestamp": 1592825571061,
     "user": {
      "displayName": "PadhAI FDS",
      "photoUrl": "https://lh3.googleusercontent.com/a-/AOh14Gh8aWLOeF6MNJzb9_wadSluUosxW_XG64hmyjrP=s64",
      "userId": "06149814316635818851"
     },
     "user_tz": -330
    },
    "id": "5Su7tFcKuC5f",
    "outputId": "d317c63b-3a8f-4452-a6d3-1caa1499fb48"
   },
   "outputs": [
    {
     "data": {
      "text/plain": [
       "Earth      5.493286e-12\n",
       "Jupiter    1.240039e-12\n",
       "Mars       3.913302e-12\n",
       "Mercury    5.426538e-12\n",
       "Moon       3.343396e-11\n",
       "Neptune    1.603427e-12\n",
       "PlanetX             NaN\n",
       "Pluto      2.094639e-12\n",
       "Saturn     6.194402e-13\n",
       "Uranus     1.241079e-12\n",
       "Venus      5.244977e-12\n",
       "dtype: float64"
      ]
     },
     "execution_count": 87,
     "metadata": {},
     "output_type": "execute_result"
    }
   ],
   "source": [
    "density"
   ]
  },
  {
   "cell_type": "markdown",
   "metadata": {
    "colab_type": "text",
    "id": "YnUK0pj-uR5T"
   },
   "source": [
    "**Task 2**\n",
    "\n",
    "Given this density Series, replace all values which NaNs with the mean density of all planets"
   ]
  },
  {
   "cell_type": "code",
   "execution_count": 88,
   "metadata": {
    "colab": {},
    "colab_type": "code",
    "executionInfo": {
     "elapsed": 875,
     "status": "ok",
     "timestamp": 1592825488687,
     "user": {
      "displayName": "PadhAI FDS",
      "photoUrl": "https://lh3.googleusercontent.com/a-/AOh14Gh8aWLOeF6MNJzb9_wadSluUosxW_XG64hmyjrP=s64",
      "userId": "06149814316635818851"
     },
     "user_tz": -330
    },
    "id": "Ci26fhFDyrA1"
   },
   "outputs": [],
   "source": [
    "density_mean = np.mean(density)\n",
    "\n",
    "for key in density.index:\n",
    "    if pd.isnull(density[key]):\n",
    "        density[key] = density_mean"
   ]
  },
  {
   "cell_type": "code",
   "execution_count": 89,
   "metadata": {
    "colab": {
     "base_uri": "https://localhost:8080/",
     "height": 248
    },
    "colab_type": "code",
    "executionInfo": {
     "elapsed": 563,
     "status": "ok",
     "timestamp": 1592825492866,
     "user": {
      "displayName": "PadhAI FDS",
      "photoUrl": "https://lh3.googleusercontent.com/a-/AOh14Gh8aWLOeF6MNJzb9_wadSluUosxW_XG64hmyjrP=s64",
      "userId": "06149814316635818851"
     },
     "user_tz": -330
    },
    "id": "qMqrp413yruF",
    "outputId": "b4aee444-937d-4d3c-f4c7-5999eb3ba9c5"
   },
   "outputs": [
    {
     "name": "stdout",
     "output_type": "stream",
     "text": [
      "Earth      5.493286e-12\n",
      "Jupiter    1.240039e-12\n",
      "Mars       3.913302e-12\n",
      "Mercury    5.426538e-12\n",
      "Moon       3.343396e-11\n",
      "Neptune    1.603427e-12\n",
      "PlanetX    6.031069e-12\n",
      "Pluto      2.094639e-12\n",
      "Saturn     6.194402e-13\n",
      "Uranus     1.241079e-12\n",
      "Venus      5.244977e-12\n",
      "dtype: float64\n"
     ]
    }
   ],
   "source": [
    "print(density)"
   ]
  },
  {
   "cell_type": "code",
   "execution_count": 90,
   "metadata": {
    "colab": {},
    "colab_type": "code",
    "executionInfo": {
     "elapsed": 903,
     "status": "ok",
     "timestamp": 1592825592530,
     "user": {
      "displayName": "PadhAI FDS",
      "photoUrl": "https://lh3.googleusercontent.com/a-/AOh14Gh8aWLOeF6MNJzb9_wadSluUosxW_XG64hmyjrP=s64",
      "userId": "06149814316635818851"
     },
     "user_tz": -330
    },
    "id": "jKpnpK0Kyro-"
   },
   "outputs": [],
   "source": [
    "density[pd.isnull(density)] = np.mean(density)"
   ]
  },
  {
   "cell_type": "code",
   "execution_count": 91,
   "metadata": {
    "colab": {
     "base_uri": "https://localhost:8080/",
     "height": 248
    },
    "colab_type": "code",
    "executionInfo": {
     "elapsed": 529,
     "status": "ok",
     "timestamp": 1592825597086,
     "user": {
      "displayName": "PadhAI FDS",
      "photoUrl": "https://lh3.googleusercontent.com/a-/AOh14Gh8aWLOeF6MNJzb9_wadSluUosxW_XG64hmyjrP=s64",
      "userId": "06149814316635818851"
     },
     "user_tz": -330
    },
    "id": "IJYtW8ROyrkd",
    "outputId": "c6fc26ea-82cd-4e10-853b-5f1cc4598de0"
   },
   "outputs": [
    {
     "name": "stdout",
     "output_type": "stream",
     "text": [
      "Earth      5.493286e-12\n",
      "Jupiter    1.240039e-12\n",
      "Mars       3.913302e-12\n",
      "Mercury    5.426538e-12\n",
      "Moon       3.343396e-11\n",
      "Neptune    1.603427e-12\n",
      "PlanetX    6.031069e-12\n",
      "Pluto      2.094639e-12\n",
      "Saturn     6.194402e-13\n",
      "Uranus     1.241079e-12\n",
      "Venus      5.244977e-12\n",
      "dtype: float64\n"
     ]
    }
   ],
   "source": [
    "print(density)"
   ]
  },
  {
   "cell_type": "markdown",
   "metadata": {
    "colab_type": "text",
    "id": "9MOCvtiLuuSm"
   },
   "source": [
    "**Task 3**\n",
    "\n",
    "Compare Dictionary with Series: \n",
    "- checking if some key is present\n",
    "- summing values\n",
    "- computing std"
   ]
  },
  {
   "cell_type": "code",
   "execution_count": 92,
   "metadata": {
    "colab": {},
    "colab_type": "code",
    "executionInfo": {
     "elapsed": 1101,
     "status": "ok",
     "timestamp": 1592825874471,
     "user": {
      "displayName": "PadhAI FDS",
      "photoUrl": "https://lh3.googleusercontent.com/a-/AOh14Gh8aWLOeF6MNJzb9_wadSluUosxW_XG64hmyjrP=s64",
      "userId": "06149814316635818851"
     },
     "user_tz": -330
    },
    "id": "2vdPaE0AuEKs"
   },
   "outputs": [],
   "source": [
    "my_dict = {}\n",
    "N = 1000000\n",
    "for i in range(N):\n",
    "    my_dict[i] = i%10"
   ]
  },
  {
   "cell_type": "code",
   "execution_count": 93,
   "metadata": {
    "colab": {},
    "colab_type": "code",
    "executionInfo": {
     "elapsed": 2582,
     "status": "ok",
     "timestamp": 1592825876306,
     "user": {
      "displayName": "PadhAI FDS",
      "photoUrl": "https://lh3.googleusercontent.com/a-/AOh14Gh8aWLOeF6MNJzb9_wadSluUosxW_XG64hmyjrP=s64",
      "userId": "06149814316635818851"
     },
     "user_tz": -330
    },
    "id": "q4Wnc9pyz0Bz"
   },
   "outputs": [],
   "source": [
    "my_series = pd.Series(my_dict)"
   ]
  },
  {
   "cell_type": "code",
   "execution_count": 94,
   "metadata": {
    "colab": {},
    "colab_type": "code",
    "executionInfo": {
     "elapsed": 2224,
     "status": "ok",
     "timestamp": 1592825876308,
     "user": {
      "displayName": "PadhAI FDS",
      "photoUrl": "https://lh3.googleusercontent.com/a-/AOh14Gh8aWLOeF6MNJzb9_wadSluUosxW_XG64hmyjrP=s64",
      "userId": "06149814316635818851"
     },
     "user_tz": -330
    },
    "id": "bC5zidVGz2o9"
   },
   "outputs": [],
   "source": [
    "M = 10000"
   ]
  },
  {
   "cell_type": "code",
   "execution_count": 95,
   "metadata": {
    "colab": {},
    "colab_type": "code",
    "executionInfo": {
     "elapsed": 1710,
     "status": "ok",
     "timestamp": 1592825876309,
     "user": {
      "displayName": "PadhAI FDS",
      "photoUrl": "https://lh3.googleusercontent.com/a-/AOh14Gh8aWLOeF6MNJzb9_wadSluUosxW_XG64hmyjrP=s64",
      "userId": "06149814316635818851"
     },
     "user_tz": -330
    },
    "id": "MPIk0sg7z-gb"
   },
   "outputs": [],
   "source": [
    "arr = np.random.randint(0, N, M)"
   ]
  },
  {
   "cell_type": "code",
   "execution_count": 96,
   "metadata": {
    "colab": {
     "base_uri": "https://localhost:8080/",
     "height": 36
    },
    "colab_type": "code",
    "executionInfo": {
     "elapsed": 4064,
     "status": "ok",
     "timestamp": 1592825879250,
     "user": {
      "displayName": "PadhAI FDS",
      "photoUrl": "https://lh3.googleusercontent.com/a-/AOh14Gh8aWLOeF6MNJzb9_wadSluUosxW_XG64hmyjrP=s64",
      "userId": "06149814316635818851"
     },
     "user_tz": -330
    },
    "id": "PYEEv60A0Gpo",
    "outputId": "81998c90-cce6-43de-dc1d-38529c442621"
   },
   "outputs": [
    {
     "name": "stdout",
     "output_type": "stream",
     "text": [
      "4.43 ms ± 346 µs per loop (mean ± std. dev. of 7 runs, 100 loops each)\n"
     ]
    }
   ],
   "source": [
    "%%timeit\n",
    "for i in arr:\n",
    "    i in my_dict"
   ]
  },
  {
   "cell_type": "code",
   "execution_count": 97,
   "metadata": {
    "colab": {
     "base_uri": "https://localhost:8080/",
     "height": 76
    },
    "colab_type": "code",
    "executionInfo": {
     "elapsed": 8359,
     "status": "ok",
     "timestamp": 1592825884059,
     "user": {
      "displayName": "PadhAI FDS",
      "photoUrl": "https://lh3.googleusercontent.com/a-/AOh14Gh8aWLOeF6MNJzb9_wadSluUosxW_XG64hmyjrP=s64",
      "userId": "06149814316635818851"
     },
     "user_tz": -330
    },
    "id": "_vLNU8O90S-D",
    "outputId": "b0b2b3de-75dd-4354-a113-b9edf27d7c8f"
   },
   "outputs": [
    {
     "name": "stdout",
     "output_type": "stream",
     "text": [
      "10.8 ms ± 1.02 ms per loop (mean ± std. dev. of 7 runs, 100 loops each)\n"
     ]
    }
   ],
   "source": [
    "%%timeit\n",
    "for i in arr:\n",
    "    i in my_series"
   ]
  },
  {
   "cell_type": "code",
   "execution_count": 98,
   "metadata": {
    "colab": {
     "base_uri": "https://localhost:8080/",
     "height": 36
    },
    "colab_type": "code",
    "executionInfo": {
     "elapsed": 4013,
     "status": "ok",
     "timestamp": 1592825938362,
     "user": {
      "displayName": "PadhAI FDS",
      "photoUrl": "https://lh3.googleusercontent.com/a-/AOh14Gh8aWLOeF6MNJzb9_wadSluUosxW_XG64hmyjrP=s64",
      "userId": "06149814316635818851"
     },
     "user_tz": -330
    },
    "id": "-8uZ1kw20a1g",
    "outputId": "9f0a9d72-cba3-407a-db3a-0284eb387e0c"
   },
   "outputs": [
    {
     "name": "stdout",
     "output_type": "stream",
     "text": [
      "12 ms ± 522 µs per loop (mean ± std. dev. of 7 runs, 100 loops each)\n"
     ]
    }
   ],
   "source": [
    "%%timeit\n",
    "sum(my_dict.values())"
   ]
  },
  {
   "cell_type": "code",
   "execution_count": 99,
   "metadata": {
    "colab": {
     "base_uri": "https://localhost:8080/",
     "height": 36
    },
    "colab_type": "code",
    "executionInfo": {
     "elapsed": 4334,
     "status": "ok",
     "timestamp": 1592825976633,
     "user": {
      "displayName": "PadhAI FDS",
      "photoUrl": "https://lh3.googleusercontent.com/a-/AOh14Gh8aWLOeF6MNJzb9_wadSluUosxW_XG64hmyjrP=s64",
      "userId": "06149814316635818851"
     },
     "user_tz": -330
    },
    "id": "qz2FAhpT0vGp",
    "outputId": "dfdad3a0-270c-4d0c-9617-575c89a6650a"
   },
   "outputs": [
    {
     "name": "stdout",
     "output_type": "stream",
     "text": [
      "556 µs ± 16.5 µs per loop (mean ± std. dev. of 7 runs, 1000 loops each)\n"
     ]
    }
   ],
   "source": [
    "%%timeit\n",
    "np.sum(my_series)"
   ]
  },
  {
   "cell_type": "code",
   "execution_count": 100,
   "metadata": {
    "colab": {
     "base_uri": "https://localhost:8080/",
     "height": 36
    },
    "colab_type": "code",
    "executionInfo": {
     "elapsed": 7641,
     "status": "ok",
     "timestamp": 1592826080314,
     "user": {
      "displayName": "PadhAI FDS",
      "photoUrl": "https://lh3.googleusercontent.com/a-/AOh14Gh8aWLOeF6MNJzb9_wadSluUosxW_XG64hmyjrP=s64",
      "userId": "06149814316635818851"
     },
     "user_tz": -330
    },
    "id": "WZaduGUk005M",
    "outputId": "77f02925-8523-485a-f14d-52ae1ec19e59"
   },
   "outputs": [
    {
     "name": "stdout",
     "output_type": "stream",
     "text": [
      "333 ms ± 27.7 ms per loop (mean ± std. dev. of 7 runs, 1 loop each)\n"
     ]
    }
   ],
   "source": [
    "%%timeit\n",
    "mean = sum(my_dict.values()) / N\n",
    "variance = sum([(x - mean)**2 for x in my_dict.values()])\n",
    "std = variance ** 0.5"
   ]
  },
  {
   "cell_type": "code",
   "execution_count": 101,
   "metadata": {
    "colab": {
     "base_uri": "https://localhost:8080/",
     "height": 36
    },
    "colab_type": "code",
    "executionInfo": {
     "elapsed": 2253,
     "status": "ok",
     "timestamp": 1592826100348,
     "user": {
      "displayName": "PadhAI FDS",
      "photoUrl": "https://lh3.googleusercontent.com/a-/AOh14Gh8aWLOeF6MNJzb9_wadSluUosxW_XG64hmyjrP=s64",
      "userId": "06149814316635818851"
     },
     "user_tz": -330
    },
    "id": "SFPYW41t1Q3y",
    "outputId": "0b3eaa52-b416-4455-a5c5-21fc5d10095e"
   },
   "outputs": [
    {
     "name": "stdout",
     "output_type": "stream",
     "text": [
      "2.33 ms ± 84 µs per loop (mean ± std. dev. of 7 runs, 100 loops each)\n"
     ]
    }
   ],
   "source": [
    "%%timeit\n",
    "np.std(my_series)"
   ]
  },
  {
   "cell_type": "markdown",
   "metadata": {
    "colab_type": "text",
    "id": "vWb1foGs472-"
   },
   "source": [
    "# NIFTY case-study"
   ]
  },
  {
   "cell_type": "code",
   "execution_count": 2,
   "metadata": {
    "colab": {},
    "colab_type": "code",
    "executionInfo": {
     "elapsed": 588,
     "status": "ok",
     "timestamp": 1592827123212,
     "user": {
      "displayName": "PadhAI FDS",
      "photoUrl": "https://lh3.googleusercontent.com/a-/AOh14Gh8aWLOeF6MNJzb9_wadSluUosxW_XG64hmyjrP=s64",
      "userId": "06149814316635818851"
     },
     "user_tz": -330
    },
    "id": "fJuZwqwl4Ey7"
   },
   "outputs": [],
   "source": [
    "nifty = pd.read_csv('nifty.csv', index_col=0).iloc[:,0]"
   ]
  },
  {
   "cell_type": "code",
   "execution_count": 3,
   "metadata": {
    "colab": {
     "base_uri": "https://localhost:8080/",
     "height": 267
    },
    "colab_type": "code",
    "executionInfo": {
     "elapsed": 598,
     "status": "ok",
     "timestamp": 1592827131552,
     "user": {
      "displayName": "PadhAI FDS",
      "photoUrl": "https://lh3.googleusercontent.com/a-/AOh14Gh8aWLOeF6MNJzb9_wadSluUosxW_XG64hmyjrP=s64",
      "userId": "06149814316635818851"
     },
     "user_tz": -330
    },
    "id": "tjSzIPJN5PJs",
    "outputId": "3b7c4918-42cd-4ade-81c5-6101db03dffa"
   },
   "outputs": [
    {
     "data": {
      "text/plain": [
       "Date\n",
       "01-Jan-2019    10910.10\n",
       "02-Jan-2019    10792.50\n",
       "03-Jan-2019    10672.25\n",
       "04-Jan-2019    10727.35\n",
       "07-Jan-2019    10771.80\n",
       "                 ...   \n",
       "24-Dec-2019    12214.55\n",
       "26-Dec-2019    12126.55\n",
       "27-Dec-2019    12245.80\n",
       "30-Dec-2019    12255.85\n",
       "31-Dec-2019    12168.45\n",
       "Name: Close, Length: 245, dtype: float64"
      ]
     },
     "execution_count": 3,
     "metadata": {},
     "output_type": "execute_result"
    }
   ],
   "source": [
    "nifty"
   ]
  },
  {
   "cell_type": "code",
   "execution_count": 4,
   "metadata": {
    "colab": {
     "base_uri": "https://localhost:8080/",
     "height": 537
    },
    "colab_type": "code",
    "executionInfo": {
     "elapsed": 932,
     "status": "ok",
     "timestamp": 1592827158859,
     "user": {
      "displayName": "PadhAI FDS",
      "photoUrl": "https://lh3.googleusercontent.com/a-/AOh14Gh8aWLOeF6MNJzb9_wadSluUosxW_XG64hmyjrP=s64",
      "userId": "06149814316635818851"
     },
     "user_tz": -330
    },
    "id": "JHtfF2nD5TOY",
    "outputId": "e55cf8e5-e3bc-4362-acf2-39aa8536e226"
   },
   "outputs": [
    {
     "data": {
      "text/plain": [
       "Date\n",
       "01-Jan-2019    10910.10\n",
       "02-Jan-2019    10792.50\n",
       "03-Jan-2019    10672.25\n",
       "04-Jan-2019    10727.35\n",
       "07-Jan-2019    10771.80\n",
       "08-Jan-2019    10802.15\n",
       "09-Jan-2019    10855.15\n",
       "10-Jan-2019    10821.60\n",
       "11-Jan-2019    10794.95\n",
       "14-Jan-2019    10737.60\n",
       "15-Jan-2019    10886.80\n",
       "16-Jan-2019    10890.30\n",
       "17-Jan-2019    10905.20\n",
       "18-Jan-2019    10906.95\n",
       "21-Jan-2019    10961.85\n",
       "22-Jan-2019    10922.75\n",
       "23-Jan-2019    10831.50\n",
       "24-Jan-2019    10849.80\n",
       "25-Jan-2019    10780.55\n",
       "28-Jan-2019    10661.55\n",
       "29-Jan-2019    10652.20\n",
       "30-Jan-2019    10651.80\n",
       "31-Jan-2019    10830.95\n",
       "01-Feb-2019    10893.65\n",
       "04-Feb-2019    10912.25\n",
       "Name: Close, dtype: float64"
      ]
     },
     "execution_count": 4,
     "metadata": {},
     "output_type": "execute_result"
    }
   ],
   "source": [
    "nifty.head(25)"
   ]
  },
  {
   "cell_type": "code",
   "execution_count": 5,
   "metadata": {
    "colab": {
     "base_uri": "https://localhost:8080/",
     "height": 537
    },
    "colab_type": "code",
    "executionInfo": {
     "elapsed": 905,
     "status": "ok",
     "timestamp": 1592827184253,
     "user": {
      "displayName": "PadhAI FDS",
      "photoUrl": "https://lh3.googleusercontent.com/a-/AOh14Gh8aWLOeF6MNJzb9_wadSluUosxW_XG64hmyjrP=s64",
      "userId": "06149814316635818851"
     },
     "user_tz": -330
    },
    "id": "psJw-KAx5Z03",
    "outputId": "016bc603-0655-40a5-c4dd-bd52d4ce80c6"
   },
   "outputs": [
    {
     "data": {
      "text/plain": [
       "Date\n",
       "26-Nov-2019    12037.70\n",
       "27-Nov-2019    12100.70\n",
       "28-Nov-2019    12151.15\n",
       "29-Nov-2019    12056.05\n",
       "02-Dec-2019    12048.20\n",
       "03-Dec-2019    11994.20\n",
       "04-Dec-2019    12043.20\n",
       "05-Dec-2019    12018.40\n",
       "06-Dec-2019    11921.50\n",
       "09-Dec-2019    11937.50\n",
       "10-Dec-2019    11856.80\n",
       "11-Dec-2019    11910.15\n",
       "12-Dec-2019    11971.80\n",
       "13-Dec-2019    12086.70\n",
       "16-Dec-2019    12053.95\n",
       "17-Dec-2019    12165.00\n",
       "18-Dec-2019    12221.65\n",
       "19-Dec-2019    12259.70\n",
       "20-Dec-2019    12271.80\n",
       "23-Dec-2019    12262.75\n",
       "24-Dec-2019    12214.55\n",
       "26-Dec-2019    12126.55\n",
       "27-Dec-2019    12245.80\n",
       "30-Dec-2019    12255.85\n",
       "31-Dec-2019    12168.45\n",
       "Name: Close, dtype: float64"
      ]
     },
     "execution_count": 5,
     "metadata": {},
     "output_type": "execute_result"
    }
   ],
   "source": [
    "nifty.tail(25)"
   ]
  },
  {
   "cell_type": "code",
   "execution_count": 6,
   "metadata": {
    "colab": {
     "base_uri": "https://localhost:8080/",
     "height": 36
    },
    "colab_type": "code",
    "executionInfo": {
     "elapsed": 1068,
     "status": "ok",
     "timestamp": 1592827207528,
     "user": {
      "displayName": "PadhAI FDS",
      "photoUrl": "https://lh3.googleusercontent.com/a-/AOh14Gh8aWLOeF6MNJzb9_wadSluUosxW_XG64hmyjrP=s64",
      "userId": "06149814316635818851"
     },
     "user_tz": -330
    },
    "id": "fqgl02mk5gCF",
    "outputId": "1a1d784c-7caa-474d-dfe7-1ee3bd9203f6"
   },
   "outputs": [
    {
     "data": {
      "text/plain": [
       "11432.632244897959"
      ]
     },
     "execution_count": 6,
     "metadata": {},
     "output_type": "execute_result"
    }
   ],
   "source": [
    "np.mean(nifty)"
   ]
  },
  {
   "cell_type": "code",
   "execution_count": 7,
   "metadata": {
    "colab": {
     "base_uri": "https://localhost:8080/",
     "height": 36
    },
    "colab_type": "code",
    "executionInfo": {
     "elapsed": 1205,
     "status": "ok",
     "timestamp": 1592827236307,
     "user": {
      "displayName": "PadhAI FDS",
      "photoUrl": "https://lh3.googleusercontent.com/a-/AOh14Gh8aWLOeF6MNJzb9_wadSluUosxW_XG64hmyjrP=s64",
      "userId": "06149814316635818851"
     },
     "user_tz": -330
    },
    "id": "IvqAmKHO5lqF",
    "outputId": "f7af33c1-8f17-48a8-8add-d54948bbc5c9"
   },
   "outputs": [
    {
     "data": {
      "text/plain": [
       "11512.4"
      ]
     },
     "execution_count": 7,
     "metadata": {},
     "output_type": "execute_result"
    }
   ],
   "source": [
    "np.median(nifty)"
   ]
  },
  {
   "cell_type": "code",
   "execution_count": 8,
   "metadata": {
    "colab": {
     "base_uri": "https://localhost:8080/",
     "height": 36
    },
    "colab_type": "code",
    "executionInfo": {
     "elapsed": 638,
     "status": "ok",
     "timestamp": 1592827239146,
     "user": {
      "displayName": "PadhAI FDS",
      "photoUrl": "https://lh3.googleusercontent.com/a-/AOh14Gh8aWLOeF6MNJzb9_wadSluUosxW_XG64hmyjrP=s64",
      "userId": "06149814316635818851"
     },
     "user_tz": -330
    },
    "id": "XjMsiw8g5sp0",
    "outputId": "423c06e9-c57a-4ec3-dd64-d6d82aeed907"
   },
   "outputs": [
    {
     "data": {
      "text/plain": [
       "453.2866947459807"
      ]
     },
     "execution_count": 8,
     "metadata": {},
     "output_type": "execute_result"
    }
   ],
   "source": [
    "np.std(nifty)"
   ]
  },
  {
   "cell_type": "markdown",
   "metadata": {
    "colab_type": "text",
    "id": "Z344t9Ne51y1"
   },
   "source": [
    "What fraction of days did the markets close higher than the previous day's close"
   ]
  },
  {
   "cell_type": "code",
   "execution_count": 9,
   "metadata": {
    "colab": {
     "base_uri": "https://localhost:8080/",
     "height": 36
    },
    "colab_type": "code",
    "executionInfo": {
     "elapsed": 970,
     "status": "ok",
     "timestamp": 1592827351792,
     "user": {
      "displayName": "PadhAI FDS",
      "photoUrl": "https://lh3.googleusercontent.com/a-/AOh14Gh8aWLOeF6MNJzb9_wadSluUosxW_XG64hmyjrP=s64",
      "userId": "06149814316635818851"
     },
     "user_tz": -330
    },
    "id": "780tH05C5tfX",
    "outputId": "8723e0cb-e8b5-4421-cb79-68f5c9686feb"
   },
   "outputs": [
    {
     "data": {
      "text/plain": [
       "10910.1"
      ]
     },
     "execution_count": 9,
     "metadata": {},
     "output_type": "execute_result"
    }
   ],
   "source": [
    "nifty[0]"
   ]
  },
  {
   "cell_type": "code",
   "execution_count": 10,
   "metadata": {
    "colab": {
     "base_uri": "https://localhost:8080/",
     "height": 36
    },
    "colab_type": "code",
    "executionInfo": {
     "elapsed": 713,
     "status": "ok",
     "timestamp": 1592827356294,
     "user": {
      "displayName": "PadhAI FDS",
      "photoUrl": "https://lh3.googleusercontent.com/a-/AOh14Gh8aWLOeF6MNJzb9_wadSluUosxW_XG64hmyjrP=s64",
      "userId": "06149814316635818851"
     },
     "user_tz": -330
    },
    "id": "-p5JaqrR6I3L",
    "outputId": "900719c8-bade-4a6c-9912-e5e3cc3efe82"
   },
   "outputs": [
    {
     "data": {
      "text/plain": [
       "10792.5"
      ]
     },
     "execution_count": 10,
     "metadata": {},
     "output_type": "execute_result"
    }
   ],
   "source": [
    "nifty[1]"
   ]
  },
  {
   "cell_type": "code",
   "execution_count": 11,
   "metadata": {
    "colab": {
     "base_uri": "https://localhost:8080/",
     "height": 36
    },
    "colab_type": "code",
    "executionInfo": {
     "elapsed": 1135,
     "status": "ok",
     "timestamp": 1592827363698,
     "user": {
      "displayName": "PadhAI FDS",
      "photoUrl": "https://lh3.googleusercontent.com/a-/AOh14Gh8aWLOeF6MNJzb9_wadSluUosxW_XG64hmyjrP=s64",
      "userId": "06149814316635818851"
     },
     "user_tz": -330
    },
    "id": "EWgbGXdk6KBi",
    "outputId": "59d76592-5614-4af2-ba58-5bb2f292fa3b"
   },
   "outputs": [
    {
     "data": {
      "text/plain": [
       "-117.60000000000036"
      ]
     },
     "execution_count": 11,
     "metadata": {},
     "output_type": "execute_result"
    }
   ],
   "source": [
    "nifty[1] - nifty[0]"
   ]
  },
  {
   "cell_type": "code",
   "execution_count": 12,
   "metadata": {
    "colab": {
     "base_uri": "https://localhost:8080/",
     "height": 267
    },
    "colab_type": "code",
    "executionInfo": {
     "elapsed": 583,
     "status": "ok",
     "timestamp": 1592827440308,
     "user": {
      "displayName": "PadhAI FDS",
      "photoUrl": "https://lh3.googleusercontent.com/a-/AOh14Gh8aWLOeF6MNJzb9_wadSluUosxW_XG64hmyjrP=s64",
      "userId": "06149814316635818851"
     },
     "user_tz": -330
    },
    "id": "hCxYKgCs6LtT",
    "outputId": "fd1f237e-3212-400c-d9e8-65beb00295c6"
   },
   "outputs": [
    {
     "data": {
      "text/plain": [
       "Date\n",
       "02-Jan-2019    10792.50\n",
       "03-Jan-2019    10672.25\n",
       "04-Jan-2019    10727.35\n",
       "07-Jan-2019    10771.80\n",
       "08-Jan-2019    10802.15\n",
       "                 ...   \n",
       "24-Dec-2019    12214.55\n",
       "26-Dec-2019    12126.55\n",
       "27-Dec-2019    12245.80\n",
       "30-Dec-2019    12255.85\n",
       "31-Dec-2019    12168.45\n",
       "Name: Close, Length: 244, dtype: float64"
      ]
     },
     "execution_count": 12,
     "metadata": {},
     "output_type": "execute_result"
    }
   ],
   "source": [
    "nifty[1:]"
   ]
  },
  {
   "cell_type": "code",
   "execution_count": 13,
   "metadata": {
    "colab": {
     "base_uri": "https://localhost:8080/",
     "height": 267
    },
    "colab_type": "code",
    "executionInfo": {
     "elapsed": 956,
     "status": "ok",
     "timestamp": 1592827461303,
     "user": {
      "displayName": "PadhAI FDS",
      "photoUrl": "https://lh3.googleusercontent.com/a-/AOh14Gh8aWLOeF6MNJzb9_wadSluUosxW_XG64hmyjrP=s64",
      "userId": "06149814316635818851"
     },
     "user_tz": -330
    },
    "id": "_ERdCDqf6ej6",
    "outputId": "022c69a7-abce-4b1f-acd5-80eb02419f09"
   },
   "outputs": [
    {
     "data": {
      "text/plain": [
       "Date\n",
       "01-Jan-2019    10910.10\n",
       "02-Jan-2019    10792.50\n",
       "03-Jan-2019    10672.25\n",
       "04-Jan-2019    10727.35\n",
       "07-Jan-2019    10771.80\n",
       "                 ...   \n",
       "23-Dec-2019    12262.75\n",
       "24-Dec-2019    12214.55\n",
       "26-Dec-2019    12126.55\n",
       "27-Dec-2019    12245.80\n",
       "30-Dec-2019    12255.85\n",
       "Name: Close, Length: 244, dtype: float64"
      ]
     },
     "execution_count": 13,
     "metadata": {},
     "output_type": "execute_result"
    }
   ],
   "source": [
    "nifty[:-1]"
   ]
  },
  {
   "cell_type": "code",
   "execution_count": 14,
   "metadata": {
    "colab": {
     "base_uri": "https://localhost:8080/",
     "height": 267
    },
    "colab_type": "code",
    "executionInfo": {
     "elapsed": 816,
     "status": "ok",
     "timestamp": 1592827512578,
     "user": {
      "displayName": "PadhAI FDS",
      "photoUrl": "https://lh3.googleusercontent.com/a-/AOh14Gh8aWLOeF6MNJzb9_wadSluUosxW_XG64hmyjrP=s64",
      "userId": "06149814316635818851"
     },
     "user_tz": -330
    },
    "id": "WFbKmkt66jp1",
    "outputId": "bd9dbe34-df32-45fd-d8ca-f0eaba52d3a9"
   },
   "outputs": [
    {
     "data": {
      "text/plain": [
       "Date\n",
       "01-Apr-2019    0.0\n",
       "01-Aug-2019    0.0\n",
       "01-Feb-2019    0.0\n",
       "01-Jan-2019    NaN\n",
       "01-Jul-2019    0.0\n",
       "              ... \n",
       "31-Dec-2019    NaN\n",
       "31-Jan-2019    0.0\n",
       "31-Jul-2019    0.0\n",
       "31-May-2019    0.0\n",
       "31-Oct-2019    0.0\n",
       "Name: Close, Length: 245, dtype: float64"
      ]
     },
     "execution_count": 14,
     "metadata": {},
     "output_type": "execute_result"
    }
   ],
   "source": [
    "nifty[1:] - nifty[:-1]"
   ]
  },
  {
   "cell_type": "code",
   "execution_count": 15,
   "metadata": {
    "colab": {
     "base_uri": "https://localhost:8080/",
     "height": 36
    },
    "colab_type": "code",
    "executionInfo": {
     "elapsed": 1079,
     "status": "ok",
     "timestamp": 1592827771301,
     "user": {
      "displayName": "PadhAI FDS",
      "photoUrl": "https://lh3.googleusercontent.com/a-/AOh14Gh8aWLOeF6MNJzb9_wadSluUosxW_XG64hmyjrP=s64",
      "userId": "06149814316635818851"
     },
     "user_tz": -330
    },
    "id": "CCcDKP-P6wNL",
    "outputId": "00cde9bf-0978-4d3d-8b0d-b94bfcf19802"
   },
   "outputs": [
    {
     "data": {
      "text/plain": [
       "0.5265306122448979"
      ]
     },
     "execution_count": 15,
     "metadata": {},
     "output_type": "execute_result"
    }
   ],
   "source": [
    "np.sum((nifty.values[1:] - nifty.values[:-1]) > 0) / len(nifty)"
   ]
  },
  {
   "cell_type": "markdown",
   "metadata": {
    "colab_type": "text",
    "id": "edvwOD5779Hj"
   },
   "source": [
    "**Tasks**\n",
    "\n",
    "1. Compute moving average of the last 5 days\n",
    "\n",
    "2. Subset the data to include only data for Fridays"
   ]
  },
  {
   "cell_type": "code",
   "execution_count": 16,
   "metadata": {
    "colab": {
     "base_uri": "https://localhost:8080/",
     "height": 267
    },
    "colab_type": "code",
    "executionInfo": {
     "elapsed": 674,
     "status": "ok",
     "timestamp": 1592828833327,
     "user": {
      "displayName": "PadhAI FDS",
      "photoUrl": "https://lh3.googleusercontent.com/a-/AOh14Gh8aWLOeF6MNJzb9_wadSluUosxW_XG64hmyjrP=s64",
      "userId": "06149814316635818851"
     },
     "user_tz": -330
    },
    "id": "llVeLgtL_Czt",
    "outputId": "06338727-3e4a-4b42-9a64-5b3930cb42d1"
   },
   "outputs": [
    {
     "data": {
      "text/plain": [
       "Date\n",
       "01-Jan-2019    10910.10\n",
       "02-Jan-2019    10792.50\n",
       "03-Jan-2019    10672.25\n",
       "04-Jan-2019    10727.35\n",
       "07-Jan-2019    10771.80\n",
       "                 ...   \n",
       "24-Dec-2019    12214.55\n",
       "26-Dec-2019    12126.55\n",
       "27-Dec-2019    12245.80\n",
       "30-Dec-2019    12255.85\n",
       "31-Dec-2019    12168.45\n",
       "Name: Close, Length: 245, dtype: float64"
      ]
     },
     "execution_count": 16,
     "metadata": {},
     "output_type": "execute_result"
    }
   ],
   "source": [
    "nifty"
   ]
  },
  {
   "cell_type": "code",
   "execution_count": 17,
   "metadata": {
    "colab": {
     "base_uri": "https://localhost:8080/",
     "height": 36
    },
    "colab_type": "code",
    "executionInfo": {
     "elapsed": 1263,
     "status": "ok",
     "timestamp": 1592828878179,
     "user": {
      "displayName": "PadhAI FDS",
      "photoUrl": "https://lh3.googleusercontent.com/a-/AOh14Gh8aWLOeF6MNJzb9_wadSluUosxW_XG64hmyjrP=s64",
      "userId": "06149814316635818851"
     },
     "user_tz": -330
    },
    "id": "LTqqkME4_yrV",
    "outputId": "6f62858b-2d09-4af8-c8db-31c283bf50a8"
   },
   "outputs": [
    {
     "data": {
      "text/plain": [
       "'01-Jan-2019'"
      ]
     },
     "execution_count": 17,
     "metadata": {},
     "output_type": "execute_result"
    }
   ],
   "source": [
    "nifty.index[0]"
   ]
  },
  {
   "cell_type": "code",
   "execution_count": 18,
   "metadata": {
    "colab": {},
    "colab_type": "code",
    "executionInfo": {
     "elapsed": 694,
     "status": "ok",
     "timestamp": 1592828936650,
     "user": {
      "displayName": "PadhAI FDS",
      "photoUrl": "https://lh3.googleusercontent.com/a-/AOh14Gh8aWLOeF6MNJzb9_wadSluUosxW_XG64hmyjrP=s64",
      "userId": "06149814316635818851"
     },
     "user_tz": -330
    },
    "id": "hRnud47v_9Yj"
   },
   "outputs": [],
   "source": [
    "d = pd.Timestamp(nifty.index[0])"
   ]
  },
  {
   "cell_type": "code",
   "execution_count": 19,
   "metadata": {
    "colab": {
     "base_uri": "https://localhost:8080/",
     "height": 36
    },
    "colab_type": "code",
    "executionInfo": {
     "elapsed": 1082,
     "status": "ok",
     "timestamp": 1592828941987,
     "user": {
      "displayName": "PadhAI FDS",
      "photoUrl": "https://lh3.googleusercontent.com/a-/AOh14Gh8aWLOeF6MNJzb9_wadSluUosxW_XG64hmyjrP=s64",
      "userId": "06149814316635818851"
     },
     "user_tz": -330
    },
    "id": "4YvH3VHBAFJL",
    "outputId": "98d44b09-834c-4638-f80e-f5a95d1f1885"
   },
   "outputs": [
    {
     "data": {
      "text/plain": [
       "1"
      ]
     },
     "execution_count": 19,
     "metadata": {},
     "output_type": "execute_result"
    }
   ],
   "source": [
    "d.dayofweek"
   ]
  },
  {
   "cell_type": "code",
   "execution_count": 20,
   "metadata": {
    "colab": {},
    "colab_type": "code",
    "executionInfo": {
     "elapsed": 638,
     "status": "ok",
     "timestamp": 1592829010248,
     "user": {
      "displayName": "PadhAI FDS",
      "photoUrl": "https://lh3.googleusercontent.com/a-/AOh14Gh8aWLOeF6MNJzb9_wadSluUosxW_XG64hmyjrP=s64",
      "userId": "06149814316635818851"
     },
     "user_tz": -330
    },
    "id": "7pTekZDoANBJ"
   },
   "outputs": [],
   "source": [
    "new_index = map(pd.Timestamp, nifty.index)"
   ]
  },
  {
   "cell_type": "code",
   "execution_count": 21,
   "metadata": {
    "colab": {},
    "colab_type": "code",
    "executionInfo": {
     "elapsed": 939,
     "status": "ok",
     "timestamp": 1592829047652,
     "user": {
      "displayName": "PadhAI FDS",
      "photoUrl": "https://lh3.googleusercontent.com/a-/AOh14Gh8aWLOeF6MNJzb9_wadSluUosxW_XG64hmyjrP=s64",
      "userId": "06149814316635818851"
     },
     "user_tz": -330
    },
    "id": "jGWPYRHGAdza"
   },
   "outputs": [],
   "source": [
    "new_nifty = pd.Series(nifty, index = new_index)"
   ]
  },
  {
   "cell_type": "code",
   "execution_count": 22,
   "metadata": {
    "colab": {
     "base_uri": "https://localhost:8080/",
     "height": 248
    },
    "colab_type": "code",
    "executionInfo": {
     "elapsed": 638,
     "status": "ok",
     "timestamp": 1592829058372,
     "user": {
      "displayName": "PadhAI FDS",
      "photoUrl": "https://lh3.googleusercontent.com/a-/AOh14Gh8aWLOeF6MNJzb9_wadSluUosxW_XG64hmyjrP=s64",
      "userId": "06149814316635818851"
     },
     "user_tz": -330
    },
    "id": "caddy7ieAm88",
    "outputId": "972d4ed0-8337-42f2-8618-42d99b0ca1a7"
   },
   "outputs": [
    {
     "data": {
      "text/plain": [
       "2019-01-01    10910.10\n",
       "2019-01-02    10792.50\n",
       "2019-01-03    10672.25\n",
       "2019-01-04    10727.35\n",
       "2019-01-07    10771.80\n",
       "                ...   \n",
       "2019-12-24    12214.55\n",
       "2019-12-26    12126.55\n",
       "2019-12-27    12245.80\n",
       "2019-12-30    12255.85\n",
       "2019-12-31    12168.45\n",
       "Name: Close, Length: 245, dtype: float64"
      ]
     },
     "execution_count": 22,
     "metadata": {},
     "output_type": "execute_result"
    }
   ],
   "source": [
    "new_nifty"
   ]
  },
  {
   "cell_type": "code",
   "execution_count": 23,
   "metadata": {
    "colab": {
     "base_uri": "https://localhost:8080/",
     "height": 36
    },
    "colab_type": "code",
    "executionInfo": {
     "elapsed": 952,
     "status": "ok",
     "timestamp": 1592829068369,
     "user": {
      "displayName": "PadhAI FDS",
      "photoUrl": "https://lh3.googleusercontent.com/a-/AOh14Gh8aWLOeF6MNJzb9_wadSluUosxW_XG64hmyjrP=s64",
      "userId": "06149814316635818851"
     },
     "user_tz": -330
    },
    "id": "H0IrFqfoApmD",
    "outputId": "c1a6f736-cc71-420b-950b-cdea02e31533"
   },
   "outputs": [
    {
     "data": {
      "text/plain": [
       "Timestamp('2019-01-01 00:00:00')"
      ]
     },
     "execution_count": 23,
     "metadata": {},
     "output_type": "execute_result"
    }
   ],
   "source": [
    "new_nifty.index[0]"
   ]
  },
  {
   "cell_type": "code",
   "execution_count": 24,
   "metadata": {
    "colab": {
     "base_uri": "https://localhost:8080/",
     "height": 248
    },
    "colab_type": "code",
    "executionInfo": {
     "elapsed": 904,
     "status": "ok",
     "timestamp": 1592829140838,
     "user": {
      "displayName": "PadhAI FDS",
      "photoUrl": "https://lh3.googleusercontent.com/a-/AOh14Gh8aWLOeF6MNJzb9_wadSluUosxW_XG64hmyjrP=s64",
      "userId": "06149814316635818851"
     },
     "user_tz": -330
    },
    "id": "57J-jgC6Ar4q",
    "outputId": "6db45deb-dc5f-4c55-9d03-49b5dd0a7e6e"
   },
   "outputs": [
    {
     "data": {
      "text/plain": [
       "2019-01-01    10910.100000\n",
       "2019-01-02    10851.300000\n",
       "2019-01-03    10791.616667\n",
       "2019-01-04    10775.550000\n",
       "2019-01-07    10723.800000\n",
       "                  ...     \n",
       "2019-12-24    12249.700000\n",
       "2019-12-26    12201.283333\n",
       "2019-12-27    12212.412500\n",
       "2019-12-30    12209.400000\n",
       "2019-12-31    12223.366667\n",
       "Name: Close, Length: 245, dtype: float64"
      ]
     },
     "execution_count": 24,
     "metadata": {},
     "output_type": "execute_result"
    }
   ],
   "source": [
    "new_nifty.rolling(\"5d\").mean()"
   ]
  },
  {
   "cell_type": "code",
   "execution_count": 25,
   "metadata": {
    "colab": {},
    "colab_type": "code",
    "executionInfo": {
     "elapsed": 1395,
     "status": "ok",
     "timestamp": 1592829322394,
     "user": {
      "displayName": "PadhAI FDS",
      "photoUrl": "https://lh3.googleusercontent.com/a-/AOh14Gh8aWLOeF6MNJzb9_wadSluUosxW_XG64hmyjrP=s64",
      "userId": "06149814316635818851"
     },
     "user_tz": -330
    },
    "id": "xkzDXUIyA9th"
   },
   "outputs": [],
   "source": [
    "dow = new_nifty.copy()\n",
    "for i in dow.index:\n",
    "    dow[i] = i.dayofweek"
   ]
  },
  {
   "cell_type": "code",
   "execution_count": 26,
   "metadata": {
    "colab": {
     "base_uri": "https://localhost:8080/",
     "height": 248
    },
    "colab_type": "code",
    "executionInfo": {
     "elapsed": 570,
     "status": "ok",
     "timestamp": 1592829352590,
     "user": {
      "displayName": "PadhAI FDS",
      "photoUrl": "https://lh3.googleusercontent.com/a-/AOh14Gh8aWLOeF6MNJzb9_wadSluUosxW_XG64hmyjrP=s64",
      "userId": "06149814316635818851"
     },
     "user_tz": -330
    },
    "id": "6Yf2guuVBi6i",
    "outputId": "a8e3b911-4c38-4086-bcdd-ddce354512a5"
   },
   "outputs": [
    {
     "data": {
      "text/plain": [
       "2019-01-01    1.0\n",
       "2019-01-02    2.0\n",
       "2019-01-03    3.0\n",
       "2019-01-04    4.0\n",
       "2019-01-07    0.0\n",
       "             ... \n",
       "2019-12-24    1.0\n",
       "2019-12-26    3.0\n",
       "2019-12-27    4.0\n",
       "2019-12-30    0.0\n",
       "2019-12-31    1.0\n",
       "Name: Close, Length: 245, dtype: float64"
      ]
     },
     "execution_count": 26,
     "metadata": {},
     "output_type": "execute_result"
    }
   ],
   "source": [
    "dow"
   ]
  },
  {
   "cell_type": "code",
   "execution_count": 161,
   "metadata": {
    "colab": {
     "base_uri": "https://localhost:8080/",
     "height": 1000
    },
    "colab_type": "code",
    "executionInfo": {
     "elapsed": 944,
     "status": "ok",
     "timestamp": 1592829388646,
     "user": {
      "displayName": "PadhAI FDS",
      "photoUrl": "https://lh3.googleusercontent.com/a-/AOh14Gh8aWLOeF6MNJzb9_wadSluUosxW_XG64hmyjrP=s64",
      "userId": "06149814316635818851"
     },
     "user_tz": -330
    },
    "id": "sgQJ1djoBxeO",
    "outputId": "5dc2a7de-6827-4f04-bb3c-b8b46f3114ce"
   },
   "outputs": [
    {
     "data": {
      "text/plain": [
       "2019-01-04    10727.35\n",
       "2019-01-11    10794.95\n",
       "2019-01-18    10906.95\n",
       "2019-01-25    10780.55\n",
       "2019-02-01    10893.65\n",
       "2019-02-08    10943.60\n",
       "2019-02-15    10724.40\n",
       "2019-02-22    10791.65\n",
       "2019-03-01    10863.50\n",
       "2019-03-08    11035.40\n",
       "2019-03-15    11426.85\n",
       "2019-03-22    11456.90\n",
       "2019-03-29    11623.90\n",
       "2019-04-05    11665.95\n",
       "2019-04-12    11643.45\n",
       "2019-04-26    11754.65\n",
       "2019-05-03    11712.25\n",
       "2019-05-10    11278.90\n",
       "2019-05-17    11407.15\n",
       "2019-05-24    11844.10\n",
       "2019-05-31    11922.80\n",
       "2019-06-07    11870.65\n",
       "2019-06-14    11823.30\n",
       "2019-06-21    11724.10\n",
       "2019-06-28    11788.85\n",
       "2019-07-05    11811.15\n",
       "2019-07-12    11552.50\n",
       "2019-07-19    11419.25\n",
       "2019-07-26    11284.30\n",
       "2019-08-02    10997.35\n",
       "2019-08-09    11109.65\n",
       "2019-08-16    11047.80\n",
       "2019-08-23    10829.35\n",
       "2019-08-30    11023.25\n",
       "2019-09-06    10946.20\n",
       "2019-09-13    11075.90\n",
       "2019-09-20    11274.20\n",
       "2019-09-27    11512.40\n",
       "2019-10-04    11174.75\n",
       "2019-10-11    11305.05\n",
       "2019-10-18    11661.85\n",
       "2019-10-25    11583.90\n",
       "2019-11-01    11890.60\n",
       "2019-11-08    11908.15\n",
       "2019-11-15    11895.45\n",
       "2019-11-22    11914.40\n",
       "2019-11-29    12056.05\n",
       "2019-12-06    11921.50\n",
       "2019-12-13    12086.70\n",
       "2019-12-20    12271.80\n",
       "2019-12-27    12245.80\n",
       "Name: Close, dtype: float64"
      ]
     },
     "execution_count": 161,
     "metadata": {},
     "output_type": "execute_result"
    }
   ],
   "source": [
    "new_nifty[dow == 4]"
   ]
  },
  {
   "cell_type": "code",
   "execution_count": null,
   "metadata": {
    "colab": {},
    "colab_type": "code",
    "id": "ksvbsJ3ZB6M5"
   },
   "outputs": [],
   "source": []
  }
 ],
 "metadata": {
  "colab": {
   "authorship_tag": "ABX9TyOJK4ntU3oCsDIvmw/qEbfi",
   "name": "FDS_W9.ipynb",
   "provenance": []
  },
  "kernelspec": {
   "display_name": "Python 3",
   "language": "python",
   "name": "python3"
  },
  "language_info": {
   "codemirror_mode": {
    "name": "ipython",
    "version": 3
   },
   "file_extension": ".py",
   "mimetype": "text/x-python",
   "name": "python",
   "nbconvert_exporter": "python",
   "pygments_lexer": "ipython3",
   "version": "3.8.3"
  }
 },
 "nbformat": 4,
 "nbformat_minor": 1
}
