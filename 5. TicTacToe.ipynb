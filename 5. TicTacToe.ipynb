{
 "metadata": {
  "language_info": {
   "codemirror_mode": {
    "name": "ipython",
    "version": 3
   },
   "file_extension": ".py",
   "mimetype": "text/x-python",
   "name": "python",
   "nbconvert_exporter": "python",
   "pygments_lexer": "ipython3",
   "version": "3.8.3-final"
  },
  "orig_nbformat": 2,
  "kernelspec": {
   "name": "python3",
   "display_name": "Python 3.8.3 64-bit (conda)",
   "metadata": {
    "interpreter": {
     "hash": "a1b4f4b5b59d091f24ed8aad52614a3516ad0de64d607555a43675d2b4fd5eeb"
    }
   }
  }
 },
 "nbformat": 4,
 "nbformat_minor": 2,
 "cells": [
  {
   "source": [
    "# TicTacToe"
   ],
   "cell_type": "markdown",
   "metadata": {}
  },
  {
   "source": [
    "This is very primitive code for TicTacToe and has many deficiencies. See if you can identify the shortcomings of this code and write a better code."
   ],
   "cell_type": "markdown",
   "metadata": {}
  },
  {
   "cell_type": "code",
   "execution_count": 1,
   "metadata": {},
   "outputs": [],
   "source": [
    "board = [\" \"]*9"
   ]
  },
  {
   "cell_type": "code",
   "execution_count": 2,
   "metadata": {},
   "outputs": [],
   "source": [
    "def board_print(board):\n",
    "    print(board[6], \"|\", board[7], \"|\", board[8])\n",
    "    print(\"-\",\"|\",\"-\",\"|\",\"-\")\n",
    "    print(board[3], \"|\", board[4], \"|\", board[5])\n",
    "    print(\"-\",\"|\",\"-\",\"|\",\"-\")\n",
    "    print(board[0], \"|\", board[1], \"|\", board[2])"
   ]
  },
  {
   "cell_type": "code",
   "execution_count": 3,
   "metadata": {},
   "outputs": [
    {
     "output_type": "stream",
     "name": "stdout",
     "text": [
      "  |   |  \n- | - | -\n  |   |  \n- | - | -\n  |   |  \n"
     ]
    }
   ],
   "source": [
    "board_print(board)"
   ]
  },
  {
   "cell_type": "code",
   "execution_count": 4,
   "metadata": {},
   "outputs": [],
   "source": [
    "def player_sign():\n",
    "    global player1_sign\n",
    "    global player2_sign\n",
    "    player1_sign = input(\"hey player 1 choose x or o \")\n",
    "    if player1_sign == \"x\":\n",
    "        player2_sign = \"o\"\n",
    "    else:\n",
    "        player2_sign = \"x\"\n",
    "    print(\"Player 1: {} , Player 2: {}\".format(player1_sign , player2_sign))\n",
    "        "
   ]
  },
  {
   "cell_type": "code",
   "execution_count": 5,
   "metadata": {},
   "outputs": [],
   "source": [
    "def player1_turn():\n",
    "    loc = input(\"choose your location player 1 \")\n",
    "    loc = int(loc)-1\n",
    "    board[loc] = player1_sign\n",
    "    board_print(board)\n",
    "    win_check()\n",
    "    if win_check() == True:\n",
    "        print(\"Player1 wins\")\n",
    "    else:\n",
    "        player2_turn()"
   ]
  },
  {
   "cell_type": "code",
   "execution_count": 6,
   "metadata": {},
   "outputs": [],
   "source": [
    "def player2_turn():\n",
    "    loc = input(\"choose your location player 2 \")\n",
    "    loc = int(loc)-1\n",
    "    board[loc] = player2_sign\n",
    "    win_check()\n",
    "    if win_check() == False:\n",
    "        board_print(board)\n",
    "        print(\"Player2 wins\")\n",
    "    else:\n",
    "        player1_turn()\n",
    "    "
   ]
  },
  {
   "cell_type": "code",
   "execution_count": 7,
   "metadata": {},
   "outputs": [],
   "source": [
    "def win_check():\n",
    "    if (board[0] == board[1] == board[2] == player1_sign or\n",
    "    board[3] == board[4] == board[5] == player1_sign or\n",
    "    board[6] == board[7] == board[8] == player1_sign or\n",
    "    board[0] == board[3] == board[6] == player1_sign or\n",
    "    board[1] == board[4] == board[7] == player1_sign or\n",
    "    board[2] == board[5] == board[8] == player1_sign or\n",
    "    board[6] == board[4] == board[2] == player1_sign or\n",
    "    board[0] == board[4] == board[8] == player1_sign):\n",
    "        return True\n",
    "    elif (board[0] == board[1] == board[2] == player2_sign or\n",
    "    board[3] == board[4] == board[5] == player2_sign or\n",
    "    board[6] == board[7] == board[8] == player2_sign or\n",
    "    board[0] == board[3] == board[6] == player2_sign or\n",
    "    board[1] == board[4] == board[7] == player2_sign or\n",
    "    board[2] == board[5] == board[8] == player2_sign or\n",
    "    board[6] == board[4] == board[2] == player2_sign or\n",
    "    board[0] == board[4] == board[8] == player2_sign):\n",
    "        return False\n",
    "    else:\n",
    "        return (\"keep playing\")\n",
    "        \n",
    "        "
   ]
  },
  {
   "cell_type": "code",
   "execution_count": 8,
   "metadata": {},
   "outputs": [],
   "source": [
    "def tic_tac_toe():\n",
    "    board_print(board)\n",
    "    player_sign()\n",
    "    player1_turn()\n",
    "    \n",
    "    "
   ]
  },
  {
   "cell_type": "code",
   "execution_count": 9,
   "metadata": {},
   "outputs": [
    {
     "output_type": "stream",
     "name": "stdout",
     "text": [
      "  |   |  \n",
      "- | - | -\n",
      "  |   |  \n",
      "- | - | -\n",
      "  |   |  \n",
      "Player 1: x , Player 2: o\n",
      "  |   | x\n",
      "- | - | -\n",
      "  |   |  \n",
      "- | - | -\n",
      "  |   |  \n",
      "  |   | o\n",
      "- | - | -\n",
      "  |   |  \n",
      "- | - | -\n",
      "x |   |  \n",
      "o |   | o\n",
      "- | - | -\n",
      "  |   |  \n",
      "- | - | -\n",
      "x | x |  \n",
      "o |   | o\n",
      "- | - | -\n",
      "  | o |  \n",
      "- | - | -\n",
      "x | x |  \n",
      "o |   | o\n",
      "- | - | -\n",
      "  | o |  \n",
      "- | - | -\n",
      "x | x | x\n",
      "Player1 wins\n"
     ]
    }
   ],
   "source": [
    "tic_tac_toe()"
   ]
  },
  {
   "cell_type": "code",
   "execution_count": null,
   "metadata": {},
   "outputs": [],
   "source": []
  }
 ]
}