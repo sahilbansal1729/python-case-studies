{
 "metadata": {
  "language_info": {
   "codemirror_mode": {
    "name": "ipython",
    "version": 3
   },
   "file_extension": ".py",
   "mimetype": "text/x-python",
   "name": "python",
   "nbconvert_exporter": "python",
   "pygments_lexer": "ipython3",
   "version": "3.8.3-final"
  },
  "orig_nbformat": 2,
  "kernelspec": {
   "name": "python3",
   "display_name": "Python 3",
   "language": "python"
  }
 },
 "nbformat": 4,
 "nbformat_minor": 2,
 "cells": [
  {
   "source": [
    "## Problem Data\n",
    "We have two different CSV files i.e. NIFTY50 and NIFTYNEXT50.\n",
    "We have following tasks to do on this data:\n",
    "\n",
    "1. In 2019, in how many days was the NIFTY50 volatile (high > 105% of low)\n",
    "\n",
    "2. In 2019, in how many days was the NIFTYNEXT50 volatile (high > 105% of low)\n",
    "\n",
    "3. In 2019, how many days belonged to the four classes NIFTY50 volatile / non-volatile and NIFTYNext50 volatile / non-volatile\n",
    "\n",
    "4. Compute the mean, median, std, var of closing values for each weekday in NIFTY50 for 2019\n",
    "\n",
    "5. Compute the mean, median, std, var of closing values for each month in NIFTY50 for 2019\n",
    "\n",
    "6. On the days in which NIFTY50 closed higher than the open, what was the mean of (close - open) for NIFTYNext50\n",
    "\n",
    "7. In 2019, how many days had the day's high lower than the previous day's low in NIFTY50\n",
    "\n",
    "8. In 2019, on how many days did the day's close exceed the 30 day moving average in NIFTY50 (exclude first month)"
   ],
   "cell_type": "markdown",
   "metadata": {}
  },
  {
   "source": [
    "## Libraries Used\n",
    "\n",
    "1. Pandas\n",
    "2. Numpy"
   ],
   "cell_type": "markdown",
   "metadata": {}
  },
  {
   "cell_type": "code",
   "execution_count": 3,
   "metadata": {},
   "outputs": [],
   "source": [
    "import numpy as np\n",
    "import pandas as pd"
   ]
  },
  {
   "cell_type": "code",
   "execution_count": 14,
   "metadata": {},
   "outputs": [],
   "source": [
    "nifty50 = pd.read_csv(\"NIFTY50_2019.csv\" , index_col = 0)\n",
    "niftynext50 = pd.read_csv(\"NIFTYNEXT50_2019.csv\" , index_col = 0)\n",
    "#reading both files and using index_col to have date as my index column"
   ]
  },
  {
   "cell_type": "code",
   "execution_count": 15,
   "metadata": {},
   "outputs": [
    {
     "output_type": "execute_result",
     "data": {
      "text/plain": [
       "                 Open      High       Low     Close\n",
       "Date                                               \n",
       "31 Dec 2019  12247.10  12247.10  12151.80  12168.45\n",
       "30 Dec 2019  12274.90  12286.45  12213.80  12255.85\n",
       "27 Dec 2019  12172.90  12258.45  12157.90  12245.80\n",
       "26 Dec 2019  12211.85  12221.55  12118.85  12126.55\n",
       "24 Dec 2019  12269.25  12283.70  12202.10  12214.55\n",
       "...               ...       ...       ...       ...\n",
       "07 Jan 2019  10804.85  10835.95  10750.15  10771.80\n",
       "04 Jan 2019  10699.70  10741.05  10628.65  10727.35\n",
       "03 Jan 2019  10796.80  10814.05  10661.25  10672.25\n",
       "02 Jan 2019  10868.85  10895.35  10735.05  10792.50\n",
       "01 Jan 2019  10881.70  10923.60  10807.10  10910.10\n",
       "\n",
       "[245 rows x 4 columns]"
      ],
      "text/html": "<div>\n<style scoped>\n    .dataframe tbody tr th:only-of-type {\n        vertical-align: middle;\n    }\n\n    .dataframe tbody tr th {\n        vertical-align: top;\n    }\n\n    .dataframe thead th {\n        text-align: right;\n    }\n</style>\n<table border=\"1\" class=\"dataframe\">\n  <thead>\n    <tr style=\"text-align: right;\">\n      <th></th>\n      <th>Open</th>\n      <th>High</th>\n      <th>Low</th>\n      <th>Close</th>\n    </tr>\n    <tr>\n      <th>Date</th>\n      <th></th>\n      <th></th>\n      <th></th>\n      <th></th>\n    </tr>\n  </thead>\n  <tbody>\n    <tr>\n      <th>31 Dec 2019</th>\n      <td>12247.10</td>\n      <td>12247.10</td>\n      <td>12151.80</td>\n      <td>12168.45</td>\n    </tr>\n    <tr>\n      <th>30 Dec 2019</th>\n      <td>12274.90</td>\n      <td>12286.45</td>\n      <td>12213.80</td>\n      <td>12255.85</td>\n    </tr>\n    <tr>\n      <th>27 Dec 2019</th>\n      <td>12172.90</td>\n      <td>12258.45</td>\n      <td>12157.90</td>\n      <td>12245.80</td>\n    </tr>\n    <tr>\n      <th>26 Dec 2019</th>\n      <td>12211.85</td>\n      <td>12221.55</td>\n      <td>12118.85</td>\n      <td>12126.55</td>\n    </tr>\n    <tr>\n      <th>24 Dec 2019</th>\n      <td>12269.25</td>\n      <td>12283.70</td>\n      <td>12202.10</td>\n      <td>12214.55</td>\n    </tr>\n    <tr>\n      <th>...</th>\n      <td>...</td>\n      <td>...</td>\n      <td>...</td>\n      <td>...</td>\n    </tr>\n    <tr>\n      <th>07 Jan 2019</th>\n      <td>10804.85</td>\n      <td>10835.95</td>\n      <td>10750.15</td>\n      <td>10771.80</td>\n    </tr>\n    <tr>\n      <th>04 Jan 2019</th>\n      <td>10699.70</td>\n      <td>10741.05</td>\n      <td>10628.65</td>\n      <td>10727.35</td>\n    </tr>\n    <tr>\n      <th>03 Jan 2019</th>\n      <td>10796.80</td>\n      <td>10814.05</td>\n      <td>10661.25</td>\n      <td>10672.25</td>\n    </tr>\n    <tr>\n      <th>02 Jan 2019</th>\n      <td>10868.85</td>\n      <td>10895.35</td>\n      <td>10735.05</td>\n      <td>10792.50</td>\n    </tr>\n    <tr>\n      <th>01 Jan 2019</th>\n      <td>10881.70</td>\n      <td>10923.60</td>\n      <td>10807.10</td>\n      <td>10910.10</td>\n    </tr>\n  </tbody>\n</table>\n<p>245 rows × 4 columns</p>\n</div>"
     },
     "metadata": {},
     "execution_count": 15
    }
   ],
   "source": [
    "nifty50"
   ]
  },
  {
   "cell_type": "code",
   "execution_count": 16,
   "metadata": {},
   "outputs": [
    {
     "output_type": "execute_result",
     "data": {
      "text/plain": [
       "                 Open      High       Low     Close\n",
       "Date                                               \n",
       "31 Dec 2019  28495.00  28549.50  28270.25  28307.55\n",
       "30 Dec 2019  28528.95  28612.95  28406.70  28484.85\n",
       "27 Dec 2019  28354.50  28500.25  28319.90  28476.80\n",
       "26 Dec 2019  28409.10  28435.25  28259.75  28280.25\n",
       "24 Dec 2019  28423.70  28430.40  28318.75  28382.85\n",
       "...               ...       ...       ...       ...\n",
       "07 Jan 2019  27893.95  27932.00  27652.95  27706.60\n",
       "04 Jan 2019  27707.20  27842.75  27533.90  27719.50\n",
       "03 Jan 2019  27874.05  28045.30  27630.20  27674.65\n",
       "02 Jan 2019  28074.05  28188.40  27801.75  27876.95\n",
       "01 Jan 2019  28243.95  28252.20  27988.60  28111.65\n",
       "\n",
       "[245 rows x 4 columns]"
      ],
      "text/html": "<div>\n<style scoped>\n    .dataframe tbody tr th:only-of-type {\n        vertical-align: middle;\n    }\n\n    .dataframe tbody tr th {\n        vertical-align: top;\n    }\n\n    .dataframe thead th {\n        text-align: right;\n    }\n</style>\n<table border=\"1\" class=\"dataframe\">\n  <thead>\n    <tr style=\"text-align: right;\">\n      <th></th>\n      <th>Open</th>\n      <th>High</th>\n      <th>Low</th>\n      <th>Close</th>\n    </tr>\n    <tr>\n      <th>Date</th>\n      <th></th>\n      <th></th>\n      <th></th>\n      <th></th>\n    </tr>\n  </thead>\n  <tbody>\n    <tr>\n      <th>31 Dec 2019</th>\n      <td>28495.00</td>\n      <td>28549.50</td>\n      <td>28270.25</td>\n      <td>28307.55</td>\n    </tr>\n    <tr>\n      <th>30 Dec 2019</th>\n      <td>28528.95</td>\n      <td>28612.95</td>\n      <td>28406.70</td>\n      <td>28484.85</td>\n    </tr>\n    <tr>\n      <th>27 Dec 2019</th>\n      <td>28354.50</td>\n      <td>28500.25</td>\n      <td>28319.90</td>\n      <td>28476.80</td>\n    </tr>\n    <tr>\n      <th>26 Dec 2019</th>\n      <td>28409.10</td>\n      <td>28435.25</td>\n      <td>28259.75</td>\n      <td>28280.25</td>\n    </tr>\n    <tr>\n      <th>24 Dec 2019</th>\n      <td>28423.70</td>\n      <td>28430.40</td>\n      <td>28318.75</td>\n      <td>28382.85</td>\n    </tr>\n    <tr>\n      <th>...</th>\n      <td>...</td>\n      <td>...</td>\n      <td>...</td>\n      <td>...</td>\n    </tr>\n    <tr>\n      <th>07 Jan 2019</th>\n      <td>27893.95</td>\n      <td>27932.00</td>\n      <td>27652.95</td>\n      <td>27706.60</td>\n    </tr>\n    <tr>\n      <th>04 Jan 2019</th>\n      <td>27707.20</td>\n      <td>27842.75</td>\n      <td>27533.90</td>\n      <td>27719.50</td>\n    </tr>\n    <tr>\n      <th>03 Jan 2019</th>\n      <td>27874.05</td>\n      <td>28045.30</td>\n      <td>27630.20</td>\n      <td>27674.65</td>\n    </tr>\n    <tr>\n      <th>02 Jan 2019</th>\n      <td>28074.05</td>\n      <td>28188.40</td>\n      <td>27801.75</td>\n      <td>27876.95</td>\n    </tr>\n    <tr>\n      <th>01 Jan 2019</th>\n      <td>28243.95</td>\n      <td>28252.20</td>\n      <td>27988.60</td>\n      <td>28111.65</td>\n    </tr>\n  </tbody>\n</table>\n<p>245 rows × 4 columns</p>\n</div>"
     },
     "metadata": {},
     "execution_count": 16
    }
   ],
   "source": [
    "niftynext50"
   ]
  },
  {
   "source": [
    "### Task 1\n",
    "In 2019, in how many days was the NIFTY50 volatile (high > 105% of low)"
   ],
   "cell_type": "markdown",
   "metadata": {}
  },
  {
   "cell_type": "code",
   "execution_count": 26,
   "metadata": {},
   "outputs": [
    {
     "output_type": "execute_result",
     "data": {
      "text/plain": [
       "1"
      ]
     },
     "metadata": {},
     "execution_count": 26
    }
   ],
   "source": [
    "nifty50[nifty50[\"High\"]>1.05*nifty50[\"Low\"]][\"Open\"].count()"
   ]
  },
  {
   "source": [
    "### Task 2\n",
    "In 2019, in how many days was the NIFTYNEXT50 volatile (high > 105% of low)"
   ],
   "cell_type": "markdown",
   "metadata": {}
  },
  {
   "cell_type": "code",
   "execution_count": 27,
   "metadata": {},
   "outputs": [
    {
     "output_type": "execute_result",
     "data": {
      "text/plain": [
       "1"
      ]
     },
     "metadata": {},
     "execution_count": 27
    }
   ],
   "source": [
    "niftynext50[niftynext50[\"High\"]>1.05*niftynext50[\"Low\"]][\"Open\"].count()"
   ]
  },
  {
   "source": [
    "### Task 3\n",
    "In 2019, how many days belonged to the four classes NIFTY50 volatile / non-volatile and NIFTYNext50 volatile / non-volatile"
   ],
   "cell_type": "markdown",
   "metadata": {}
  },
  {
   "cell_type": "code",
   "execution_count": 30,
   "metadata": {},
   "outputs": [
    {
     "output_type": "stream",
     "name": "stdout",
     "text": [
      " nifty50_volatile 1 \n nifty50_non_volatile 244 \n niftynext50_volatile 1 \n niftynext50_non_volatile 244\n"
     ]
    }
   ],
   "source": [
    "nifty50_volatile = nifty50[nifty50[\"High\"]>1.05*nifty50[\"Low\"]][\"Open\"].count()\n",
    "nifty50_non_volatile = nifty50[nifty50[\"High\"]<=1.05*nifty50[\"Low\"]][\"Open\"].count()\n",
    "niftynext50_volatile = niftynext50[niftynext50[\"High\"]>1.05*niftynext50[\"Low\"]][\"Open\"].count()\n",
    "niftynext50_non_volatile = niftynext50[niftynext50[\"High\"]<=1.05*niftynext50[\"Low\"]][\"Open\"].count()\n",
    "print(\" nifty50_volatile\" , nifty50_volatile , \"\\n\" , \"nifty50_non_volatile\" , nifty50_non_volatile , \"\\n\" , \"niftynext50_volatile\" , niftynext50_volatile , \"\\n\" , \"niftynext50_non_volatile\" , niftynext50_non_volatile)"
   ]
  }
 ]
}