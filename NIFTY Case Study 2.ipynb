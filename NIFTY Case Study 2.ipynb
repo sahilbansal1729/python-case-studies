{
 "metadata": {
  "language_info": {
   "codemirror_mode": {
    "name": "ipython",
    "version": 3
   },
   "file_extension": ".py",
   "mimetype": "text/x-python",
   "name": "python",
   "nbconvert_exporter": "python",
   "pygments_lexer": "ipython3",
   "version": "3.8.3-final"
  },
  "orig_nbformat": 2,
  "kernelspec": {
   "name": "python3",
   "display_name": "Python 3",
   "language": "python"
  }
 },
 "nbformat": 4,
 "nbformat_minor": 2,
 "cells": [
  {
   "source": [
    "## Problem Data\n",
    "We have two different CSV files i.e. NIFTY50 and NIFTYNEXT50.\n",
    "We have following tasks to do on this data:\n",
    "\n",
    "1. In 2019, in how many days was the NIFTY50 volatile (high > 105% of low)\n",
    "\n",
    "2. In 2019, in how many days was the NIFTYNEXT50 volatile (high > 105% of low)\n",
    "\n",
    "3. In 2019, how many days belonged to the four classes NIFTY50 volatile / non-volatile and NIFTYNext50 volatile / non-volatile\n",
    "\n",
    "4. Compute the mean, median, std, var of closing values for each weekday in NIFTY50 for 2019\n",
    "\n",
    "5. Compute the mean, median, std, var of closing values for each month in NIFTY50 for 2019\n",
    "\n",
    "6. On the days in which NIFTY50 closed higher than the open, what was the mean of (close - open) for NIFTYNext50\n",
    "\n",
    "7. In 2019, how many days had the day's high lower than the previous day's low in NIFTY50\n",
    "\n",
    "8. In 2019, on how many days did the day's close exceed the 30 day moving average in NIFTY50 (exclude first month)"
   ],
   "cell_type": "markdown",
   "metadata": {}
  },
  {
   "source": [
    "## Libraries Used\n",
    "\n",
    "1. Pandas\n",
    "2. Numpy"
   ],
   "cell_type": "markdown",
   "metadata": {}
  },
  {
   "cell_type": "code",
   "execution_count": 2,
   "metadata": {},
   "outputs": [],
   "source": [
    "import numpy as np\n",
    "import pandas as pd"
   ]
  },
  {
   "cell_type": "code",
   "execution_count": 3,
   "metadata": {},
   "outputs": [],
   "source": [
    "nifty50 = pd.read_csv(\"NIFTY50_2019.csv\" , index_col = 0)\n",
    "niftynext50 = pd.read_csv(\"NIFTYNEXT50_2019.csv\" , index_col = 0)\n",
    "#reading both files and using index_col to have date as my index column"
   ]
  },
  {
   "cell_type": "code",
   "execution_count": 4,
   "metadata": {},
   "outputs": [
    {
     "output_type": "execute_result",
     "data": {
      "text/plain": [
       "                 Open      High       Low     Close\n",
       "Date                                               \n",
       "31 Dec 2019  12247.10  12247.10  12151.80  12168.45\n",
       "30 Dec 2019  12274.90  12286.45  12213.80  12255.85\n",
       "27 Dec 2019  12172.90  12258.45  12157.90  12245.80\n",
       "26 Dec 2019  12211.85  12221.55  12118.85  12126.55\n",
       "24 Dec 2019  12269.25  12283.70  12202.10  12214.55\n",
       "...               ...       ...       ...       ...\n",
       "07 Jan 2019  10804.85  10835.95  10750.15  10771.80\n",
       "04 Jan 2019  10699.70  10741.05  10628.65  10727.35\n",
       "03 Jan 2019  10796.80  10814.05  10661.25  10672.25\n",
       "02 Jan 2019  10868.85  10895.35  10735.05  10792.50\n",
       "01 Jan 2019  10881.70  10923.60  10807.10  10910.10\n",
       "\n",
       "[245 rows x 4 columns]"
      ],
      "text/html": "<div>\n<style scoped>\n    .dataframe tbody tr th:only-of-type {\n        vertical-align: middle;\n    }\n\n    .dataframe tbody tr th {\n        vertical-align: top;\n    }\n\n    .dataframe thead th {\n        text-align: right;\n    }\n</style>\n<table border=\"1\" class=\"dataframe\">\n  <thead>\n    <tr style=\"text-align: right;\">\n      <th></th>\n      <th>Open</th>\n      <th>High</th>\n      <th>Low</th>\n      <th>Close</th>\n    </tr>\n    <tr>\n      <th>Date</th>\n      <th></th>\n      <th></th>\n      <th></th>\n      <th></th>\n    </tr>\n  </thead>\n  <tbody>\n    <tr>\n      <th>31 Dec 2019</th>\n      <td>12247.10</td>\n      <td>12247.10</td>\n      <td>12151.80</td>\n      <td>12168.45</td>\n    </tr>\n    <tr>\n      <th>30 Dec 2019</th>\n      <td>12274.90</td>\n      <td>12286.45</td>\n      <td>12213.80</td>\n      <td>12255.85</td>\n    </tr>\n    <tr>\n      <th>27 Dec 2019</th>\n      <td>12172.90</td>\n      <td>12258.45</td>\n      <td>12157.90</td>\n      <td>12245.80</td>\n    </tr>\n    <tr>\n      <th>26 Dec 2019</th>\n      <td>12211.85</td>\n      <td>12221.55</td>\n      <td>12118.85</td>\n      <td>12126.55</td>\n    </tr>\n    <tr>\n      <th>24 Dec 2019</th>\n      <td>12269.25</td>\n      <td>12283.70</td>\n      <td>12202.10</td>\n      <td>12214.55</td>\n    </tr>\n    <tr>\n      <th>...</th>\n      <td>...</td>\n      <td>...</td>\n      <td>...</td>\n      <td>...</td>\n    </tr>\n    <tr>\n      <th>07 Jan 2019</th>\n      <td>10804.85</td>\n      <td>10835.95</td>\n      <td>10750.15</td>\n      <td>10771.80</td>\n    </tr>\n    <tr>\n      <th>04 Jan 2019</th>\n      <td>10699.70</td>\n      <td>10741.05</td>\n      <td>10628.65</td>\n      <td>10727.35</td>\n    </tr>\n    <tr>\n      <th>03 Jan 2019</th>\n      <td>10796.80</td>\n      <td>10814.05</td>\n      <td>10661.25</td>\n      <td>10672.25</td>\n    </tr>\n    <tr>\n      <th>02 Jan 2019</th>\n      <td>10868.85</td>\n      <td>10895.35</td>\n      <td>10735.05</td>\n      <td>10792.50</td>\n    </tr>\n    <tr>\n      <th>01 Jan 2019</th>\n      <td>10881.70</td>\n      <td>10923.60</td>\n      <td>10807.10</td>\n      <td>10910.10</td>\n    </tr>\n  </tbody>\n</table>\n<p>245 rows × 4 columns</p>\n</div>"
     },
     "metadata": {},
     "execution_count": 4
    }
   ],
   "source": [
    "nifty50"
   ]
  },
  {
   "cell_type": "code",
   "execution_count": 5,
   "metadata": {},
   "outputs": [
    {
     "output_type": "execute_result",
     "data": {
      "text/plain": [
       "                 Open      High       Low     Close\n",
       "Date                                               \n",
       "31 Dec 2019  28495.00  28549.50  28270.25  28307.55\n",
       "30 Dec 2019  28528.95  28612.95  28406.70  28484.85\n",
       "27 Dec 2019  28354.50  28500.25  28319.90  28476.80\n",
       "26 Dec 2019  28409.10  28435.25  28259.75  28280.25\n",
       "24 Dec 2019  28423.70  28430.40  28318.75  28382.85\n",
       "...               ...       ...       ...       ...\n",
       "07 Jan 2019  27893.95  27932.00  27652.95  27706.60\n",
       "04 Jan 2019  27707.20  27842.75  27533.90  27719.50\n",
       "03 Jan 2019  27874.05  28045.30  27630.20  27674.65\n",
       "02 Jan 2019  28074.05  28188.40  27801.75  27876.95\n",
       "01 Jan 2019  28243.95  28252.20  27988.60  28111.65\n",
       "\n",
       "[245 rows x 4 columns]"
      ],
      "text/html": "<div>\n<style scoped>\n    .dataframe tbody tr th:only-of-type {\n        vertical-align: middle;\n    }\n\n    .dataframe tbody tr th {\n        vertical-align: top;\n    }\n\n    .dataframe thead th {\n        text-align: right;\n    }\n</style>\n<table border=\"1\" class=\"dataframe\">\n  <thead>\n    <tr style=\"text-align: right;\">\n      <th></th>\n      <th>Open</th>\n      <th>High</th>\n      <th>Low</th>\n      <th>Close</th>\n    </tr>\n    <tr>\n      <th>Date</th>\n      <th></th>\n      <th></th>\n      <th></th>\n      <th></th>\n    </tr>\n  </thead>\n  <tbody>\n    <tr>\n      <th>31 Dec 2019</th>\n      <td>28495.00</td>\n      <td>28549.50</td>\n      <td>28270.25</td>\n      <td>28307.55</td>\n    </tr>\n    <tr>\n      <th>30 Dec 2019</th>\n      <td>28528.95</td>\n      <td>28612.95</td>\n      <td>28406.70</td>\n      <td>28484.85</td>\n    </tr>\n    <tr>\n      <th>27 Dec 2019</th>\n      <td>28354.50</td>\n      <td>28500.25</td>\n      <td>28319.90</td>\n      <td>28476.80</td>\n    </tr>\n    <tr>\n      <th>26 Dec 2019</th>\n      <td>28409.10</td>\n      <td>28435.25</td>\n      <td>28259.75</td>\n      <td>28280.25</td>\n    </tr>\n    <tr>\n      <th>24 Dec 2019</th>\n      <td>28423.70</td>\n      <td>28430.40</td>\n      <td>28318.75</td>\n      <td>28382.85</td>\n    </tr>\n    <tr>\n      <th>...</th>\n      <td>...</td>\n      <td>...</td>\n      <td>...</td>\n      <td>...</td>\n    </tr>\n    <tr>\n      <th>07 Jan 2019</th>\n      <td>27893.95</td>\n      <td>27932.00</td>\n      <td>27652.95</td>\n      <td>27706.60</td>\n    </tr>\n    <tr>\n      <th>04 Jan 2019</th>\n      <td>27707.20</td>\n      <td>27842.75</td>\n      <td>27533.90</td>\n      <td>27719.50</td>\n    </tr>\n    <tr>\n      <th>03 Jan 2019</th>\n      <td>27874.05</td>\n      <td>28045.30</td>\n      <td>27630.20</td>\n      <td>27674.65</td>\n    </tr>\n    <tr>\n      <th>02 Jan 2019</th>\n      <td>28074.05</td>\n      <td>28188.40</td>\n      <td>27801.75</td>\n      <td>27876.95</td>\n    </tr>\n    <tr>\n      <th>01 Jan 2019</th>\n      <td>28243.95</td>\n      <td>28252.20</td>\n      <td>27988.60</td>\n      <td>28111.65</td>\n    </tr>\n  </tbody>\n</table>\n<p>245 rows × 4 columns</p>\n</div>"
     },
     "metadata": {},
     "execution_count": 5
    }
   ],
   "source": [
    "niftynext50"
   ]
  },
  {
   "source": [
    "### Task 1\n",
    "In 2019, in how many days was the NIFTY50 volatile (high > 105% of low)"
   ],
   "cell_type": "markdown",
   "metadata": {}
  },
  {
   "cell_type": "code",
   "execution_count": 6,
   "metadata": {},
   "outputs": [
    {
     "output_type": "execute_result",
     "data": {
      "text/plain": [
       "1"
      ]
     },
     "metadata": {},
     "execution_count": 6
    }
   ],
   "source": [
    "nifty50[nifty50[\"High\"]>1.05*nifty50[\"Low\"]][\"Open\"].count()"
   ]
  },
  {
   "source": [
    "### Task 2\n",
    "In 2019, in how many days was the NIFTYNEXT50 volatile (high > 105% of low)"
   ],
   "cell_type": "markdown",
   "metadata": {}
  },
  {
   "cell_type": "code",
   "execution_count": 7,
   "metadata": {},
   "outputs": [
    {
     "output_type": "execute_result",
     "data": {
      "text/plain": [
       "1"
      ]
     },
     "metadata": {},
     "execution_count": 7
    }
   ],
   "source": [
    "niftynext50[niftynext50[\"High\"]>1.05*niftynext50[\"Low\"]][\"Open\"].count()"
   ]
  },
  {
   "source": [
    "### Task 3\n",
    "In 2019, how many days belonged to the four classes NIFTY50 volatile / non-volatile and NIFTYNext50 volatile / non-volatile"
   ],
   "cell_type": "markdown",
   "metadata": {}
  },
  {
   "cell_type": "code",
   "execution_count": 8,
   "metadata": {},
   "outputs": [
    {
     "output_type": "stream",
     "name": "stdout",
     "text": [
      " nifty50_volatile 1 \n nifty50_non_volatile 244 \n niftynext50_volatile 1 \n niftynext50_non_volatile 244\n"
     ]
    }
   ],
   "source": [
    "nifty50_volatile = nifty50[nifty50[\"High\"]>1.05*nifty50[\"Low\"]][\"Open\"].count()\n",
    "nifty50_non_volatile = nifty50[nifty50[\"High\"]<=1.05*nifty50[\"Low\"]][\"Open\"].count()\n",
    "niftynext50_volatile = niftynext50[niftynext50[\"High\"]>1.05*niftynext50[\"Low\"]][\"Open\"].count()\n",
    "niftynext50_non_volatile = niftynext50[niftynext50[\"High\"]<=1.05*niftynext50[\"Low\"]][\"Open\"].count()\n",
    "print(\" nifty50_volatile\" , nifty50_volatile , \"\\n\" , \"nifty50_non_volatile\" , nifty50_non_volatile , \"\\n\" , \"niftynext50_volatile\" , niftynext50_volatile , \"\\n\" , \"niftynext50_non_volatile\" , niftynext50_non_volatile)"
   ]
  },
  {
   "source": [
    "### Task 4\n",
    "Compute the mean, median, std, var of closing values for each weekday in NIFTY50 for 2019"
   ],
   "cell_type": "markdown",
   "metadata": {}
  },
  {
   "cell_type": "code",
   "execution_count": 9,
   "metadata": {},
   "outputs": [
    {
     "output_type": "execute_result",
     "data": {
      "text/plain": [
       "                 Open      High       Low     Close\n",
       "Date                                               \n",
       "31 Dec 2019  12247.10  12247.10  12151.80  12168.45\n",
       "30 Dec 2019  12274.90  12286.45  12213.80  12255.85\n",
       "27 Dec 2019  12172.90  12258.45  12157.90  12245.80\n",
       "26 Dec 2019  12211.85  12221.55  12118.85  12126.55\n",
       "24 Dec 2019  12269.25  12283.70  12202.10  12214.55\n",
       "...               ...       ...       ...       ...\n",
       "07 Jan 2019  10804.85  10835.95  10750.15  10771.80\n",
       "04 Jan 2019  10699.70  10741.05  10628.65  10727.35\n",
       "03 Jan 2019  10796.80  10814.05  10661.25  10672.25\n",
       "02 Jan 2019  10868.85  10895.35  10735.05  10792.50\n",
       "01 Jan 2019  10881.70  10923.60  10807.10  10910.10\n",
       "\n",
       "[245 rows x 4 columns]"
      ],
      "text/html": "<div>\n<style scoped>\n    .dataframe tbody tr th:only-of-type {\n        vertical-align: middle;\n    }\n\n    .dataframe tbody tr th {\n        vertical-align: top;\n    }\n\n    .dataframe thead th {\n        text-align: right;\n    }\n</style>\n<table border=\"1\" class=\"dataframe\">\n  <thead>\n    <tr style=\"text-align: right;\">\n      <th></th>\n      <th>Open</th>\n      <th>High</th>\n      <th>Low</th>\n      <th>Close</th>\n    </tr>\n    <tr>\n      <th>Date</th>\n      <th></th>\n      <th></th>\n      <th></th>\n      <th></th>\n    </tr>\n  </thead>\n  <tbody>\n    <tr>\n      <th>31 Dec 2019</th>\n      <td>12247.10</td>\n      <td>12247.10</td>\n      <td>12151.80</td>\n      <td>12168.45</td>\n    </tr>\n    <tr>\n      <th>30 Dec 2019</th>\n      <td>12274.90</td>\n      <td>12286.45</td>\n      <td>12213.80</td>\n      <td>12255.85</td>\n    </tr>\n    <tr>\n      <th>27 Dec 2019</th>\n      <td>12172.90</td>\n      <td>12258.45</td>\n      <td>12157.90</td>\n      <td>12245.80</td>\n    </tr>\n    <tr>\n      <th>26 Dec 2019</th>\n      <td>12211.85</td>\n      <td>12221.55</td>\n      <td>12118.85</td>\n      <td>12126.55</td>\n    </tr>\n    <tr>\n      <th>24 Dec 2019</th>\n      <td>12269.25</td>\n      <td>12283.70</td>\n      <td>12202.10</td>\n      <td>12214.55</td>\n    </tr>\n    <tr>\n      <th>...</th>\n      <td>...</td>\n      <td>...</td>\n      <td>...</td>\n      <td>...</td>\n    </tr>\n    <tr>\n      <th>07 Jan 2019</th>\n      <td>10804.85</td>\n      <td>10835.95</td>\n      <td>10750.15</td>\n      <td>10771.80</td>\n    </tr>\n    <tr>\n      <th>04 Jan 2019</th>\n      <td>10699.70</td>\n      <td>10741.05</td>\n      <td>10628.65</td>\n      <td>10727.35</td>\n    </tr>\n    <tr>\n      <th>03 Jan 2019</th>\n      <td>10796.80</td>\n      <td>10814.05</td>\n      <td>10661.25</td>\n      <td>10672.25</td>\n    </tr>\n    <tr>\n      <th>02 Jan 2019</th>\n      <td>10868.85</td>\n      <td>10895.35</td>\n      <td>10735.05</td>\n      <td>10792.50</td>\n    </tr>\n    <tr>\n      <th>01 Jan 2019</th>\n      <td>10881.70</td>\n      <td>10923.60</td>\n      <td>10807.10</td>\n      <td>10910.10</td>\n    </tr>\n  </tbody>\n</table>\n<p>245 rows × 4 columns</p>\n</div>"
     },
     "metadata": {},
     "execution_count": 9
    }
   ],
   "source": [
    "nifty50"
   ]
  },
  {
   "cell_type": "code",
   "execution_count": 10,
   "metadata": {},
   "outputs": [],
   "source": [
    "new_index = map(pd.Timestamp , nifty50.index )\n",
    "# changing datatype of our index column so as to recognise the day i.e. monday , tuesday etc."
   ]
  },
  {
   "cell_type": "code",
   "execution_count": 11,
   "metadata": {},
   "outputs": [],
   "source": [
    "new_nifty50 = pd.DataFrame(nifty50 , index = new_index)\n",
    "# new dataframe with new datatime index"
   ]
  },
  {
   "cell_type": "code",
   "execution_count": 12,
   "metadata": {},
   "outputs": [
    {
     "output_type": "stream",
     "name": "stdout",
     "text": [
      "\n",
      " Weekday  1 \n",
      "                Open          High           Low         Close\n",
      "count     46.000000     46.000000     46.000000     46.000000\n",
      "mean   11478.103261  11525.119565  11401.073913  11463.535870\n",
      "std      452.453402    457.472630    464.591954    463.019749\n",
      "min    10738.650000  10759.900000  10628.400000  10640.950000\n",
      "25%    11017.412500  11089.450000  10985.612500  11054.887500\n",
      "50%    11574.250000  11625.475000  11497.325000  11573.475000\n",
      "75%    11852.625000  11920.650000  11826.200000  11879.775000\n",
      "max    12274.900000  12287.150000  12213.800000  12262.750000\n",
      "\n",
      " Weekday  2 \n",
      "                Open          High           Low         Close\n",
      "count     50.000000     50.000000     50.000000     50.000000\n",
      "mean   11454.366000  11507.168000  11380.190000  11444.318000\n",
      "std      466.996035    454.561556    467.333112    462.829541\n",
      "min    10636.700000  10690.350000  10583.650000  10604.350000\n",
      "25%    11016.050000  11032.987500  10890.425000  10958.050000\n",
      "50%    11561.150000  11614.250000  11472.725000  11544.150000\n",
      "75%    11834.925000  11866.262500  11719.362500  11794.125000\n",
      "max    12269.250000  12283.700000  12202.100000  12214.550000\n",
      "\n",
      " Weekday  3 \n",
      "                Open         High           Low         Close\n",
      "count     47.000000     47.00000     47.000000     47.000000\n",
      "mean   11399.435106  11442.82234  11329.692553  11385.222340\n",
      "std      440.975212    441.71388    450.043639    449.850387\n",
      "min    10655.450000  10710.20000  10612.850000  10651.800000\n",
      "25%    10984.175000  11044.50000  10921.125000  10974.050000\n",
      "50%    11478.700000  11481.05000  11411.100000  11440.200000\n",
      "75%    11756.300000  11837.17500  11719.975000  11789.175000\n",
      "max    12197.000000  12237.70000  12163.450000  12221.650000\n",
      "\n",
      " Weekday  4 \n",
      "                Open          High           Low         Close\n",
      "count     50.000000     50.000000     50.000000     50.000000\n",
      "mean   11448.612000  11494.762000  11377.724000  11430.373000\n",
      "std      466.917469    468.889128    471.759415    470.461726\n",
      "min    10690.550000  10792.700000  10661.250000  10672.250000\n",
      "25%    11011.612500  11062.725000  10891.350000  10980.700000\n",
      "50%    11468.075000  11599.050000  11459.400000  11576.900000\n",
      "75%    11864.187500  11926.300000  11813.450000  11843.200000\n",
      "max    12223.400000  12268.350000  12191.150000  12259.700000\n",
      "\n",
      " Weekday  5 \n",
      "                Open          High           Low         Close\n",
      "count     51.000000     51.000000     51.000000     51.000000\n",
      "mean   11436.603922  11498.164706  11361.223529  11435.394118\n",
      "std      470.604609    449.917590    466.723536    443.779665\n",
      "min    10699.600000  10741.050000  10620.400000  10724.400000\n",
      "25%    10987.300000  11058.825000  10899.550000  11029.325000\n",
      "50%    11556.350000  11593.600000  11434.550000  11456.900000\n",
      "75%    11863.175000  11884.600000  11772.500000  11817.225000\n",
      "max    12266.450000  12293.900000  12252.750000  12271.800000\n"
     ]
    }
   ],
   "source": [
    "for i in range(5):\n",
    "    print(\"\\n\" , \"Weekday \" , i+1 , \"\\n\" , new_nifty50[new_nifty50.index.dayofweek == i].describe())\n",
    "#used describe to calculate all as asked in problem. individual snippets can also be used"
   ]
  },
  {
   "source": [
    "### Task 5\n",
    "Compute the mean, median, std, var of closing values for each month in NIFTY50 for 2019"
   ],
   "cell_type": "markdown",
   "metadata": {}
  },
  {
   "cell_type": "code",
   "execution_count": 13,
   "metadata": {},
   "outputs": [
    {
     "output_type": "stream",
     "name": "stdout",
     "text": [
      "\n",
      " Month  1 \n",
      "                Open          High           Low         Close\n",
      "count     23.000000     23.000000     23.000000     23.000000\n",
      "mean   10828.586957  10861.900000  10750.984783  10809.463043\n",
      "std       83.166975     77.989118     88.470616     92.241175\n",
      "min    10653.700000  10690.350000  10583.650000  10651.800000\n",
      "25%    10789.350000  10816.250000  10685.450000  10754.700000\n",
      "50%    10844.050000  10866.600000  10750.150000  10821.600000\n",
      "75%    10890.675000  10928.175000  10809.525000  10888.550000\n",
      "max    10949.800000  10987.450000  10885.750000  10961.850000\n",
      "\n",
      " Month  2 \n",
      "                Open          High           Low         Close\n",
      "count     20.000000     20.000000     20.000000     20.000000\n",
      "mean   10841.817500  10891.947500  10781.597500  10833.840000\n",
      "std      110.311563    109.164182    117.152266    119.606867\n",
      "min    10636.700000  10722.850000  10585.650000  10604.350000\n",
      "25%    10779.012500  10799.337500  10720.812500  10778.900000\n",
      "50%    10858.525000  10890.200000  10778.475000  10819.025000\n",
      "75%    10888.062500  10943.950000  10832.125000  10898.300000\n",
      "max    11070.450000  11118.100000  11043.600000  11069.400000\n",
      "\n",
      " Month  3 \n",
      "                Open          High           Low         Close\n",
      "count     19.000000     19.000000     19.000000     19.000000\n",
      "mean   11300.152632  11350.397368  11253.897368  11317.242105\n",
      "std      242.787975    235.648510    229.217006    223.401346\n",
      "min    10842.650000  10877.900000  10817.000000  10863.500000\n",
      "25%    11073.350000  11134.975000  11043.475000  11113.125000\n",
      "50%    11376.850000  11395.650000  11313.750000  11354.250000\n",
      "75%    11487.075000  11545.025000  11423.775000  11472.725000\n",
      "max    11625.450000  11630.350000  11570.150000  11623.900000\n",
      "\n",
      " Month  4 \n",
      "                Open          High           Low         Close\n",
      "count     19.000000     19.000000     19.000000     19.000000\n",
      "mean   11681.492105  11722.126316  11616.115789  11666.452632\n",
      "std       66.620624     61.484287     56.902202     65.824517\n",
      "min    11592.550000  11606.700000  11549.100000  11575.950000\n",
      "25%    11625.675000  11681.975000  11570.725000  11601.250000\n",
      "50%    11667.000000  11727.050000  11609.500000  11665.950000\n",
      "75%    11731.175000  11758.625000  11652.050000  11719.675000\n",
      "max    11856.150000  11856.150000  11738.500000  11787.150000\n",
      "\n",
      " Month  5 \n",
      "                Open          High           Low         Close\n",
      "count     22.000000     22.000000     22.000000     22.000000\n",
      "mean   11610.115909  11676.856818  11523.375000  11592.022727\n",
      "std      279.379451    277.882378    269.359061    279.155921\n",
      "min    11151.650000  11281.550000  11108.300000  11148.200000\n",
      "25%    11316.212500  11374.737500  11256.250000  11316.212500\n",
      "50%    11687.250000  11777.850000  11603.100000  11683.075000\n",
      "75%    11861.612500  11919.812500  11699.500000  11840.137500\n",
      "max    11999.800000  12041.150000  11864.900000  11945.900000\n",
      "\n",
      " Month  6 \n",
      "                Open          High           Low         Close\n",
      "count     19.000000     19.000000     19.000000     19.000000\n",
      "mean   11852.436842  11904.468421  11774.860526  11839.023684\n",
      "std      119.058410    105.533059    110.939993    115.116579\n",
      "min    11653.650000  11727.200000  11625.100000  11672.150000\n",
      "25%    11756.300000  11835.725000  11663.975000  11756.475000\n",
      "50%    11861.150000  11897.500000  11775.500000  11841.550000\n",
      "75%    11944.325000  11968.750000  11848.300000  11910.125000\n",
      "max    12052.650000  12103.050000  12005.850000  12088.550000\n",
      "\n",
      " Month  7 \n",
      "                Open          High           Low         Close\n",
      "count     23.000000     23.000000     23.000000     23.000000\n",
      "mean   11561.869565  11597.667391  11479.084783  11523.110870\n",
      "std      257.427254    245.051182    263.258549    260.085388\n",
      "min    11034.050000  11145.300000  10999.400000  11085.400000\n",
      "25%    11347.350000  11379.775000  11270.300000  11307.675000\n",
      "50%    11596.650000  11618.400000  11519.500000  11555.900000\n",
      "75%    11723.000000  11739.275000  11616.775000  11675.050000\n",
      "max    11964.750000  11981.750000  11923.650000  11946.750000\n",
      "\n",
      " Month  8 \n",
      "                Open          High           Low         Close\n",
      "count     20.000000     20.000000     20.000000     20.000000\n",
      "mean   10990.347500  11050.635000  10885.282500  10976.500000\n",
      "std      109.287517     86.212069    111.391059     97.097806\n",
      "min    10699.600000  10862.550000  10637.150000  10741.350000\n",
      "25%    10924.050000  11020.462500  10830.375000  10924.062500\n",
      "50%    11001.775000  11069.475000  10891.300000  11007.175000\n",
      "75%    11069.900000  11092.525000  10948.025000  11046.525000\n",
      "max    11139.400000  11181.450000  11062.800000  11109.650000\n",
      "\n",
      " Month  9 \n",
      "                Open          High           Low         Close\n",
      "count     19.000000     19.000000     19.000000     19.000000\n",
      "mean   11114.828947  11197.150000  11038.368421  11124.289474\n",
      "std      305.000568    308.136259    311.505006    310.891386\n",
      "min    10746.800000  10845.200000  10670.250000  10704.800000\n",
      "25%    10878.300000  10962.275000  10800.675000  10846.275000\n",
      "50%    10994.850000  11054.800000  10945.750000  11003.500000\n",
      "75%    11480.500000  11536.600000  11403.450000  11457.325000\n",
      "max    11590.700000  11694.850000  11539.200000  11600.200000\n",
      "\n",
      " Month  10 \n",
      "                Open          High           Low         Close\n",
      "count     20.000000     20.000000     20.000000     20.000000\n",
      "mean   11498.172500  11559.372500  11416.267500  11490.205000\n",
      "std      211.169489    201.184876    220.714934    217.418539\n",
      "min    11152.950000  11233.850000  11090.150000  11126.400000\n",
      "25%    11332.487500  11392.825000  11238.062500  11313.825000\n",
      "50%    11490.850000  11576.650000  11425.375000  11523.300000\n",
      "75%    11648.900000  11680.875000  11559.212500  11609.862500\n",
      "max    11890.450000  11945.000000  11855.100000  11877.450000\n",
      "\n",
      " Month  11 \n",
      "                Open          High           Low         Close\n",
      "count     20.000000     20.000000     20.000000     20.000000\n",
      "mean   11973.602500  12013.580000  11915.495000  11964.132500\n",
      "std       86.544612     78.421775     79.934343     84.216057\n",
      "min    11858.750000  11895.650000  11802.650000  11840.450000\n",
      "25%    11910.700000  11955.837500  11859.912500  11904.975000\n",
      "50%    11948.100000  11996.025000  11886.125000  11940.700000\n",
      "75%    12022.237500  12050.075000  11959.187500  12018.462500\n",
      "max    12146.200000  12158.800000  12099.950000  12151.150000\n",
      "\n",
      " Month  12 \n",
      "                Open          High           Low         Close\n",
      "count     21.000000     21.000000     21.000000     21.000000\n",
      "mean   12111.095238  12145.864286  12052.730952  12096.880952\n",
      "std      127.092222    121.679912    133.914363    134.226928\n",
      "min    11867.350000  11923.200000  11832.300000  11856.800000\n",
      "25%    12026.400000  12057.050000  11935.300000  11994.200000\n",
      "50%    12131.350000  12137.150000  12046.300000  12086.700000\n",
      "75%    12223.400000  12258.450000  12163.450000  12221.650000\n",
      "max    12274.900000  12293.900000  12252.750000  12271.800000\n"
     ]
    }
   ],
   "source": [
    "for i in range(12):\n",
    "    print(\"\\n\" , \"Month \" , i+1 , \"\\n\" , new_nifty50[new_nifty50.index.month == i+1].describe())"
   ]
  },
  {
   "source": [
    "### Task 6\n",
    "On the days in which NIFTY50 closed higher than the open, what was the mean of (close - open) for NIFTYNext50"
   ],
   "cell_type": "markdown",
   "metadata": {}
  },
  {
   "cell_type": "code",
   "execution_count": 14,
   "metadata": {},
   "outputs": [],
   "source": [
    "new_index2 = map(pd.Timestamp , niftynext50.index )"
   ]
  },
  {
   "cell_type": "code",
   "execution_count": 15,
   "metadata": {},
   "outputs": [],
   "source": [
    "new_niftynext50 = pd.DataFrame(niftynext50 , index = new_index2)"
   ]
  },
  {
   "cell_type": "code",
   "execution_count": 16,
   "metadata": {},
   "outputs": [
    {
     "output_type": "execute_result",
     "data": {
      "text/plain": [
       "118.70188679245271"
      ]
     },
     "metadata": {},
     "execution_count": 16
    }
   ],
   "source": [
    "(new_niftynext50[new_nifty50.Close > new_nifty50.Open].Close - new_niftynext50[new_nifty50.Close > new_nifty50.Open].Open).sum()/len(new_niftynext50[new_nifty50.Close > new_nifty50.Open])"
   ]
  },
  {
   "source": [
    "### Task 7\n",
    "In 2019, how many days had the day's high lower than the previous day's low in NIFTY50"
   ],
   "cell_type": "markdown",
   "metadata": {}
  },
  {
   "cell_type": "code",
   "execution_count": 17,
   "metadata": {},
   "outputs": [
    {
     "output_type": "execute_result",
     "data": {
      "text/plain": [
       "                Open      High       Low     Close\n",
       "2019-12-31  12247.10  12247.10  12151.80  12168.45\n",
       "2019-12-30  12274.90  12286.45  12213.80  12255.85\n",
       "2019-12-27  12172.90  12258.45  12157.90  12245.80\n",
       "2019-12-26  12211.85  12221.55  12118.85  12126.55\n",
       "2019-12-24  12269.25  12283.70  12202.10  12214.55\n",
       "...              ...       ...       ...       ...\n",
       "2019-01-07  10804.85  10835.95  10750.15  10771.80\n",
       "2019-01-04  10699.70  10741.05  10628.65  10727.35\n",
       "2019-01-03  10796.80  10814.05  10661.25  10672.25\n",
       "2019-01-02  10868.85  10895.35  10735.05  10792.50\n",
       "2019-01-01  10881.70  10923.60  10807.10  10910.10\n",
       "\n",
       "[245 rows x 4 columns]"
      ],
      "text/html": "<div>\n<style scoped>\n    .dataframe tbody tr th:only-of-type {\n        vertical-align: middle;\n    }\n\n    .dataframe tbody tr th {\n        vertical-align: top;\n    }\n\n    .dataframe thead th {\n        text-align: right;\n    }\n</style>\n<table border=\"1\" class=\"dataframe\">\n  <thead>\n    <tr style=\"text-align: right;\">\n      <th></th>\n      <th>Open</th>\n      <th>High</th>\n      <th>Low</th>\n      <th>Close</th>\n    </tr>\n  </thead>\n  <tbody>\n    <tr>\n      <th>2019-12-31</th>\n      <td>12247.10</td>\n      <td>12247.10</td>\n      <td>12151.80</td>\n      <td>12168.45</td>\n    </tr>\n    <tr>\n      <th>2019-12-30</th>\n      <td>12274.90</td>\n      <td>12286.45</td>\n      <td>12213.80</td>\n      <td>12255.85</td>\n    </tr>\n    <tr>\n      <th>2019-12-27</th>\n      <td>12172.90</td>\n      <td>12258.45</td>\n      <td>12157.90</td>\n      <td>12245.80</td>\n    </tr>\n    <tr>\n      <th>2019-12-26</th>\n      <td>12211.85</td>\n      <td>12221.55</td>\n      <td>12118.85</td>\n      <td>12126.55</td>\n    </tr>\n    <tr>\n      <th>2019-12-24</th>\n      <td>12269.25</td>\n      <td>12283.70</td>\n      <td>12202.10</td>\n      <td>12214.55</td>\n    </tr>\n    <tr>\n      <th>...</th>\n      <td>...</td>\n      <td>...</td>\n      <td>...</td>\n      <td>...</td>\n    </tr>\n    <tr>\n      <th>2019-01-07</th>\n      <td>10804.85</td>\n      <td>10835.95</td>\n      <td>10750.15</td>\n      <td>10771.80</td>\n    </tr>\n    <tr>\n      <th>2019-01-04</th>\n      <td>10699.70</td>\n      <td>10741.05</td>\n      <td>10628.65</td>\n      <td>10727.35</td>\n    </tr>\n    <tr>\n      <th>2019-01-03</th>\n      <td>10796.80</td>\n      <td>10814.05</td>\n      <td>10661.25</td>\n      <td>10672.25</td>\n    </tr>\n    <tr>\n      <th>2019-01-02</th>\n      <td>10868.85</td>\n      <td>10895.35</td>\n      <td>10735.05</td>\n      <td>10792.50</td>\n    </tr>\n    <tr>\n      <th>2019-01-01</th>\n      <td>10881.70</td>\n      <td>10923.60</td>\n      <td>10807.10</td>\n      <td>10910.10</td>\n    </tr>\n  </tbody>\n</table>\n<p>245 rows × 4 columns</p>\n</div>"
     },
     "metadata": {},
     "execution_count": 17
    }
   ],
   "source": [
    "new_nifty50"
   ]
  },
  {
   "cell_type": "code",
   "execution_count": 34,
   "metadata": {},
   "outputs": [
    {
     "output_type": "stream",
     "name": "stdout",
     "text": [
      "7\n"
     ]
    }
   ],
   "source": [
    "count = 0\n",
    "for i in range(len(new_nifty50)-1):\n",
    "    if new_nifty50.iloc[i].High < new_nifty50.iloc[i+1].Low:\n",
    "        count += 1\n",
    "    else:\n",
    "        continue\n",
    "print(count)\n",
    "#carefully look at the index. data is given in reverse order hence the code snippet used as above"
   ]
  },
  {
   "source": [
    "### Task 8\n",
    "In 2019, on how many days did the day's close exceed the 30 day moving average in NIFTY50 (exclude first month)"
   ],
   "cell_type": "markdown",
   "metadata": {}
  },
  {
   "cell_type": "code",
   "execution_count": 69,
   "metadata": {},
   "outputs": [],
   "source": [
    "new_index3 = new_nifty50.index[::-1]\n",
    "#reversed the index to get it in right order"
   ]
  },
  {
   "cell_type": "code",
   "execution_count": 36,
   "metadata": {},
   "outputs": [
    {
     "output_type": "execute_result",
     "data": {
      "text/plain": [
       "DatetimeIndex(['2019-01-01', '2019-01-02', '2019-01-03', '2019-01-04',\n",
       "               '2019-01-07', '2019-01-08', '2019-01-09', '2019-01-10',\n",
       "               '2019-01-11', '2019-01-14',\n",
       "               ...\n",
       "               '2019-12-17', '2019-12-18', '2019-12-19', '2019-12-20',\n",
       "               '2019-12-23', '2019-12-24', '2019-12-26', '2019-12-27',\n",
       "               '2019-12-30', '2019-12-31'],\n",
       "              dtype='datetime64[ns]', length=245, freq=None)"
      ]
     },
     "metadata": {},
     "execution_count": 36
    }
   ],
   "source": [
    "new_index3"
   ]
  },
  {
   "cell_type": "code",
   "execution_count": 70,
   "metadata": {},
   "outputs": [],
   "source": [
    "new_nifty50_reversed = pd.DataFrame(new_nifty50 , index = new_index3)\n",
    "#reversed the complete data as per the reversed index"
   ]
  },
  {
   "cell_type": "code",
   "execution_count": 38,
   "metadata": {},
   "outputs": [
    {
     "output_type": "execute_result",
     "data": {
      "text/plain": [
       "                Open      High       Low     Close\n",
       "2019-01-01  10881.70  10923.60  10807.10  10910.10\n",
       "2019-01-02  10868.85  10895.35  10735.05  10792.50\n",
       "2019-01-03  10796.80  10814.05  10661.25  10672.25\n",
       "2019-01-04  10699.70  10741.05  10628.65  10727.35\n",
       "2019-01-07  10804.85  10835.95  10750.15  10771.80\n",
       "...              ...       ...       ...       ...\n",
       "2019-12-24  12269.25  12283.70  12202.10  12214.55\n",
       "2019-12-26  12211.85  12221.55  12118.85  12126.55\n",
       "2019-12-27  12172.90  12258.45  12157.90  12245.80\n",
       "2019-12-30  12274.90  12286.45  12213.80  12255.85\n",
       "2019-12-31  12247.10  12247.10  12151.80  12168.45\n",
       "\n",
       "[245 rows x 4 columns]"
      ],
      "text/html": "<div>\n<style scoped>\n    .dataframe tbody tr th:only-of-type {\n        vertical-align: middle;\n    }\n\n    .dataframe tbody tr th {\n        vertical-align: top;\n    }\n\n    .dataframe thead th {\n        text-align: right;\n    }\n</style>\n<table border=\"1\" class=\"dataframe\">\n  <thead>\n    <tr style=\"text-align: right;\">\n      <th></th>\n      <th>Open</th>\n      <th>High</th>\n      <th>Low</th>\n      <th>Close</th>\n    </tr>\n  </thead>\n  <tbody>\n    <tr>\n      <th>2019-01-01</th>\n      <td>10881.70</td>\n      <td>10923.60</td>\n      <td>10807.10</td>\n      <td>10910.10</td>\n    </tr>\n    <tr>\n      <th>2019-01-02</th>\n      <td>10868.85</td>\n      <td>10895.35</td>\n      <td>10735.05</td>\n      <td>10792.50</td>\n    </tr>\n    <tr>\n      <th>2019-01-03</th>\n      <td>10796.80</td>\n      <td>10814.05</td>\n      <td>10661.25</td>\n      <td>10672.25</td>\n    </tr>\n    <tr>\n      <th>2019-01-04</th>\n      <td>10699.70</td>\n      <td>10741.05</td>\n      <td>10628.65</td>\n      <td>10727.35</td>\n    </tr>\n    <tr>\n      <th>2019-01-07</th>\n      <td>10804.85</td>\n      <td>10835.95</td>\n      <td>10750.15</td>\n      <td>10771.80</td>\n    </tr>\n    <tr>\n      <th>...</th>\n      <td>...</td>\n      <td>...</td>\n      <td>...</td>\n      <td>...</td>\n    </tr>\n    <tr>\n      <th>2019-12-24</th>\n      <td>12269.25</td>\n      <td>12283.70</td>\n      <td>12202.10</td>\n      <td>12214.55</td>\n    </tr>\n    <tr>\n      <th>2019-12-26</th>\n      <td>12211.85</td>\n      <td>12221.55</td>\n      <td>12118.85</td>\n      <td>12126.55</td>\n    </tr>\n    <tr>\n      <th>2019-12-27</th>\n      <td>12172.90</td>\n      <td>12258.45</td>\n      <td>12157.90</td>\n      <td>12245.80</td>\n    </tr>\n    <tr>\n      <th>2019-12-30</th>\n      <td>12274.90</td>\n      <td>12286.45</td>\n      <td>12213.80</td>\n      <td>12255.85</td>\n    </tr>\n    <tr>\n      <th>2019-12-31</th>\n      <td>12247.10</td>\n      <td>12247.10</td>\n      <td>12151.80</td>\n      <td>12168.45</td>\n    </tr>\n  </tbody>\n</table>\n<p>245 rows × 4 columns</p>\n</div>"
     },
     "metadata": {},
     "execution_count": 38
    }
   ],
   "source": [
    "new_nifty50_reversed"
   ]
  },
  {
   "cell_type": "code",
   "execution_count": 71,
   "metadata": {},
   "outputs": [
    {
     "output_type": "execute_result",
     "data": {
      "text/plain": [
       "Open     23\n",
       "High     23\n",
       "Low      23\n",
       "Close    23\n",
       "dtype: int64"
      ]
     },
     "metadata": {},
     "execution_count": 71
    }
   ],
   "source": [
    "new_nifty50[new_nifty50.index.month == 1].count()\n",
    "#counted number of days in first month to exclude it"
   ]
  },
  {
   "cell_type": "code",
   "execution_count": 66,
   "metadata": {},
   "outputs": [
    {
     "output_type": "stream",
     "name": "stdout",
     "text": [
      "140\n"
     ]
    }
   ],
   "source": [
    "count = 0\n",
    "for i in range(23 ,len(new_nifty50_reversed)):\n",
    "    if new_nifty50_reversed.iloc[i].Close > new_nifty50_reversed.rolling(30).mean().Close.iloc[i]:\n",
    "        count += 1\n",
    "    else:\n",
    "        continue\n",
    "print(count)\n",
    "#Method 1"
   ]
  },
  {
   "cell_type": "code",
   "execution_count": 67,
   "metadata": {},
   "outputs": [
    {
     "output_type": "execute_result",
     "data": {
      "text/plain": [
       "140"
      ]
     },
     "metadata": {},
     "execution_count": 67
    }
   ],
   "source": [
    "new_nifty50_reversed[new_nifty50_reversed.Close > new_nifty50_reversed.rolling(30).mean().Close].Close.count()\n",
    "#Method 2"
   ]
  }
 ]
}